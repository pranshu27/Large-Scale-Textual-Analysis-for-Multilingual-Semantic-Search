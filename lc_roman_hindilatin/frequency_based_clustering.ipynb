{
 "cells": [
  {
   "cell_type": "markdown",
   "metadata": {},
   "source": [
    "## Binary language detection using character frequency analysis"
   ]
  },
  {
   "cell_type": "code",
   "execution_count": 1,
   "metadata": {},
   "outputs": [
    {
     "name": "stderr",
     "output_type": "stream",
     "text": [
      "[nltk_data] Downloading package stopwords to /Users/joker/nltk_data...\n",
      "[nltk_data]   Package stopwords is already up-to-date!\n"
     ]
    }
   ],
   "source": [
    "import re\n",
    "import string\n",
    "import pandas as pd\n",
    "from math import log\n",
    "import os\n",
    "import random\n",
    "import re\n",
    "import string\n",
    "from collections import Counter\n",
    "from sklearn.cluster import KMeans\n",
    "\n",
    "import nltk\n",
    "import numpy as np\n",
    "import pandas as pd\n",
    "\n",
    "from gensim.models import Word2Vec\n",
    "\n",
    "from nltk import word_tokenize\n",
    "from nltk.tokenize import wordpunct_tokenize\n",
    "from nltk.corpus import stopwords\n",
    "\n",
    "import warnings\n",
    "warnings.filterwarnings(\"ignore\")\n",
    "nltk.download(\"stopwords\")\n",
    "\n",
    "\n",
    "SEED = 42\n",
    "random.seed(SEED)\n",
    "os.environ[\"PYTHONHASHSEED\"] = str(SEED)\n",
    "np.random.seed(SEED)"
   ]
  },
  {
   "cell_type": "markdown",
   "metadata": {},
   "source": [
    "### Reading a set of 100K randomly picked grievances"
   ]
  },
  {
   "cell_type": "code",
   "execution_count": 2,
   "metadata": {},
   "outputs": [],
   "source": [
    "#df = pd.read_csv(r\"/Users/joker/Thesis/data/chunk0.csv\")\n",
    "df = pd.read_csv(r\"../data_100k.csv\")\n",
    "df = df.loc[:, ['description']]\n",
    "\n"
   ]
  },
  {
   "cell_type": "markdown",
   "metadata": {},
   "source": [
    "### Sample of read data"
   ]
  },
  {
   "cell_type": "code",
   "execution_count": 3,
   "metadata": {},
   "outputs": [
    {
     "data": {
      "text/html": [
       "<div>\n",
       "<style scoped>\n",
       "    .dataframe tbody tr th:only-of-type {\n",
       "        vertical-align: middle;\n",
       "    }\n",
       "\n",
       "    .dataframe tbody tr th {\n",
       "        vertical-align: top;\n",
       "    }\n",
       "\n",
       "    .dataframe thead th {\n",
       "        text-align: right;\n",
       "    }\n",
       "</style>\n",
       "<table border=\"1\" class=\"dataframe\">\n",
       "  <thead>\n",
       "    <tr style=\"text-align: right;\">\n",
       "      <th></th>\n",
       "      <th>description</th>\n",
       "    </tr>\n",
       "  </thead>\n",
       "  <tbody>\n",
       "    <tr>\n",
       "      <th>0</th>\n",
       "      <td>Respected Sir &amp;amp; Madam,I have applied for t...</td>\n",
       "    </tr>\n",
       "    <tr>\n",
       "      <th>1</th>\n",
       "      <td>Dear Prime Minister,What I am asking for is th...</td>\n",
       "    </tr>\n",
       "    <tr>\n",
       "      <th>2</th>\n",
       "      <td>Dear Prime Minister, I have enclosed a data sh...</td>\n",
       "    </tr>\n",
       "    <tr>\n",
       "      <th>3</th>\n",
       "      <td>Sir mai virendra pratap singh uttar pradesh ka...</td>\n",
       "    </tr>\n",
       "    <tr>\n",
       "      <th>4</th>\n",
       "      <td>Hello Sir,I am Mr. Kishor Punamchand Dave aged...</td>\n",
       "    </tr>\n",
       "    <tr>\n",
       "      <th>...</th>\n",
       "      <td>...</td>\n",
       "    </tr>\n",
       "    <tr>\n",
       "      <th>99995</th>\n",
       "      <td>Dear Modi Ji, Me and my family&amp;#39;s greetings...</td>\n",
       "    </tr>\n",
       "    <tr>\n",
       "      <th>99996</th>\n",
       "      <td>Namaste Ji,Myself A.Kamalakannan working in a ...</td>\n",
       "    </tr>\n",
       "    <tr>\n",
       "      <th>99997</th>\n",
       "      <td>Respected PMMy father purchase 1st new car in ...</td>\n",
       "    </tr>\n",
       "    <tr>\n",
       "      <th>99998</th>\n",
       "      <td>Respected Sir,Greetings,I am a female student ...</td>\n",
       "    </tr>\n",
       "    <tr>\n",
       "      <th>99999</th>\n",
       "      <td>M pichle 3 year se preparation kr rhi hu.. Par...</td>\n",
       "    </tr>\n",
       "  </tbody>\n",
       "</table>\n",
       "<p>100000 rows × 1 columns</p>\n",
       "</div>"
      ],
      "text/plain": [
       "                                             description\n",
       "0      Respected Sir &amp; Madam,I have applied for t...\n",
       "1      Dear Prime Minister,What I am asking for is th...\n",
       "2      Dear Prime Minister, I have enclosed a data sh...\n",
       "3      Sir mai virendra pratap singh uttar pradesh ka...\n",
       "4      Hello Sir,I am Mr. Kishor Punamchand Dave aged...\n",
       "...                                                  ...\n",
       "99995  Dear Modi Ji, Me and my family&#39;s greetings...\n",
       "99996  Namaste Ji,Myself A.Kamalakannan working in a ...\n",
       "99997  Respected PMMy father purchase 1st new car in ...\n",
       "99998  Respected Sir,Greetings,I am a female student ...\n",
       "99999  M pichle 3 year se preparation kr rhi hu.. Par...\n",
       "\n",
       "[100000 rows x 1 columns]"
      ]
     },
     "execution_count": 3,
     "metadata": {},
     "output_type": "execute_result"
    }
   ],
   "source": [
    "df"
   ]
  },
  {
   "cell_type": "markdown",
   "metadata": {},
   "source": [
    "### Clean_text is a function defined to remove unnecessary things like extra spaces, punctuation, numbers etc from the text"
   ]
  },
  {
   "cell_type": "code",
   "execution_count": 4,
   "metadata": {},
   "outputs": [],
   "source": [
    "def freq1(sent):\n",
    "    tmp = {}\n",
    "    for letter in sent:\n",
    "        if 97 <= ord(letter) <= 122:\n",
    "            # print(\"here\")\n",
    "            try: \n",
    "                tmp[letter]+=1\n",
    "            except:\n",
    "                tmp[letter]=1 \n",
    "    #arr[::-1].sort()\n",
    "    \n",
    "    tmp = { k:v for k,v in sorted(tmp.items(), key=lambda x: x[1], reverse=True) }\n",
    "    return tmp "
   ]
  },
  {
   "cell_type": "code",
   "execution_count": 5,
   "metadata": {},
   "outputs": [],
   "source": [
    "def clean_text(text):\n",
    "    text = str(text).lower() \n",
    "    text = re.sub(r\"\\[(.*?)\\]\", \"\", text)  \n",
    "    text = re.sub(r\"\\s+\", \" \", text)  # Remove multiple spaces in content\n",
    "    text = re.sub(r\"\\w+…|…\", \"\", text) \n",
    "    text = re.sub(r\"(?<=\\w)-(?=\\w)\", \" \", text) \n",
    "    text = re.sub(\n",
    "        f\"[{re.escape(string.punctuation)}]\", \"\", text\n",
    "    )  # Remove punctuation\n",
    "    text = re.sub('[^a-z\\s]+', '', text)\n",
    "    return text"
   ]
  },
  {
   "cell_type": "code",
   "execution_count": 6,
   "metadata": {},
   "outputs": [],
   "source": [
    "df['description_cleaned'] = df['description'].apply(clean_text)"
   ]
  },
  {
   "cell_type": "code",
   "execution_count": 7,
   "metadata": {},
   "outputs": [
    {
     "data": {
      "text/plain": [
       "100000"
      ]
     },
     "execution_count": 7,
     "metadata": {},
     "output_type": "execute_result"
    }
   ],
   "source": [
    "len(df)"
   ]
  },
  {
   "cell_type": "markdown",
   "metadata": {},
   "source": [
    "### Removing cleaned grievances having 0 length"
   ]
  },
  {
   "cell_type": "code",
   "execution_count": 8,
   "metadata": {},
   "outputs": [],
   "source": [
    "df = df.loc[df.description_cleaned.map(lambda x: len(x) > 0), :]"
   ]
  },
  {
   "cell_type": "code",
   "execution_count": 9,
   "metadata": {},
   "outputs": [
    {
     "data": {
      "text/plain": [
       "99995"
      ]
     },
     "execution_count": 9,
     "metadata": {},
     "output_type": "execute_result"
    }
   ],
   "source": [
    "len(df)"
   ]
  },
  {
   "cell_type": "markdown",
   "metadata": {},
   "source": [
    "### Sample of cleaned data"
   ]
  },
  {
   "cell_type": "code",
   "execution_count": 10,
   "metadata": {},
   "outputs": [
    {
     "data": {
      "text/plain": [
       "0        respected sir amp madami have applied for the ...\n",
       "1        dear prime ministerwhat i am asking for is tha...\n",
       "2        dear prime minister i have enclosed a data she...\n",
       "3        sir mai virendra pratap singh uttar pradesh ka...\n",
       "4        hello siri am mr kishor punamchand dave aged  ...\n",
       "                               ...                        \n",
       "99995    dear modi ji me and my familys greetings and b...\n",
       "99996    namaste jimyself akamalakannan working in a pr...\n",
       "99997    respected pmmy father purchase st new car in a...\n",
       "99998    respected sirgreetingsi am a female student of...\n",
       "99999    m pichle  year se preparation kr rhi hu par ss...\n",
       "Name: description_cleaned, Length: 99995, dtype: object"
      ]
     },
     "execution_count": 10,
     "metadata": {},
     "output_type": "execute_result"
    }
   ],
   "source": [
    "df.description_cleaned"
   ]
  },
  {
   "cell_type": "markdown",
   "metadata": {},
   "source": [
    "### \"freq\" function creates a _normalised_ vector of size 26(lower case English letters) for each of the cleaned grievances"
   ]
  },
  {
   "cell_type": "code",
   "execution_count": 11,
   "metadata": {},
   "outputs": [],
   "source": [
    "def freq(sent):\n",
    "    arr = np.zeros(26)\n",
    "    for letter in sent:\n",
    "        if 97 <= ord(letter) <= 122:\n",
    "            # print(\"here\")\n",
    "            arr[ord(letter) - 97] += 1 \n",
    "    #arr[::-1].sort()\n",
    "    \n",
    "    return arr / np.linalg.norm(arr) #normalization"
   ]
  },
  {
   "cell_type": "code",
   "execution_count": 12,
   "metadata": {},
   "outputs": [],
   "source": [
    "df['histograms'] = df['description_cleaned'].apply(freq)"
   ]
  },
  {
   "cell_type": "markdown",
   "metadata": {},
   "source": [
    "### Normalised vectors\n"
   ]
  },
  {
   "cell_type": "code",
   "execution_count": 13,
   "metadata": {},
   "outputs": [
    {
     "data": {
      "text/plain": [
       "array([0.39573372, 0.05791225, 0.15443267, 0.14478063, 0.41503781,\n",
       "       0.05791225, 0.04826021, 0.12547655, 0.33782147, 0.        ,\n",
       "       0.        , 0.12547655, 0.14478063, 0.23164901, 0.25095309,\n",
       "       0.20269288, 0.00965204, 0.27025718, 0.33782147, 0.27990922,\n",
       "       0.13512859, 0.02895613, 0.04826021, 0.        , 0.07721634,\n",
       "       0.        ])"
      ]
     },
     "execution_count": 13,
     "metadata": {},
     "output_type": "execute_result"
    }
   ],
   "source": [
    "df.histograms[0]"
   ]
  },
  {
   "cell_type": "markdown",
   "metadata": {},
   "source": [
    "> NOTE: Create TSNE plots"
   ]
  },
  {
   "cell_type": "markdown",
   "metadata": {},
   "source": [
    "### Applying K Means "
   ]
  },
  {
   "cell_type": "code",
   "execution_count": 14,
   "metadata": {},
   "outputs": [],
   "source": [
    "clusters = 2"
   ]
  },
  {
   "cell_type": "code",
   "execution_count": 15,
   "metadata": {},
   "outputs": [],
   "source": [
    "def mbkmeans_clusters(X, k):\n",
    "    km = KMeans(n_clusters=k).fit(X)\n",
    "    return km.labels_"
   ]
  },
  {
   "cell_type": "markdown",
   "metadata": {},
   "source": [
    "### Checking if the code has any NA values\n"
   ]
  },
  {
   "cell_type": "code",
   "execution_count": 16,
   "metadata": {},
   "outputs": [
    {
     "data": {
      "text/plain": [
       "description            0\n",
       "description_cleaned    0\n",
       "histograms             0\n",
       "dtype: int64"
      ]
     },
     "execution_count": 16,
     "metadata": {},
     "output_type": "execute_result"
    }
   ],
   "source": [
    "df.isna().sum()"
   ]
  },
  {
   "cell_type": "markdown",
   "metadata": {},
   "source": [
    "### Removing the NA values if found"
   ]
  },
  {
   "cell_type": "code",
   "execution_count": 17,
   "metadata": {},
   "outputs": [],
   "source": [
    "df = df.loc[ df.histograms.map(lambda x: ~np.isnan(x).any()), :]"
   ]
  },
  {
   "cell_type": "code",
   "execution_count": 18,
   "metadata": {},
   "outputs": [
    {
     "data": {
      "text/plain": [
       "99995"
      ]
     },
     "execution_count": 18,
     "metadata": {},
     "output_type": "execute_result"
    }
   ],
   "source": [
    "len(df)"
   ]
  },
  {
   "cell_type": "markdown",
   "metadata": {},
   "source": [
    "### Applying KMeans to the normalissed frequency distributions and extracting the cluster labels"
   ]
  },
  {
   "cell_type": "code",
   "execution_count": 19,
   "metadata": {},
   "outputs": [],
   "source": [
    "cluster_labels = mbkmeans_clusters(\n",
    "\tX=list(df['histograms'].values),\n",
    "    k=clusters,\n",
    ")"
   ]
  },
  {
   "cell_type": "code",
   "execution_count": 20,
   "metadata": {},
   "outputs": [],
   "source": [
    "df_clusters = pd.DataFrame({\n",
    "    \n",
    "    \"text\": df['description'].values,\n",
    "    #\"histograms\" : df['histograms'].values,\n",
    "    \"cluster\": cluster_labels\n",
    "})"
   ]
  },
  {
   "cell_type": "code",
   "execution_count": 21,
   "metadata": {},
   "outputs": [
    {
     "data": {
      "text/html": [
       "<div>\n",
       "<style scoped>\n",
       "    .dataframe tbody tr th:only-of-type {\n",
       "        vertical-align: middle;\n",
       "    }\n",
       "\n",
       "    .dataframe tbody tr th {\n",
       "        vertical-align: top;\n",
       "    }\n",
       "\n",
       "    .dataframe thead th {\n",
       "        text-align: right;\n",
       "    }\n",
       "</style>\n",
       "<table border=\"1\" class=\"dataframe\">\n",
       "  <thead>\n",
       "    <tr style=\"text-align: right;\">\n",
       "      <th></th>\n",
       "      <th>text</th>\n",
       "      <th>cluster</th>\n",
       "    </tr>\n",
       "  </thead>\n",
       "  <tbody>\n",
       "    <tr>\n",
       "      <th>0</th>\n",
       "      <td>Respected Sir &amp;amp; Madam,I have applied for t...</td>\n",
       "      <td>0</td>\n",
       "    </tr>\n",
       "    <tr>\n",
       "      <th>1</th>\n",
       "      <td>Dear Prime Minister,What I am asking for is th...</td>\n",
       "      <td>0</td>\n",
       "    </tr>\n",
       "    <tr>\n",
       "      <th>2</th>\n",
       "      <td>Dear Prime Minister, I have enclosed a data sh...</td>\n",
       "      <td>0</td>\n",
       "    </tr>\n",
       "    <tr>\n",
       "      <th>3</th>\n",
       "      <td>Sir mai virendra pratap singh uttar pradesh ka...</td>\n",
       "      <td>1</td>\n",
       "    </tr>\n",
       "    <tr>\n",
       "      <th>4</th>\n",
       "      <td>Hello Sir,I am Mr. Kishor Punamchand Dave aged...</td>\n",
       "      <td>0</td>\n",
       "    </tr>\n",
       "    <tr>\n",
       "      <th>...</th>\n",
       "      <td>...</td>\n",
       "      <td>...</td>\n",
       "    </tr>\n",
       "    <tr>\n",
       "      <th>99990</th>\n",
       "      <td>Dear Modi Ji, Me and my family&amp;#39;s greetings...</td>\n",
       "      <td>0</td>\n",
       "    </tr>\n",
       "    <tr>\n",
       "      <th>99991</th>\n",
       "      <td>Namaste Ji,Myself A.Kamalakannan working in a ...</td>\n",
       "      <td>0</td>\n",
       "    </tr>\n",
       "    <tr>\n",
       "      <th>99992</th>\n",
       "      <td>Respected PMMy father purchase 1st new car in ...</td>\n",
       "      <td>0</td>\n",
       "    </tr>\n",
       "    <tr>\n",
       "      <th>99993</th>\n",
       "      <td>Respected Sir,Greetings,I am a female student ...</td>\n",
       "      <td>0</td>\n",
       "    </tr>\n",
       "    <tr>\n",
       "      <th>99994</th>\n",
       "      <td>M pichle 3 year se preparation kr rhi hu.. Par...</td>\n",
       "      <td>1</td>\n",
       "    </tr>\n",
       "  </tbody>\n",
       "</table>\n",
       "<p>99995 rows × 2 columns</p>\n",
       "</div>"
      ],
      "text/plain": [
       "                                                    text  cluster\n",
       "0      Respected Sir &amp; Madam,I have applied for t...        0\n",
       "1      Dear Prime Minister,What I am asking for is th...        0\n",
       "2      Dear Prime Minister, I have enclosed a data sh...        0\n",
       "3      Sir mai virendra pratap singh uttar pradesh ka...        1\n",
       "4      Hello Sir,I am Mr. Kishor Punamchand Dave aged...        0\n",
       "...                                                  ...      ...\n",
       "99990  Dear Modi Ji, Me and my family&#39;s greetings...        0\n",
       "99991  Namaste Ji,Myself A.Kamalakannan working in a ...        0\n",
       "99992  Respected PMMy father purchase 1st new car in ...        0\n",
       "99993  Respected Sir,Greetings,I am a female student ...        0\n",
       "99994  M pichle 3 year se preparation kr rhi hu.. Par...        1\n",
       "\n",
       "[99995 rows x 2 columns]"
      ]
     },
     "execution_count": 21,
     "metadata": {},
     "output_type": "execute_result"
    }
   ],
   "source": [
    "df_clusters"
   ]
  },
  {
   "cell_type": "code",
   "execution_count": 22,
   "metadata": {},
   "outputs": [
    {
     "name": "stdout",
     "output_type": "stream",
     "text": [
      "0 87904\n",
      "1 12091\n"
     ]
    }
   ],
   "source": [
    "for i in range(clusters):\n",
    "    print(i, len(df_clusters[df_clusters.cluster == i]))"
   ]
  },
  {
   "cell_type": "code",
   "execution_count": 23,
   "metadata": {},
   "outputs": [],
   "source": [
    "for i in range(clusters):\n",
    "    df_clusters[df_clusters.cluster == i].to_csv(str(i)+ \".csv\")"
   ]
  },
  {
   "cell_type": "markdown",
   "metadata": {},
   "source": [
    "## Plots and Inference"
   ]
  },
  {
   "cell_type": "markdown",
   "metadata": {},
   "source": [
    "#### Predicted Hindi\n",
    "\n"
   ]
  },
  {
   "cell_type": "code",
   "execution_count": 24,
   "metadata": {},
   "outputs": [
    {
     "name": "stdout",
     "output_type": "stream",
     "text": [
      "Sir mujhse lgta h humrahe desh  mai medicine h... Kuch din phle ki baat h .. Meri nana ke ghr sbko corona ho gaya tha par nani ko corona nhi hua tha jbki humrahe doctor sb ppe kit m rhte h tv v unko corona ho jata h..... But meri nani ko kuch nhi hua bine mask ke ghum rahi thi.....kyuki sbko corona hone se phle nani ko monkey na kat liya tha toh unko uski injection lgai thi ... Toh isliye mujhse lgta h... Monkey wali vaccination shyd hume corona mai harne mai help kare..... Isliye m chata hu ki... Ispe ek research ho... Kya pta isse humraha desh ka bhala ho jaye ... Mujhse lgta aesa lgta h.... Agr ho ske plz ek bar research kara kr dekh lena .... ???\n"
     ]
    },
    {
     "data": {
      "image/png": "[encoded data removed]",
      "text/plain": [
       "<Figure size 432x288 with 1 Axes>"
      ]
     },
     "metadata": {
      "needs_background": "light"
     },
     "output_type": "display_data"
    },
    {
     "name": "stdout",
     "output_type": "stream",
     "text": [
      "Bengal jis tarah dangai ho raha hai muslim ke duwara hindu ko rape or ghar jalaye ja rahe hai..kiya central govt chup kyu hai hindu ko bachana chahiye and bjp leader ko murder kiya ja raha hai..aise chup rahne se kuch ni hoga hindu samaj khatre me hai ..please I request you aap Bengal rastpari sasan laga dijiye ya to khud ja ke investigation kijiye..mamta sarkar ko hota kr acha ek sarkar ko baitha dijiye..ni to bjp se sabhi hindu se wiswas hat jayega..\n"
     ]
    },
    {
     "data": {
      "image/png": "[encoded data removed]",
      "text/plain": [
       "<Figure size 432x288 with 1 Axes>"
      ]
     },
     "metadata": {
      "needs_background": "light"
     },
     "output_type": "display_data"
    },
    {
     "name": "stdout",
     "output_type": "stream",
     "text": [
      "Sir, maine aap ko khat likha tha. Jis me mai mapni majburi ko batya tha. Kyoki mai akela  hu,because I loss my father 2011.but aap ne some sentence me mere sahara ko nisahara  bana diya because mera letter clear nahi hai. Mai one month se esi hospital ka chaker kat raha hu but nobody can take aney action for a dangerous  like cancer diesies. My mom is last stage plese help me. Otherwise I also loss my mom please sir help me. Thanks\n"
     ]
    },
    {
     "data": {
      "image/png": "[encoded data removed]",
      "text/plain": [
       "<Figure size 432x288 with 1 Axes>"
      ]
     },
     "metadata": {
      "needs_background": "light"
     },
     "output_type": "display_data"
    }
   ],
   "source": [
    "\n",
    "from matplotlib import pyplot as plt\n",
    "\n",
    "for i in [104, 262, 8282]:\n",
    "    print(df[df.index == i].description.values[0])\n",
    "    data =  freq1(df[df.index == i].description_cleaned.values[0])\n",
    "    plt.bar(list(data.keys()), data.values(), color='g')\n",
    "    plt.show()\n"
   ]
  },
  {
   "cell_type": "code",
   "execution_count": null,
   "metadata": {},
   "outputs": [],
   "source": []
  },
  {
   "cell_type": "markdown",
   "metadata": {},
   "source": [
    "### Predicted English"
   ]
  },
  {
   "cell_type": "code",
   "execution_count": 25,
   "metadata": {},
   "outputs": [
    {
     "name": "stdout",
     "output_type": "stream",
     "text": [
      "To, Honourable Prime MinisterSub: Cancellation of premature retirement order dated 12.12.2017 issued by DoWR RD GR under CCS (Pension) Rules, 1972 – regarding Sir, I once again request immediate cancellation of premature retirement order dated 12.12.2017 issued under CCS (Pension) Rules, 1972 by DoWR RD GR since Department has failed to ensure pension payment in pursuance of premature retirement order dated 12.12.2017 issued by them under CCS Pension, Rules 1972 even after a lapse of more than three and half years despite receipt of SSA on basis of post retirement regularization of conditional transfer tenure 2012-2017 in contravention of provisions under CCS (Pension) Rules 1972 without approval of President of India from CPAO in CPPC, Patna on 19.04.2021.Yours faithfully, L. P. Singh, Director, GFCC, Patna* *as per biometric attendance of GFCC, Patna Copy to:- 1. Secretary, DOWR RD GR, Jal Shakti Ministry, GoI 2. Additional Secretary, DoWR RD GR, GoI 3. Joint Secretary (Admn.), DoWR RD GR, Jal Shakti Ministry, GoI 4. Joint CGA, Ministry of Finance, Department of Expenditure, GoI with reference to resolution of my grievance PMOPG/E/2021/0024950 5. Chief Controller (Pension), CPAO, Ministry of Finance, GoI 6. CPPC, State Bank of India, Zonal Office, Patna 7. Branch Manager, State Bank of India, Patliputra Branch, Patna 8. Controller of Accounts, DoWR RD GR, Jal Shakti Ministry, GoI 9. PAO, DoWR RD GR, Jal Shakti Ministry, GoI 10. Senior AO (sect.-I), DoWR RD GR, Jal Shakti Ministry, GoI with reference to resolution of my grievance PMOPG/E/2021/0026172 and 0077512 Copy also to:- PS to Honourable Minister, Jal Shakti Ministry, GoI PS to Honourable Minister of State, Jal Shakti Ministry, GoI PMO\n"
     ]
    },
    {
     "data": {
      "image/png": "[encoded data removed]",
      "text/plain": [
       "<Figure size 432x288 with 1 Axes>"
      ]
     },
     "metadata": {
      "needs_background": "light"
     },
     "output_type": "display_data"
    },
    {
     "name": "stdout",
     "output_type": "stream",
     "text": [
      "Letter to Finance Minister on Banking Services.We addressed a letter to the Union Finance Minister today on the captioned subject. Text of the letter is appended below, which is self explanatory.Consequent upon merger of 10 public sector banks into 4, effected from 1st April 2020, the services of the banks have undergone serious deterioration due to imposition of the decision as announced by your good office on 30th Aug. 2019 notwithstanding ground realities and inept handling of the situation by the apex managements of respective banks.We are coming across information that following premature system integration in the merged entities implemented without proper infrastructural support, several necessary functions like cash receipts, cash payments, pass book issuance/updation, issuance of various statements/certificates, loan sanctioning and related documentation are seriously jeopardised. The employees and officers, on daily basis, are forced to sit late for completion of their daily jobs due to obvious reasons. The common customers, particularly the senior citizens including ex-employees are finding it near to impossible to get even elementary services. Long queues at the banking outlets are often found due to slow or unavailability of network, inadequate staff strength, system failures etc. causing business flight of substantial amount. The field functionaries at the branches are regularly being humiliated by the dissatisfied customers even after exerting their best for smooth service in the adversities. Immediate intervention from your Ministry is solicited to remove the impasse.Since amalgamation, the merged entities are closing down branches in differentplaces. Some banks have already closed hundreds of branches with much more expected to be closed shortly.Please see the attached PDF File for more details.Thanks\n"
     ]
    },
    {
     "data": {
      "image/png": "[encoded data removed]",
      "text/plain": [
       "<Figure size 432x288 with 1 Axes>"
      ]
     },
     "metadata": {
      "needs_background": "light"
     },
     "output_type": "display_data"
    },
    {
     "name": "stdout",
     "output_type": "stream",
     "text": [
      "Namaste Prime MinisterJI,I am a big fan of you and under your supervision, I have experienced lot of changes in India. I wish that you can continue to govern India for many many years. I must congratulate on your many achievements.Sirji, Today I experienced a very inefficient process while researching/understanding for renewing my Kids OCI cards. One of my kid is Minor-under 18 and other one is 19 years old. After spending 5 hours on various website like VFS.Global(https://visa.vfsglobal.com/usa/en/ind) ,  Sans Francisco consulate website and https://ociservices.gov.in/,  I still could not figure out what exact documents needed to renew my kids passport.The information is flying all across with no consistency. The document list they say is generic and do not break down for renewal of OCI, minor etc. The whole process is so cumbersome that many of my friends had dropped the application in past (including me last year). And we cannot talk to anyone to guide us except VFS Global who wants to charge us $2.48 per minute after 5 free minutes.. First whole process has been so complex and then for help , they want us to pay?.  Sirji, I sincerely request that one of your official who do not know about this process,  try to do the Test application from fresh and see how long does it take and how much does he gets frustrated and will he able to complete it correctly or not. Now there are whatsapp group, Instagram group for OCI discussion. Think about it, the basic service has been so cumbersome that special groups are started to discuss and help. Efficiency is key for growth. The whole OCI process about creating application from one site, then go to other site and submit papers by mail .. its all looks like total inefficient way of handling any work. And lack of specific information on website, at the same time overwhelm with unnecessary info really troubles to know how the official did not come across it. There should be breakdown of Questions - Answer, Like Minor OCI renewal, Here&#39;s the list of documents needed, with the Link to open the templateI hope my feedback is consider as a positive criticism to improve service and help india to compete with the world. Regards and Vande MataramDilip Mehta\n"
     ]
    },
    {
     "data": {
      "image/png": "[encoded data removed]",
      "text/plain": [
       "<Figure size 432x288 with 1 Axes>"
      ]
     },
     "metadata": {
      "needs_background": "light"
     },
     "output_type": "display_data"
    }
   ],
   "source": [
    "from matplotlib import pyplot as plt\n",
    "\n",
    "for i in [1975, 2180, 1500]:\n",
    "    print(df[df.index == i].description.values[0])\n",
    "    data =  freq1(df[df.index == i].description_cleaned.values[0])\n",
    "    plt.bar(list(data.keys()), data.values(), color='g')\n",
    "    plt.show()"
   ]
  }
 ],
 "metadata": {
  "kernelspec": {
   "display_name": "Python 3.9.5 64-bit",
   "language": "python",
   "name": "python3"
  },
  "language_info": {
   "codemirror_mode": {
    "name": "ipython",
    "version": 3
   },
   "file_extension": ".py",
   "mimetype": "text/x-python",
   "name": "python",
   "nbconvert_exporter": "python",
   "pygments_lexer": "ipython3",
   "version": "3.9.5"
  },
  "orig_nbformat": 4,
  "vscode": {
   "interpreter": {
    "hash": "f9f85f796d01129d0dd105a088854619f454435301f6ffec2fea96ecbd9be4ac"
   }
  }
 },
 "nbformat": 4,
 "nbformat_minor": 2
}
