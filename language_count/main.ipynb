{
 "cells": [
  {
   "cell_type": "code",
   "execution_count": 1,
   "metadata": {},
   "outputs": [
    {
     "name": "stderr",
     "output_type": "stream",
     "text": [
      "[nltk_data] Downloading package stopwords to /Users/joker/nltk_data...\n",
      "[nltk_data]   Package stopwords is already up-to-date!\n"
     ]
    }
   ],
   "source": [
    "import re\n",
    "import string\n",
    "import pandas as pd\n",
    "from math import log\n",
    "import os\n",
    "import random\n",
    "import re\n",
    "import string\n",
    "from collections import Counter\n",
    "from sklearn.cluster import KMeans\n",
    "import pickle\n",
    "\n",
    "import nltk\n",
    "import numpy as np\n",
    "import pandas as pd\n",
    "\n",
    "from gensim.models import Word2Vec\n",
    "\n",
    "from nltk import word_tokenize\n",
    "from nltk.tokenize import wordpunct_tokenize\n",
    "from nltk.corpus import stopwords\n",
    "\n",
    "import warnings\n",
    "warnings.filterwarnings(\"ignore\")\n",
    "nltk.download(\"stopwords\")\n",
    "\n",
    "\n",
    "SEED = 42\n",
    "random.seed(SEED)\n",
    "os.environ[\"PYTHONHASHSEED\"] = str(SEED)\n",
    "np.random.seed(SEED)"
   ]
  },
  {
   "cell_type": "code",
   "execution_count": 3,
   "metadata": {},
   "outputs": [],
   "source": [
    "final_counts = []"
   ]
  },
  {
   "cell_type": "code",
   "execution_count": 5,
   "metadata": {},
   "outputs": [],
   "source": [
    "def clean_text(text):\n",
    "    text = str(text).lower() \n",
    "    text = text.translate (str.maketrans('', '', string.punctuation))\n",
    "    text = re.sub(\"\\d+\", \"\", text)\n",
    "    text = re.sub(r\"\\s+\", \" \", text)  # Remove multiple spaces in content\n",
    "    text = re.sub('[!()-[]{};:\\'\"\\,<>./?@#$%^&*_~–]+', '', text)\n",
    "    return text"
   ]
  },
  {
   "cell_type": "code",
   "execution_count": 9,
   "metadata": {},
   "outputs": [],
   "source": [
    "df = pd.read_csv(r\"/Volumes/olaaaa/Thesis_backup/data/chunk0.csv\", header = None, low_memory=False)\n",
    "df = df[[0,21]]\n",
    "df.columns = ['reg_no', 'subject_content']"
   ]
  },
  {
   "cell_type": "code",
   "execution_count": 20,
   "metadata": {},
   "outputs": [],
   "source": [
    "df = df.iloc[:1000, :]"
   ]
  },
  {
   "cell_type": "code",
   "execution_count": 21,
   "metadata": {},
   "outputs": [],
   "source": [
    "df['subject_content_cleaned'] = df['subject_content'].apply(clean_text)"
   ]
  },
  {
   "cell_type": "code",
   "execution_count": 22,
   "metadata": {},
   "outputs": [
    {
     "data": {
      "text/html": [
       "<div>\n",
       "<style scoped>\n",
       "    .dataframe tbody tr th:only-of-type {\n",
       "        vertical-align: middle;\n",
       "    }\n",
       "\n",
       "    .dataframe tbody tr th {\n",
       "        vertical-align: top;\n",
       "    }\n",
       "\n",
       "    .dataframe thead th {\n",
       "        text-align: right;\n",
       "    }\n",
       "</style>\n",
       "<table border=\"1\" class=\"dataframe\">\n",
       "  <thead>\n",
       "    <tr style=\"text-align: right;\">\n",
       "      <th></th>\n",
       "      <th>reg_no</th>\n",
       "      <th>subject_content</th>\n",
       "      <th>subject_content_cleaned</th>\n",
       "    </tr>\n",
       "  </thead>\n",
       "  <tbody>\n",
       "    <tr>\n",
       "      <th>0</th>\n",
       "      <td>-- Se/E/2015/00001</td>\n",
       "      <td>my grievance i am uploading in pdf format</td>\n",
       "      <td>my grievance i am uploading in pdf format</td>\n",
       "    </tr>\n",
       "    <tr>\n",
       "      <th>1</th>\n",
       "      <td>-- Se/E/2015/00002</td>\n",
       "      <td>This is in regards to Vendor Registration Appl...</td>\n",
       "      <td>this is in regards to vendor registration appl...</td>\n",
       "    </tr>\n",
       "    <tr>\n",
       "      <th>2</th>\n",
       "      <td>--SEL/E/2015/00001</td>\n",
       "      <td>hjjkkkkkkkkkkkkkkkkkkkkkkkkkkkkkkkkkkkkkkkkkkk...</td>\n",
       "      <td>hjjkkkkkkkkkkkkkkkkkkkkkkkkkkkkkkkkkkkkkkkkkkk...</td>\n",
       "    </tr>\n",
       "    <tr>\n",
       "      <th>3</th>\n",
       "      <td>--SEL/E/2015/00002</td>\n",
       "      <td>Respected Sir, SUB :Telangana State - ANTI COR...</td>\n",
       "      <td>respected sir sub telangana state anti corrupt...</td>\n",
       "    </tr>\n",
       "    <tr>\n",
       "      <th>4</th>\n",
       "      <td>--SEL/E/2015/00003</td>\n",
       "      <td>This complaint is regarding FIR no. 347 filled...</td>\n",
       "      <td>this complaint is regarding fir no filled in g...</td>\n",
       "    </tr>\n",
       "  </tbody>\n",
       "</table>\n",
       "</div>"
      ],
      "text/plain": [
       "                 reg_no                                    subject_content  \\\n",
       "0  -- Se/E/2015/00001            my grievance i am uploading in pdf format   \n",
       "1  -- Se/E/2015/00002    This is in regards to Vendor Registration Appl...   \n",
       "2  --SEL/E/2015/00001    hjjkkkkkkkkkkkkkkkkkkkkkkkkkkkkkkkkkkkkkkkkkkk...   \n",
       "3  --SEL/E/2015/00002    Respected Sir, SUB :Telangana State - ANTI COR...   \n",
       "4  --SEL/E/2015/00003    This complaint is regarding FIR no. 347 filled...   \n",
       "\n",
       "                             subject_content_cleaned  \n",
       "0          my grievance i am uploading in pdf format  \n",
       "1  this is in regards to vendor registration appl...  \n",
       "2  hjjkkkkkkkkkkkkkkkkkkkkkkkkkkkkkkkkkkkkkkkkkkk...  \n",
       "3  respected sir sub telangana state anti corrupt...  \n",
       "4  this complaint is regarding fir no filled in g...  "
      ]
     },
     "execution_count": 22,
     "metadata": {},
     "output_type": "execute_result"
    }
   ],
   "source": [
    "df.head()"
   ]
  },
  {
   "cell_type": "code",
   "execution_count": 60,
   "metadata": {},
   "outputs": [],
   "source": [
    "all_devnagri = [] #list to keep all the grievances with more Devnagri words than non-Devnagri\n"
   ]
  },
  {
   "cell_type": "code",
   "execution_count": 54,
   "metadata": {},
   "outputs": [],
   "source": [
    "pref = \"/Volumes/olaaaa/Thesis_backup/data/\""
   ]
  },
  {
   "cell_type": "code",
   "execution_count": 61,
   "metadata": {},
   "outputs": [
    {
     "name": "stdout",
     "output_type": "stream",
     "text": [
      "1000001\n",
      "chunk8.csv\n",
      "413682\n",
      "chunk9.csv\n",
      "1000001\n",
      "chunk2.csv\n",
      "1000001\n",
      "chunk3.csv\n",
      "1000001\n",
      "chunk1.csv\n",
      "1000001\n",
      "chunk0.csv\n",
      "1000001\n",
      "chunk4.csv\n",
      "1000001\n",
      "chunk5.csv\n",
      "1000001\n",
      "chunk7.csv\n",
      "1000001\n",
      "chunk6.csv\n"
     ]
    }
   ],
   "source": [
    "for file in os.listdir(\"/Volumes/olaaaa/Thesis_backup/data\"):\n",
    "    #print(file, \"here\")\n",
    "    if file.endswith(\"csv\"):\n",
    "        # print(\"here\")\n",
    "        df = pd.read_csv(pref+file, header = None, low_memory=False)\n",
    "        print(len(df))\n",
    "        df = df[[0,21]]\n",
    "        df.columns = ['reg_no', 'subject_content']\n",
    "        \n",
    "        df['subject_content_cleaned'] = df['subject_content'].apply(clean_text)\n",
    "        tmp = [ val for val in df['subject_content_cleaned'].values \\\n",
    "        if len(re.findall(\"[\\u0900-\\u097F]+\",val)) > len(val.split())/2]\n",
    "        all_devnagri.extend(tmp)\n",
    "                \n",
    "        print(file)\n",
    "        # break\n",
    "        \n",
    "        "
   ]
  },
  {
   "cell_type": "code",
   "execution_count": 62,
   "metadata": {},
   "outputs": [
    {
     "data": {
      "text/plain": [
       "1255971"
      ]
     },
     "execution_count": 62,
     "metadata": {},
     "output_type": "execute_result"
    }
   ],
   "source": [
    "len(all_devnagri)"
   ]
  },
  {
   "cell_type": "code",
   "execution_count": 63,
   "metadata": {},
   "outputs": [],
   "source": [
    "\n",
    "with open('all_devnagri.pkl', 'wb') as f:\n",
    "    pickle.dump(all_devnagri, f)"
   ]
  },
  {
   "cell_type": "code",
   "execution_count": 2,
   "metadata": {},
   "outputs": [],
   "source": [
    "with open('all_devnagri.pkl', 'rb') as f:\n",
    "    loaded = pickle.load(f)"
   ]
  },
  {
   "cell_type": "code",
   "execution_count": null,
   "metadata": {},
   "outputs": [],
   "source": [
    "df = pd.DataFrame(loaded)"
   ]
  },
  {
   "cell_type": "code",
   "execution_count": null,
   "metadata": {},
   "outputs": [],
   "source": [
    "df.columns = ['subject_content']"
   ]
  },
  {
   "cell_type": "code",
   "execution_count": null,
   "metadata": {},
   "outputs": [],
   "source": [
    "def freq(sent):\n",
    "    arr = np.zeros(150)\n",
    "    for letter in sent:\n",
    "        if 2304 <= ord(letter) <= 2431:\n",
    "            # print(\"here\")\n",
    "            arr[ord(letter) - 2304] += 1 \n",
    "    #arr[::-1].sort()\n",
    "    \n",
    "    return arr / np.linalg.norm(arr) #normalization"
   ]
  },
  {
   "cell_type": "code",
   "execution_count": null,
   "metadata": {},
   "outputs": [],
   "source": [
    "sent = \"एटीएम मशीन का घोटाला बड़े स्तर पर किया गया है जिसमे बड़े स्तर के अधिकारी के शामिल होने की पूरी संभावना है\"\n",
    "for letter in sent:\n",
    "    print(ord(letter))\n"
   ]
  },
  {
   "cell_type": "code",
   "execution_count": null,
   "metadata": {},
   "outputs": [],
   "source": [
    "df['histograms'] = df['subject_content'].apply(freq)"
   ]
  },
  {
   "cell_type": "code",
   "execution_count": 31,
   "metadata": {},
   "outputs": [
    {
     "data": {
      "text/plain": [
       "subject_content    0\n",
       "histograms         0\n",
       "dtype: int64"
      ]
     },
     "execution_count": 31,
     "metadata": {},
     "output_type": "execute_result"
    }
   ],
   "source": [
    "df.isna().sum()"
   ]
  },
  {
   "cell_type": "code",
   "execution_count": 33,
   "metadata": {},
   "outputs": [
    {
     "data": {
      "text/html": [
       "<div>\n",
       "<style scoped>\n",
       "    .dataframe tbody tr th:only-of-type {\n",
       "        vertical-align: middle;\n",
       "    }\n",
       "\n",
       "    .dataframe tbody tr th {\n",
       "        vertical-align: top;\n",
       "    }\n",
       "\n",
       "    .dataframe thead th {\n",
       "        text-align: right;\n",
       "    }\n",
       "</style>\n",
       "<table border=\"1\" class=\"dataframe\">\n",
       "  <thead>\n",
       "    <tr style=\"text-align: right;\">\n",
       "      <th></th>\n",
       "      <th>subject_content</th>\n",
       "      <th>histograms</th>\n",
       "    </tr>\n",
       "  </thead>\n",
       "  <tbody>\n",
       "    <tr>\n",
       "      <th>0</th>\n",
       "      <td>श्री माननीय प्रधान मंत्री नरेंद्र मोदी जी मध्य...</td>\n",
       "      <td>[0.0, 0.0, 0.1535013899613792, 0.0, 0.0, 0.015...</td>\n",
       "    </tr>\n",
       "    <tr>\n",
       "      <th>1</th>\n",
       "      <td>गो माता के जीवन को सुखमय बनाने हेतु सादर निवेद...</td>\n",
       "      <td>[0.0, 0.0, 0.05937829808056162, 0.0, 0.0, 0.02...</td>\n",
       "    </tr>\n",
       "    <tr>\n",
       "      <th>2</th>\n",
       "      <td>सेबा मे माननीय प्रधानमंत्री महोदय भारत सरकार द...</td>\n",
       "      <td>[0.0, 0.0, 0.08340845192863032, 0.0, 0.0, 0.00...</td>\n",
       "    </tr>\n",
       "    <tr>\n",
       "      <th>3</th>\n",
       "      <td>प्रार्थी की ग्राम नैनपुर परगना व् तहसील मदवारा...</td>\n",
       "      <td>[0.0, 0.0, 0.12006004503753283, 0.0, 0.0, 0.03...</td>\n",
       "    </tr>\n",
       "    <tr>\n",
       "      <th>4</th>\n",
       "      <td>सेवा मैं माननीय प्रधानमंत्री महोदय विषय लोन न ...</td>\n",
       "      <td>[0.0, 0.0, 0.16236933893402164, 0.009551137584...</td>\n",
       "    </tr>\n",
       "  </tbody>\n",
       "</table>\n",
       "</div>"
      ],
      "text/plain": [
       "                                     subject_content  \\\n",
       "0  श्री माननीय प्रधान मंत्री नरेंद्र मोदी जी मध्य...   \n",
       "1  गो माता के जीवन को सुखमय बनाने हेतु सादर निवेद...   \n",
       "2  सेबा मे माननीय प्रधानमंत्री महोदय भारत सरकार द...   \n",
       "3  प्रार्थी की ग्राम नैनपुर परगना व् तहसील मदवारा...   \n",
       "4  सेवा मैं माननीय प्रधानमंत्री महोदय विषय लोन न ...   \n",
       "\n",
       "                                          histograms  \n",
       "0  [0.0, 0.0, 0.1535013899613792, 0.0, 0.0, 0.015...  \n",
       "1  [0.0, 0.0, 0.05937829808056162, 0.0, 0.0, 0.02...  \n",
       "2  [0.0, 0.0, 0.08340845192863032, 0.0, 0.0, 0.00...  \n",
       "3  [0.0, 0.0, 0.12006004503753283, 0.0, 0.0, 0.03...  \n",
       "4  [0.0, 0.0, 0.16236933893402164, 0.009551137584...  "
      ]
     },
     "execution_count": 33,
     "metadata": {},
     "output_type": "execute_result"
    }
   ],
   "source": [
    "df.head()"
   ]
  },
  {
   "cell_type": "code",
   "execution_count": 36,
   "metadata": {},
   "outputs": [],
   "source": [
    "with open('all_devnagri_histograms.pkl', 'wb') as f:\n",
    "    pickle.dump(df, f)"
   ]
  },
  {
   "cell_type": "code",
   "execution_count": 2,
   "metadata": {},
   "outputs": [],
   "source": [
    "with open('all_devnagri_histograms.pkl', 'rb') as f:\n",
    "    df = pickle.load(f)"
   ]
  },
  {
   "cell_type": "code",
   "execution_count": 3,
   "metadata": {},
   "outputs": [],
   "source": [
    "clusters = 3\n",
    "def mbkmeans_clusters(X, k):\n",
    "    km = KMeans(n_clusters=k).fit(X)\n",
    "    return km.labels_"
   ]
  },
  {
   "cell_type": "code",
   "execution_count": 4,
   "metadata": {},
   "outputs": [],
   "source": [
    "df = df.loc[ df.histograms.map(lambda x: ~np.isnan(x).any()), :]\n"
   ]
  },
  {
   "cell_type": "code",
   "execution_count": 5,
   "metadata": {},
   "outputs": [],
   "source": [
    "df['labels'] = mbkmeans_clusters(\n",
    "    X=list(df['histograms'].values),\n",
    "    k=clusters,\n",
    ")"
   ]
  },
  {
   "cell_type": "code",
   "execution_count": 6,
   "metadata": {},
   "outputs": [
    {
     "data": {
      "text/plain": [
       "0    477872\n",
       "2    391427\n",
       "1    386672\n",
       "Name: labels, dtype: int64"
      ]
     },
     "execution_count": 6,
     "metadata": {},
     "output_type": "execute_result"
    }
   ],
   "source": [
    "df.labels.value_counts()"
   ]
  },
  {
   "cell_type": "code",
   "execution_count": 14,
   "metadata": {},
   "outputs": [],
   "source": [
    "df[df.labels == 1].subject_content.to_csv(\"tmp.csv\")"
   ]
  }
 ],
 "metadata": {
  "kernelspec": {
   "display_name": "Python 3.9.5 64-bit",
   "language": "python",
   "name": "python3"
  },
  "language_info": {
   "codemirror_mode": {
    "name": "ipython",
    "version": 3
   },
   "file_extension": ".py",
   "mimetype": "text/x-python",
   "name": "python",
   "nbconvert_exporter": "python",
   "pygments_lexer": "ipython3",
   "version": "3.9.5"
  },
  "orig_nbformat": 4,
  "vscode": {
   "interpreter": {
    "hash": "f9f85f796d01129d0dd105a088854619f454435301f6ffec2fea96ecbd9be4ac"
   }
  }
 },
 "nbformat": 4,
 "nbformat_minor": 2
}
