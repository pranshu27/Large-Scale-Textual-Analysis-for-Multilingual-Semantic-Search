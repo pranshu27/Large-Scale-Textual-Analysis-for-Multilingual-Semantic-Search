{
 "cells": [
  {
   "cell_type": "code",
   "execution_count": 2,
   "metadata": {},
   "outputs": [
    {
     "name": "stderr",
     "output_type": "stream",
     "text": [
      "[nltk_data] Error loading stopwords: <urlopen error [Errno 54]\n",
      "[nltk_data]     Connection reset by peer>\n"
     ]
    }
   ],
   "source": [
    "import re\n",
    "import string\n",
    "import pandas as pd\n",
    "from math import log\n",
    "import os\n",
    "import random\n",
    "import re\n",
    "import string\n",
    "from collections import Counter\n",
    "from sklearn.cluster import KMeans\n",
    "import pickle\n",
    "\n",
    "import nltk\n",
    "import numpy as np\n",
    "import pandas as pd\n",
    "\n",
    "from gensim.models import Word2Vec\n",
    "\n",
    "from nltk import word_tokenize\n",
    "from nltk.tokenize import wordpunct_tokenize\n",
    "from nltk.corpus import stopwords\n",
    "\n",
    "import warnings\n",
    "warnings.filterwarnings(\"ignore\")\n",
    "nltk.download(\"stopwords\")\n",
    "\n",
    "\n",
    "SEED = 42\n",
    "random.seed(SEED)\n",
    "os.environ[\"PYTHONHASHSEED\"] = str(SEED)\n",
    "np.random.seed(SEED)"
   ]
  },
  {
   "cell_type": "code",
   "execution_count": null,
   "metadata": {},
   "outputs": [],
   "source": []
  },
  {
   "cell_type": "code",
   "execution_count": 2,
   "metadata": {},
   "outputs": [],
   "source": [
    "final_counts = []"
   ]
  },
  {
   "cell_type": "code",
   "execution_count": 3,
   "metadata": {},
   "outputs": [],
   "source": [
    "def clean_text(text):\n",
    "    text = str(text).lower() \n",
    "    text = text.translate (str.maketrans('', '', string.punctuation))\n",
    "    text = re.sub(\"\\d+\", \"\", text)\n",
    "    text = re.sub(r\"\\s+\", \" \", text)  # Remove multiple spaces in content\n",
    "    text = re.sub('[!()-[]{};:\\'\"\\,<>./?@#$%^&*_~–]+', '', text)\n",
    "    return text"
   ]
  },
  {
   "cell_type": "code",
   "execution_count": 20,
   "metadata": {},
   "outputs": [],
   "source": [
    "all_non_roman = [] #list to keep all the grievances with more Devnagri words than non-Devnagri\n"
   ]
  },
  {
   "cell_type": "code",
   "execution_count": 9,
   "metadata": {},
   "outputs": [],
   "source": [
    "pref = \"/Volumes/olaaaa/Thesis_backup/data/\""
   ]
  },
  {
   "cell_type": "code",
   "execution_count": 21,
   "metadata": {},
   "outputs": [
    {
     "name": "stdout",
     "output_type": "stream",
     "text": [
      "chunk8.csv Size of updated list 226941\n",
      "chunk9.csv Size of updated list 325551\n",
      "chunk2.csv Size of updated list 523247\n",
      "chunk3.csv Size of updated list 592883\n",
      "chunk1.csv Size of updated list 692915\n",
      "chunk0.csv Size of updated list 822461\n",
      "chunk4.csv Size of updated list 825907\n",
      "chunk5.csv Size of updated list 867773\n",
      "chunk7.csv Size of updated list 1133099\n",
      "chunk6.csv Size of updated list 1349852\n"
     ]
    }
   ],
   "source": [
    "for file in os.listdir(\"/Volumes/olaaaa/Thesis_backup/data\"):\n",
    "    #print(file, \"here\")\n",
    "    if file.endswith(\"csv\"):\n",
    "        # print(\"here\")\n",
    "        df = pd.read_csv(pref+file, header = None, low_memory=False)\n",
    "        # print(len(df))\n",
    "        df = df[[0,21]]\n",
    "        df.columns = ['reg_no', 'subject_content']\n",
    "        \n",
    "        df['subject_content_cleaned'] = df['subject_content'].apply(clean_text)\n",
    "        tmp = [ val for val in df['subject_content_cleaned'].values \\\n",
    "        if len(re.findall(\"[a-z]+\",val)) < 0.5*len(val.split())]\n",
    "        all_non_roman.extend(tmp) \n",
    "        print(file, \"Size of updated list\", str(len(all_non_roman)))\n",
    "        # print()\n",
    "        \n",
    "        \n",
    "        "
   ]
  },
  {
   "cell_type": "code",
   "execution_count": 19,
   "metadata": {},
   "outputs": [],
   "source": [
    "def row_count(input):\n",
    "    with open(input) as f:\n",
    "        for i, l in enumerate(f):\n",
    "            pass\n",
    "    return i"
   ]
  },
  {
   "cell_type": "markdown",
   "metadata": {},
   "source": [
    "Total grievances: 9413682\n",
    "1. (85.66%) roman(English + Hindi-Latin)(76+24%) 8063829     (calculated previously)\n",
    "2. (14.34%) non-roman scripts 1255499\n",
    "   - (13.33%) devnagri script(completely Hindi) 1255499\n",
    "   - (1.002%) 94353 other scripts\n",
    "      - (0.057%) bengali 5335 \n",
    "      - (0.009 %) odia 891 \n",
    "      - (0.034%) telugu 3223 \n",
    "      - (0.012%) punjabi 1101\n",
    "      - (0.095%) kannada 8950 \n",
    "      - (0.123%) tamil 11580 \n",
    "      - (0.626%) gujarati 58914 \n",
    "\n"
   ]
  },
  {
   "cell_type": "code",
   "execution_count": 11,
   "metadata": {},
   "outputs": [
    {
     "name": "stdout",
     "output_type": "stream",
     "text": [
      "bengali.csv 5335 0.057 %\n",
      "odia.csv 891 0.009 %\n",
      "telugu.csv 3223 0.034 %\n",
      "punjabi.csv 1101 0.012 %\n",
      "kannada.csv 8950 0.095 %\n",
      "tamil.csv 11580 0.123 %\n",
      "gujarati.csv 58914 0.626 %\n"
     ]
    }
   ],
   "source": [
    "for file in os.listdir(\"/Users/joker/Library/CloudStorage/OneDrive-IITKanpur/Thesis/count_languages_devnagri/scripts\"):\n",
    "    print(file, row_count(\"/Users/joker/Library/CloudStorage/OneDrive-IITKanpur/Thesis/count_languages_devnagri/scripts/\" +file), \\\n",
    "        round((row_count(\"/Users/joker/Library/CloudStorage/OneDrive-IITKanpur/Thesis/count_languages_devnagri/scripts/\" +file)*100/9413682),3), \"%\")"
   ]
  },
  {
   "cell_type": "code",
   "execution_count": 20,
   "metadata": {},
   "outputs": [
    {
     "ename": "KeyboardInterrupt",
     "evalue": "",
     "output_type": "error",
     "traceback": [
      "\u001b[0;31m---------------------------------------------------------------------------\u001b[0m",
      "\u001b[0;31mKeyboardInterrupt\u001b[0m                         Traceback (most recent call last)",
      "\u001b[1;32m/Users/joker/Library/CloudStorage/OneDrive-IITKanpur/Thesis/count_languages_devnagri/main_non_roman.ipynb Cell 11\u001b[0m in \u001b[0;36m<cell line: 1>\u001b[0;34m()\u001b[0m\n\u001b[0;32m----> <a href='vscode-notebook-cell:/Users/joker/Library/CloudStorage/OneDrive-IITKanpur/Thesis/count_languages_devnagri/main_non_roman.ipynb#X12sZmlsZQ%3D%3D?line=0'>1</a>\u001b[0m row_count(\u001b[39m\"\u001b[39;49m\u001b[39m/Volumes/olaaaa/Thesis_backup/grievance.csv\u001b[39;49m\u001b[39m\"\u001b[39;49m)\n",
      "\u001b[1;32m/Users/joker/Library/CloudStorage/OneDrive-IITKanpur/Thesis/count_languages_devnagri/main_non_roman.ipynb Cell 11\u001b[0m in \u001b[0;36mrow_count\u001b[0;34m(input)\u001b[0m\n\u001b[1;32m      <a href='vscode-notebook-cell:/Users/joker/Library/CloudStorage/OneDrive-IITKanpur/Thesis/count_languages_devnagri/main_non_roman.ipynb#X12sZmlsZQ%3D%3D?line=0'>1</a>\u001b[0m \u001b[39mdef\u001b[39;00m \u001b[39mrow_count\u001b[39m(\u001b[39minput\u001b[39m):\n\u001b[1;32m      <a href='vscode-notebook-cell:/Users/joker/Library/CloudStorage/OneDrive-IITKanpur/Thesis/count_languages_devnagri/main_non_roman.ipynb#X12sZmlsZQ%3D%3D?line=1'>2</a>\u001b[0m     \u001b[39mwith\u001b[39;00m \u001b[39mopen\u001b[39m(\u001b[39minput\u001b[39m) \u001b[39mas\u001b[39;00m f:\n\u001b[0;32m----> <a href='vscode-notebook-cell:/Users/joker/Library/CloudStorage/OneDrive-IITKanpur/Thesis/count_languages_devnagri/main_non_roman.ipynb#X12sZmlsZQ%3D%3D?line=2'>3</a>\u001b[0m         \u001b[39mfor\u001b[39;00m i, l \u001b[39min\u001b[39;00m \u001b[39menumerate\u001b[39m(f):\n\u001b[1;32m      <a href='vscode-notebook-cell:/Users/joker/Library/CloudStorage/OneDrive-IITKanpur/Thesis/count_languages_devnagri/main_non_roman.ipynb#X12sZmlsZQ%3D%3D?line=3'>4</a>\u001b[0m             \u001b[39mpass\u001b[39;00m\n\u001b[1;32m      <a href='vscode-notebook-cell:/Users/joker/Library/CloudStorage/OneDrive-IITKanpur/Thesis/count_languages_devnagri/main_non_roman.ipynb#X12sZmlsZQ%3D%3D?line=4'>5</a>\u001b[0m     \u001b[39mreturn\u001b[39;00m i\n",
      "File \u001b[0;32m/opt/homebrew/Caskroom/miniforge/base/envs/mlp/lib/python3.8/codecs.py:319\u001b[0m, in \u001b[0;36mBufferedIncrementalDecoder.decode\u001b[0;34m(self, input, final)\u001b[0m\n\u001b[1;32m    314\u001b[0m \u001b[39mdef\u001b[39;00m \u001b[39m_buffer_decode\u001b[39m(\u001b[39mself\u001b[39m, \u001b[39minput\u001b[39m, errors, final):\n\u001b[1;32m    315\u001b[0m     \u001b[39m# Overwrite this method in subclasses: It must decode input\u001b[39;00m\n\u001b[1;32m    316\u001b[0m     \u001b[39m# and return an (output, length consumed) tuple\u001b[39;00m\n\u001b[1;32m    317\u001b[0m     \u001b[39mraise\u001b[39;00m \u001b[39mNotImplementedError\u001b[39;00m\n\u001b[0;32m--> 319\u001b[0m \u001b[39mdef\u001b[39;00m \u001b[39mdecode\u001b[39m(\u001b[39mself\u001b[39m, \u001b[39minput\u001b[39m, final\u001b[39m=\u001b[39m\u001b[39mFalse\u001b[39;00m):\n\u001b[1;32m    320\u001b[0m     \u001b[39m# decode input (taking the buffer into account)\u001b[39;00m\n\u001b[1;32m    321\u001b[0m     data \u001b[39m=\u001b[39m \u001b[39mself\u001b[39m\u001b[39m.\u001b[39mbuffer \u001b[39m+\u001b[39m \u001b[39minput\u001b[39m\n\u001b[1;32m    322\u001b[0m     (result, consumed) \u001b[39m=\u001b[39m \u001b[39mself\u001b[39m\u001b[39m.\u001b[39m_buffer_decode(data, \u001b[39mself\u001b[39m\u001b[39m.\u001b[39merrors, final)\n",
      "\u001b[0;31mKeyboardInterrupt\u001b[0m: "
     ]
    }
   ],
   "source": [
    "\n",
    "\n",
    "row_count(\"/Volumes/olaaaa/Thesis_backup/grievance.csv\")"
   ]
  },
  {
   "cell_type": "code",
   "execution_count": 23,
   "metadata": {},
   "outputs": [
    {
     "data": {
      "text/plain": [
       "1349852"
      ]
     },
     "execution_count": 23,
     "metadata": {},
     "output_type": "execute_result"
    }
   ],
   "source": [
    "len(all_non_roman)"
   ]
  },
  {
   "cell_type": "code",
   "execution_count": 34,
   "metadata": {},
   "outputs": [
    {
     "data": {
      "text/plain": [
       "8063829"
      ]
     },
     "execution_count": 34,
     "metadata": {},
     "output_type": "execute_result"
    }
   ],
   "source": [
    "9413681 - 1349852"
   ]
  },
  {
   "cell_type": "code",
   "execution_count": 22,
   "metadata": {},
   "outputs": [],
   "source": [
    "\n",
    "with open('all_non_roman.pkl', 'wb') as f:\n",
    "    pickle.dump(all_non_roman, f)"
   ]
  },
  {
   "cell_type": "code",
   "execution_count": 4,
   "metadata": {},
   "outputs": [],
   "source": [
    "with open('all_non_roman.pkl', 'rb') as f:\n",
    "    loaded = pickle.load(f)"
   ]
  },
  {
   "cell_type": "code",
   "execution_count": null,
   "metadata": {},
   "outputs": [],
   "source": [
    "df = pd.DataFrame(loaded)"
   ]
  },
  {
   "cell_type": "code",
   "execution_count": null,
   "metadata": {},
   "outputs": [],
   "source": [
    "df.columns = ['subject_content']"
   ]
  },
  {
   "cell_type": "code",
   "execution_count": null,
   "metadata": {},
   "outputs": [],
   "source": [
    "def find_devnagri(val):\n",
    "    if len(re.findall(\"[\\u0900-\\u097F]+\",val)) > len(val.split())/2:\n",
    "        "
   ]
  },
  {
   "cell_type": "code",
   "execution_count": null,
   "metadata": {},
   "outputs": [],
   "source": [
    "df[\"isDevnagri\"] = df['subject_content'].apply(lambda x: \"devnagri\" if \\\n",
    "    len(re.findall(\"[\\u0900-\\u097F]+\",x)) > len(x.split())/2 else \"\" )"
   ]
  },
  {
   "cell_type": "code",
   "execution_count": 8,
   "metadata": {},
   "outputs": [],
   "source": [
    "# all_devnagri = [ val for val in df['subject_content'].values \\\n",
    "#         if len(re.findall(\"[\\u0900-\\u097F]+\",val)) > len(val.split())/2]"
   ]
  },
  {
   "cell_type": "code",
   "execution_count": null,
   "metadata": {},
   "outputs": [
    {
     "data": {
      "text/plain": [
       "devnagri    1255499\n",
       "              94353\n",
       "Name: isDevnagri, dtype: int64"
      ]
     },
     "execution_count": 14,
     "metadata": {},
     "output_type": "execute_result"
    }
   ],
   "source": [
    "df.isDevnagri.value_counts()"
   ]
  },
  {
   "cell_type": "code",
   "execution_count": null,
   "metadata": {},
   "outputs": [],
   "source": [
    "df_non_roman_non_devnagri = df[df.isDevnagri != \"devnagri\"]"
   ]
  },
  {
   "cell_type": "code",
   "execution_count": null,
   "metadata": {},
   "outputs": [],
   "source": [
    "with open('df_non_roman_non_devnagri.pkl', 'wb') as f:\n",
    "    pickle.dump(df_non_roman_non_devnagri, f)"
   ]
  },
  {
   "cell_type": "code",
   "execution_count": 3,
   "metadata": {},
   "outputs": [],
   "source": [
    "with open('df_non_roman_non_devnagri.pkl', 'rb') as f:\n",
    "    df_non_roman_non_devnagri = pd.DataFrame(pickle.load(f))"
   ]
  },
  {
   "cell_type": "code",
   "execution_count": 14,
   "metadata": {},
   "outputs": [],
   "source": [
    "def freq(sent):\n",
    "    arr = np.zeros(1000)\n",
    "    for letter in sent:\n",
    "        if 2300 <= ord(letter) < 3300:\n",
    "            # print(\"here\")\n",
    "            arr[ord(letter) - 2300] += 1 \n",
    "    #arr[::-1].sort()\n",
    "    \n",
    "    return arr / np.linalg.norm(arr) #normalization"
   ]
  },
  {
   "cell_type": "code",
   "execution_count": 19,
   "metadata": {},
   "outputs": [
    {
     "name": "stdout",
     "output_type": "stream",
     "text": [
      "[32, 32, 32, 32, 32, 32, 32, 32, 32, 2949, 2953, 2965, 2965, 2965, 2965, 2965, 2965, 2965, 2965, 2965, 2965, 2965, 2969, 2970, 2970, 2979, 2979, 2980, 2980, 2980, 2980, 2980, 2980, 2980, 2980, 2980, 2984, 2984, 2985, 2986, 2986, 2986, 2990, 2990, 2990, 2990, 2991, 2992, 2992, 2992, 2992, 2992, 2993, 2993, 2993, 2993, 2993, 2994, 2994, 2995, 2995, 2997, 2997, 2997, 3006, 3007, 3007, 3007, 3007, 3007, 3007, 3009, 3009, 3009, 3009, 3009, 3009, 3016, 3019, 3021, 3021, 3021, 3021, 3021, 3021, 3021, 3021, 3021, 3021, 3021, 3021, 3021, 3021, 3021, 3021]\n"
     ]
    }
   ],
   "source": [
    "sent = \"আমার নাম জয়ন্ত মণ্ডল আমার স্ত্রীর নাম ডোনা রায় মণ্ডল আমাদের\"\n",
    "sent = \"గౌరవనియులైన ప్రధానమంత్రి శ్రీ నరేంద్రమోడీ గారికి మన సరిహద్దుల్లో చైనా దూరాక్రమణకు సరైన రీతి లో జవాబు\"\n",
    "# sent = \"નમસ્કાર પ્રધાનમંત્રીજી હું એક મોરબીનો સામાન્ય નાગરિક છુંહાલ મોરબી ના રોડ ની હાલત ખુબ જ ખરાબ છે હું વિનંતી કરું છું કે આ સમસ્યાનો\"\n",
    "sent = \"வணக்கத்திற்கும் போற்றுதலுக்கும் உரிய தலைசிறந்த பாரத பிரதமர் அவர்களுக்கு வணக்கம் தங்களின் சிறந்த\"\n",
    "uni = []\n",
    "for letter in sent:\n",
    "    uni.append(ord(letter))\n",
    "print(sorted(uni))\n"
   ]
  },
  {
   "cell_type": "code",
   "execution_count": 5,
   "metadata": {},
   "outputs": [],
   "source": [
    "df_non_roman_non_devnagri['histograms'] = df_non_roman_non_devnagri['subject_content'].apply(freq)"
   ]
  },
  {
   "cell_type": "code",
   "execution_count": null,
   "metadata": {},
   "outputs": [
    {
     "data": {
      "text/plain": [
       "subject_content    0\n",
       "isDevnagri         0\n",
       "histograms         0\n",
       "dtype: int64"
      ]
     },
     "execution_count": 21,
     "metadata": {},
     "output_type": "execute_result"
    }
   ],
   "source": [
    "df_non_roman_non_devnagri.isna().sum()"
   ]
  },
  {
   "cell_type": "code",
   "execution_count": 22,
   "metadata": {},
   "outputs": [
    {
     "data": {
      "text/html": [
       "<div>\n",
       "<style scoped>\n",
       "    .dataframe tbody tr th:only-of-type {\n",
       "        vertical-align: middle;\n",
       "    }\n",
       "\n",
       "    .dataframe tbody tr th {\n",
       "        vertical-align: top;\n",
       "    }\n",
       "\n",
       "    .dataframe thead th {\n",
       "        text-align: right;\n",
       "    }\n",
       "</style>\n",
       "<table border=\"1\" class=\"dataframe\">\n",
       "  <thead>\n",
       "    <tr style=\"text-align: right;\">\n",
       "      <th></th>\n",
       "      <th>subject_content</th>\n",
       "      <th>isDevnagri</th>\n",
       "      <th>histograms</th>\n",
       "    </tr>\n",
       "  </thead>\n",
       "  <tbody>\n",
       "    <tr>\n",
       "      <th>13</th>\n",
       "      <td>respected sirmadam আমার নাম জয়ন্ত মণ্ডল আমার ...</td>\n",
       "      <td></td>\n",
       "      <td>[0.0, 0.0, 0.0, 0.0, 0.0, 0.0, 0.0, 0.0, 0.0, ...</td>\n",
       "    </tr>\n",
       "    <tr>\n",
       "      <th>30</th>\n",
       "      <td>மதிப்பிற்குரிய ஐயா வணக்கம் பொருள் எரிவாயு சப்ள...</td>\n",
       "      <td></td>\n",
       "      <td>[0.0, 0.0, 0.0, 0.0, 0.0, 0.0, 0.0, 0.0, 0.0, ...</td>\n",
       "    </tr>\n",
       "    <tr>\n",
       "      <th>40</th>\n",
       "      <td>নমস্কার স্যার আমি আপনার কাছে একটাই অনুরোধ যে আ...</td>\n",
       "      <td></td>\n",
       "      <td>[0.0, 0.0, 0.0, 0.0, 0.0, 0.0, 0.0, 0.0, 0.0, ...</td>\n",
       "    </tr>\n",
       "    <tr>\n",
       "      <th>52</th>\n",
       "      <td>ঘার কে লিয়ে এপ্লাই</td>\n",
       "      <td></td>\n",
       "      <td>[0.0, 0.0, 0.0, 0.0, 0.0, 0.0, 0.0, 0.0, 0.0, ...</td>\n",
       "    </tr>\n",
       "    <tr>\n",
       "      <th>58</th>\n",
       "      <td>স্যার আমি একজন গরীব কৃষক কুলতলী থানার কাওড়াখাল...</td>\n",
       "      <td></td>\n",
       "      <td>[0.0, 0.0, 0.0, 0.0, 0.0, 0.0, 0.0, 0.0, 0.0, ...</td>\n",
       "    </tr>\n",
       "  </tbody>\n",
       "</table>\n",
       "</div>"
      ],
      "text/plain": [
       "                                      subject_content isDevnagri  \\\n",
       "13  respected sirmadam আমার নাম জয়ন্ত মণ্ডল আমার ...              \n",
       "30  மதிப்பிற்குரிய ஐயா வணக்கம் பொருள் எரிவாயு சப்ள...              \n",
       "40  নমস্কার স্যার আমি আপনার কাছে একটাই অনুরোধ যে আ...              \n",
       "52                                ঘার কে লিয়ে এপ্লাই              \n",
       "58  স্যার আমি একজন গরীব কৃষক কুলতলী থানার কাওড়াখাল...              \n",
       "\n",
       "                                           histograms  \n",
       "13  [0.0, 0.0, 0.0, 0.0, 0.0, 0.0, 0.0, 0.0, 0.0, ...  \n",
       "30  [0.0, 0.0, 0.0, 0.0, 0.0, 0.0, 0.0, 0.0, 0.0, ...  \n",
       "40  [0.0, 0.0, 0.0, 0.0, 0.0, 0.0, 0.0, 0.0, 0.0, ...  \n",
       "52  [0.0, 0.0, 0.0, 0.0, 0.0, 0.0, 0.0, 0.0, 0.0, ...  \n",
       "58  [0.0, 0.0, 0.0, 0.0, 0.0, 0.0, 0.0, 0.0, 0.0, ...  "
      ]
     },
     "execution_count": 22,
     "metadata": {},
     "output_type": "execute_result"
    }
   ],
   "source": [
    "df_non_roman_non_devnagri.head()"
   ]
  },
  {
   "cell_type": "code",
   "execution_count": 23,
   "metadata": {},
   "outputs": [],
   "source": [
    "with open('df_non_roman_non_devnagri_histograms.pkl', 'wb') as f:\n",
    "    pickle.dump(df_non_roman_non_devnagri, f)"
   ]
  },
  {
   "cell_type": "code",
   "execution_count": 3,
   "metadata": {},
   "outputs": [],
   "source": [
    "with open('df_non_roman_non_devnagri_histograms.pkl', 'rb') as f:\n",
    "    df = pickle.load(f)"
   ]
  },
  {
   "cell_type": "code",
   "execution_count": 4,
   "metadata": {},
   "outputs": [],
   "source": [
    "clusters = 7\n",
    "def mbkmeans_clusters(X, k):\n",
    "    km = KMeans(n_clusters=k).fit(X)\n",
    "    with open(\"km_non_roman_non_devnagri.pkl\", \"wb\") as f:\n",
    "        pickle.dump(km, f)\n",
    "    return km.labels_"
   ]
  },
  {
   "cell_type": "code",
   "execution_count": 5,
   "metadata": {},
   "outputs": [
    {
     "data": {
      "text/html": [
       "<div>\n",
       "<style scoped>\n",
       "    .dataframe tbody tr th:only-of-type {\n",
       "        vertical-align: middle;\n",
       "    }\n",
       "\n",
       "    .dataframe tbody tr th {\n",
       "        vertical-align: top;\n",
       "    }\n",
       "\n",
       "    .dataframe thead th {\n",
       "        text-align: right;\n",
       "    }\n",
       "</style>\n",
       "<table border=\"1\" class=\"dataframe\">\n",
       "  <thead>\n",
       "    <tr style=\"text-align: right;\">\n",
       "      <th></th>\n",
       "      <th>subject_content</th>\n",
       "      <th>isDevnagri</th>\n",
       "      <th>histograms</th>\n",
       "    </tr>\n",
       "  </thead>\n",
       "  <tbody>\n",
       "    <tr>\n",
       "      <th>13</th>\n",
       "      <td>respected sirmadam আমার নাম জয়ন্ত মণ্ডল আমার ...</td>\n",
       "      <td></td>\n",
       "      <td>[0.0, 0.0, 0.0, 0.0, 0.0, 0.0, 0.0, 0.0, 0.0, ...</td>\n",
       "    </tr>\n",
       "    <tr>\n",
       "      <th>30</th>\n",
       "      <td>மதிப்பிற்குரிய ஐயா வணக்கம் பொருள் எரிவாயு சப்ள...</td>\n",
       "      <td></td>\n",
       "      <td>[0.0, 0.0, 0.0, 0.0, 0.0, 0.0, 0.0, 0.0, 0.0, ...</td>\n",
       "    </tr>\n",
       "    <tr>\n",
       "      <th>40</th>\n",
       "      <td>নমস্কার স্যার আমি আপনার কাছে একটাই অনুরোধ যে আ...</td>\n",
       "      <td></td>\n",
       "      <td>[0.0, 0.0, 0.0, 0.0, 0.0, 0.0, 0.0, 0.0, 0.0, ...</td>\n",
       "    </tr>\n",
       "    <tr>\n",
       "      <th>52</th>\n",
       "      <td>ঘার কে লিয়ে এপ্লাই</td>\n",
       "      <td></td>\n",
       "      <td>[0.0, 0.0, 0.0, 0.0, 0.0, 0.0, 0.0, 0.0, 0.0, ...</td>\n",
       "    </tr>\n",
       "    <tr>\n",
       "      <th>58</th>\n",
       "      <td>স্যার আমি একজন গরীব কৃষক কুলতলী থানার কাওড়াখাল...</td>\n",
       "      <td></td>\n",
       "      <td>[0.0, 0.0, 0.0, 0.0, 0.0, 0.0, 0.0, 0.0, 0.0, ...</td>\n",
       "    </tr>\n",
       "    <tr>\n",
       "      <th>...</th>\n",
       "      <td>...</td>\n",
       "      <td>...</td>\n",
       "      <td>...</td>\n",
       "    </tr>\n",
       "    <tr>\n",
       "      <th>1349791</th>\n",
       "      <td>માનનીય સાહેબ જીતના અભિનંદન પણ દાહોદ ની જીતથી હ...</td>\n",
       "      <td></td>\n",
       "      <td>[0.0, 0.0, 0.0, 0.0, 0.0, 0.0, 0.0, 0.0, 0.0, ...</td>\n",
       "    </tr>\n",
       "    <tr>\n",
       "      <th>1349793</th>\n",
       "      <td>மேதகு பாரதபிரதமர் அவர்களுக்கு பணிவான முதல் வணக...</td>\n",
       "      <td></td>\n",
       "      <td>[0.0, 0.0, 0.0, 0.0, 0.0, 0.0, 0.0, 0.0, 0.0, ...</td>\n",
       "    </tr>\n",
       "    <tr>\n",
       "      <th>1349808</th>\n",
       "      <td>মোৰ শ্ৰদ্ধাৰ মৰমৰ আদৰণীয় সন্মানীয় মাননীয় ভাৰতৰ...</td>\n",
       "      <td></td>\n",
       "      <td>[0.0, 0.0, 0.0, 0.0, 0.0, 0.0, 0.0, 0.0, 0.0, ...</td>\n",
       "    </tr>\n",
       "    <tr>\n",
       "      <th>1349822</th>\n",
       "      <td>பாரத் மாதாகி ஜெய் பாரத் மாதாகி ஜெய் பாரத் மாதா...</td>\n",
       "      <td></td>\n",
       "      <td>[0.0, 0.0, 0.0, 0.0, 0.0, 0.0, 0.0, 0.0, 0.0, ...</td>\n",
       "    </tr>\n",
       "    <tr>\n",
       "      <th>1349827</th>\n",
       "      <td>congratulations ખૂબ ખૂબ અભિનંદન</td>\n",
       "      <td></td>\n",
       "      <td>[0.0, 0.0, 0.0, 0.0, 0.0, 0.0, 0.0, 0.0, 0.0, ...</td>\n",
       "    </tr>\n",
       "  </tbody>\n",
       "</table>\n",
       "<p>94353 rows × 3 columns</p>\n",
       "</div>"
      ],
      "text/plain": [
       "                                           subject_content isDevnagri  \\\n",
       "13       respected sirmadam আমার নাম জয়ন্ত মণ্ডল আমার ...              \n",
       "30       மதிப்பிற்குரிய ஐயா வணக்கம் பொருள் எரிவாயு சப்ள...              \n",
       "40       নমস্কার স্যার আমি আপনার কাছে একটাই অনুরোধ যে আ...              \n",
       "52                                     ঘার কে লিয়ে এপ্লাই              \n",
       "58       স্যার আমি একজন গরীব কৃষক কুলতলী থানার কাওড়াখাল...              \n",
       "...                                                    ...        ...   \n",
       "1349791  માનનીય સાહેબ જીતના અભિનંદન પણ દાહોદ ની જીતથી હ...              \n",
       "1349793  மேதகு பாரதபிரதமர் அவர்களுக்கு பணிவான முதல் வணக...              \n",
       "1349808  মোৰ শ্ৰদ্ধাৰ মৰমৰ আদৰণীয় সন্মানীয় মাননীয় ভাৰতৰ...              \n",
       "1349822  பாரத் மாதாகி ஜெய் பாரத் மாதாகி ஜெய் பாரத் மாதா...              \n",
       "1349827                    congratulations ખૂબ ખૂબ અભિનંદન              \n",
       "\n",
       "                                                histograms  \n",
       "13       [0.0, 0.0, 0.0, 0.0, 0.0, 0.0, 0.0, 0.0, 0.0, ...  \n",
       "30       [0.0, 0.0, 0.0, 0.0, 0.0, 0.0, 0.0, 0.0, 0.0, ...  \n",
       "40       [0.0, 0.0, 0.0, 0.0, 0.0, 0.0, 0.0, 0.0, 0.0, ...  \n",
       "52       [0.0, 0.0, 0.0, 0.0, 0.0, 0.0, 0.0, 0.0, 0.0, ...  \n",
       "58       [0.0, 0.0, 0.0, 0.0, 0.0, 0.0, 0.0, 0.0, 0.0, ...  \n",
       "...                                                    ...  \n",
       "1349791  [0.0, 0.0, 0.0, 0.0, 0.0, 0.0, 0.0, 0.0, 0.0, ...  \n",
       "1349793  [0.0, 0.0, 0.0, 0.0, 0.0, 0.0, 0.0, 0.0, 0.0, ...  \n",
       "1349808  [0.0, 0.0, 0.0, 0.0, 0.0, 0.0, 0.0, 0.0, 0.0, ...  \n",
       "1349822  [0.0, 0.0, 0.0, 0.0, 0.0, 0.0, 0.0, 0.0, 0.0, ...  \n",
       "1349827  [0.0, 0.0, 0.0, 0.0, 0.0, 0.0, 0.0, 0.0, 0.0, ...  \n",
       "\n",
       "[94353 rows x 3 columns]"
      ]
     },
     "execution_count": 5,
     "metadata": {},
     "output_type": "execute_result"
    }
   ],
   "source": [
    "df"
   ]
  },
  {
   "cell_type": "code",
   "execution_count": 6,
   "metadata": {},
   "outputs": [],
   "source": [
    "df.reset_index(drop=True, inplace=True)"
   ]
  },
  {
   "cell_type": "code",
   "execution_count": 7,
   "metadata": {},
   "outputs": [],
   "source": [
    "df = df.loc[ df.histograms.map(lambda x: ~np.isnan(x).any()), :]\n"
   ]
  },
  {
   "cell_type": "code",
   "execution_count": 8,
   "metadata": {},
   "outputs": [],
   "source": [
    "df['labels'] = mbkmeans_clusters(\n",
    "    X=list(df['histograms'].values),\n",
    "    k=clusters,\n",
    ")"
   ]
  },
  {
   "cell_type": "code",
   "execution_count": 10,
   "metadata": {},
   "outputs": [
    {
     "data": {
      "text/plain": [
       "1    58914\n",
       "2    11580\n",
       "0     8950\n",
       "6     5335\n",
       "4     3223\n",
       "5     1101\n",
       "3      891\n",
       "Name: labels, dtype: int64"
      ]
     },
     "execution_count": 10,
     "metadata": {},
     "output_type": "execute_result"
    }
   ],
   "source": [
    "df.labels.value_counts()"
   ]
  },
  {
   "cell_type": "code",
   "execution_count": 11,
   "metadata": {},
   "outputs": [
    {
     "data": {
      "text/html": [
       "<div>\n",
       "<style scoped>\n",
       "    .dataframe tbody tr th:only-of-type {\n",
       "        vertical-align: middle;\n",
       "    }\n",
       "\n",
       "    .dataframe tbody tr th {\n",
       "        vertical-align: top;\n",
       "    }\n",
       "\n",
       "    .dataframe thead th {\n",
       "        text-align: right;\n",
       "    }\n",
       "</style>\n",
       "<table border=\"1\" class=\"dataframe\">\n",
       "  <thead>\n",
       "    <tr style=\"text-align: right;\">\n",
       "      <th></th>\n",
       "      <th>subject_content</th>\n",
       "      <th>isDevnagri</th>\n",
       "      <th>histograms</th>\n",
       "      <th>labels</th>\n",
       "    </tr>\n",
       "  </thead>\n",
       "  <tbody>\n",
       "    <tr>\n",
       "      <th>0</th>\n",
       "      <td>respected sirmadam আমার নাম জয়ন্ত মণ্ডল আমার ...</td>\n",
       "      <td></td>\n",
       "      <td>[0.0, 0.0, 0.0, 0.0, 0.0, 0.0, 0.0, 0.0, 0.0, ...</td>\n",
       "      <td>6</td>\n",
       "    </tr>\n",
       "    <tr>\n",
       "      <th>1</th>\n",
       "      <td>மதிப்பிற்குரிய ஐயா வணக்கம் பொருள் எரிவாயு சப்ள...</td>\n",
       "      <td></td>\n",
       "      <td>[0.0, 0.0, 0.0, 0.0, 0.0, 0.0, 0.0, 0.0, 0.0, ...</td>\n",
       "      <td>2</td>\n",
       "    </tr>\n",
       "    <tr>\n",
       "      <th>2</th>\n",
       "      <td>নমস্কার স্যার আমি আপনার কাছে একটাই অনুরোধ যে আ...</td>\n",
       "      <td></td>\n",
       "      <td>[0.0, 0.0, 0.0, 0.0, 0.0, 0.0, 0.0, 0.0, 0.0, ...</td>\n",
       "      <td>6</td>\n",
       "    </tr>\n",
       "    <tr>\n",
       "      <th>3</th>\n",
       "      <td>ঘার কে লিয়ে এপ্লাই</td>\n",
       "      <td></td>\n",
       "      <td>[0.0, 0.0, 0.0, 0.0, 0.0, 0.0, 0.0, 0.0, 0.0, ...</td>\n",
       "      <td>6</td>\n",
       "    </tr>\n",
       "    <tr>\n",
       "      <th>4</th>\n",
       "      <td>স্যার আমি একজন গরীব কৃষক কুলতলী থানার কাওড়াখাল...</td>\n",
       "      <td></td>\n",
       "      <td>[0.0, 0.0, 0.0, 0.0, 0.0, 0.0, 0.0, 0.0, 0.0, ...</td>\n",
       "      <td>6</td>\n",
       "    </tr>\n",
       "    <tr>\n",
       "      <th>...</th>\n",
       "      <td>...</td>\n",
       "      <td>...</td>\n",
       "      <td>...</td>\n",
       "      <td>...</td>\n",
       "    </tr>\n",
       "    <tr>\n",
       "      <th>94348</th>\n",
       "      <td>માનનીય સાહેબ જીતના અભિનંદન પણ દાહોદ ની જીતથી હ...</td>\n",
       "      <td></td>\n",
       "      <td>[0.0, 0.0, 0.0, 0.0, 0.0, 0.0, 0.0, 0.0, 0.0, ...</td>\n",
       "      <td>1</td>\n",
       "    </tr>\n",
       "    <tr>\n",
       "      <th>94349</th>\n",
       "      <td>மேதகு பாரதபிரதமர் அவர்களுக்கு பணிவான முதல் வணக...</td>\n",
       "      <td></td>\n",
       "      <td>[0.0, 0.0, 0.0, 0.0, 0.0, 0.0, 0.0, 0.0, 0.0, ...</td>\n",
       "      <td>2</td>\n",
       "    </tr>\n",
       "    <tr>\n",
       "      <th>94350</th>\n",
       "      <td>মোৰ শ্ৰদ্ধাৰ মৰমৰ আদৰণীয় সন্মানীয় মাননীয় ভাৰতৰ...</td>\n",
       "      <td></td>\n",
       "      <td>[0.0, 0.0, 0.0, 0.0, 0.0, 0.0, 0.0, 0.0, 0.0, ...</td>\n",
       "      <td>6</td>\n",
       "    </tr>\n",
       "    <tr>\n",
       "      <th>94351</th>\n",
       "      <td>பாரத் மாதாகி ஜெய் பாரத் மாதாகி ஜெய் பாரத் மாதா...</td>\n",
       "      <td></td>\n",
       "      <td>[0.0, 0.0, 0.0, 0.0, 0.0, 0.0, 0.0, 0.0, 0.0, ...</td>\n",
       "      <td>2</td>\n",
       "    </tr>\n",
       "    <tr>\n",
       "      <th>94352</th>\n",
       "      <td>congratulations ખૂબ ખૂબ અભિનંદન</td>\n",
       "      <td></td>\n",
       "      <td>[0.0, 0.0, 0.0, 0.0, 0.0, 0.0, 0.0, 0.0, 0.0, ...</td>\n",
       "      <td>1</td>\n",
       "    </tr>\n",
       "  </tbody>\n",
       "</table>\n",
       "<p>89994 rows × 4 columns</p>\n",
       "</div>"
      ],
      "text/plain": [
       "                                         subject_content isDevnagri  \\\n",
       "0      respected sirmadam আমার নাম জয়ন্ত মণ্ডল আমার ...              \n",
       "1      மதிப்பிற்குரிய ஐயா வணக்கம் பொருள் எரிவாயு சப்ள...              \n",
       "2      নমস্কার স্যার আমি আপনার কাছে একটাই অনুরোধ যে আ...              \n",
       "3                                    ঘার কে লিয়ে এপ্লাই              \n",
       "4      স্যার আমি একজন গরীব কৃষক কুলতলী থানার কাওড়াখাল...              \n",
       "...                                                  ...        ...   \n",
       "94348  માનનીય સાહેબ જીતના અભિનંદન પણ દાહોદ ની જીતથી હ...              \n",
       "94349  மேதகு பாரதபிரதமர் அவர்களுக்கு பணிவான முதல் வணக...              \n",
       "94350  মোৰ শ্ৰদ্ধাৰ মৰমৰ আদৰণীয় সন্মানীয় মাননীয় ভাৰতৰ...              \n",
       "94351  பாரத் மாதாகி ஜெய் பாரத் மாதாகி ஜெய் பாரத் மாதா...              \n",
       "94352                    congratulations ખૂબ ખૂબ અભિનંદન              \n",
       "\n",
       "                                              histograms  labels  \n",
       "0      [0.0, 0.0, 0.0, 0.0, 0.0, 0.0, 0.0, 0.0, 0.0, ...       6  \n",
       "1      [0.0, 0.0, 0.0, 0.0, 0.0, 0.0, 0.0, 0.0, 0.0, ...       2  \n",
       "2      [0.0, 0.0, 0.0, 0.0, 0.0, 0.0, 0.0, 0.0, 0.0, ...       6  \n",
       "3      [0.0, 0.0, 0.0, 0.0, 0.0, 0.0, 0.0, 0.0, 0.0, ...       6  \n",
       "4      [0.0, 0.0, 0.0, 0.0, 0.0, 0.0, 0.0, 0.0, 0.0, ...       6  \n",
       "...                                                  ...     ...  \n",
       "94348  [0.0, 0.0, 0.0, 0.0, 0.0, 0.0, 0.0, 0.0, 0.0, ...       1  \n",
       "94349  [0.0, 0.0, 0.0, 0.0, 0.0, 0.0, 0.0, 0.0, 0.0, ...       2  \n",
       "94350  [0.0, 0.0, 0.0, 0.0, 0.0, 0.0, 0.0, 0.0, 0.0, ...       6  \n",
       "94351  [0.0, 0.0, 0.0, 0.0, 0.0, 0.0, 0.0, 0.0, 0.0, ...       2  \n",
       "94352  [0.0, 0.0, 0.0, 0.0, 0.0, 0.0, 0.0, 0.0, 0.0, ...       1  \n",
       "\n",
       "[89994 rows x 4 columns]"
      ]
     },
     "execution_count": 11,
     "metadata": {},
     "output_type": "execute_result"
    }
   ],
   "source": [
    "df"
   ]
  },
  {
   "cell_type": "code",
   "execution_count": 11,
   "metadata": {},
   "outputs": [],
   "source": [
    "df[df.labels == 2].subject_content.to_csv(\"/Volumes/olaaaa/Thesis_backup/count_languages_devnagri/scripts/\"+str(2)+\".csv\")"
   ]
  },
  {
   "cell_type": "code",
   "execution_count": 12,
   "metadata": {},
   "outputs": [
    {
     "name": "stdout",
     "output_type": "stream",
     "text": [
      "                                         subject_content isDevnagri  \\\n",
      "8      ಭಾರತ ಮತ್ತು ಚೀನಾ ನಡುವಿನ ಯುದ್ಧದಲ್ಲಿ ನನಗೆ ಭಾಗವಹಿಸ...              \n",
      "9      ಭಾರತ ಮತ್ತು ಚೀನಾ ನಡುವಿನ ಯುದ್ಧದಲ್ಲಿ ನನಗೆ ಭಾಗವಹಿಸ...              \n",
      "23     dear sir i m ganesh kundapura ಸರ್ ಭಾರತ ಚೀನಾದ ಗ...              \n",
      "73     ಭಾರತದ ಪ್ರಧಾನ ಮಂತ್ರಿಗಳಾದ ಶ್ರೀ ನರೇಂದ್ರ ದಾಮೋದರದಾಸ...              \n",
      "95     ಸರ್ ನನ್ನದೊಂದು ವಿನಂತಿ ನಾನು sansera engineering ...              \n",
      "...                                                  ...        ...   \n",
      "89959  dear sir ಯಾವ ಧರ್ಮವನ್ನು ದ್ವೇಷಿಸಲಿಲ್ಲ ಯಾವ ಜಾತಿಯನ...              \n",
      "89969  ಬಿಜೆಪಿ ಅಭೂತಪೂವ ಗೆಲುವಿನಲ್ಲಿ ಪ್ರಮುಖ ಪಾತ್ರ ವಹಿಸಿದ...              \n",
      "89978   ಲೋಕಸಭಾ ಚುಣಾವನೆಯಲ್ಲಿ ಮುನ್ನಡೆ ಸಾಧಿಸಿರುವ ನನ್ನ ಆತ...              \n",
      "89982  ಪ್ರಧಾನ ಮಂತ್ರಿಗಳು ಶ್ರೀ ಮೋದಿಯವರಿಗೆ ಹೃದಯಪೂರ್ವಕ ಜಯ...              \n",
      "89983  ಪ್ರಧಾನ ಮಂತ್ರಿ ಗಳಲ್ಲಿ ಮನವಿ ಸಮುದ್ರಕ್ಕೆ ಹತ್ತಿರವಿರ...              \n",
      "\n",
      "                                              histograms  labels  \n",
      "8      [0.0, 0.0, 0.0, 0.0, 0.0, 0.0, 0.0, 0.0, 0.0, ...       0  \n",
      "9      [0.0, 0.0, 0.0, 0.0, 0.0, 0.0, 0.0, 0.0, 0.0, ...       0  \n",
      "23     [0.0, 0.0, 0.0, 0.0, 0.0, 0.0, 0.0, 0.0, 0.0, ...       0  \n",
      "73     [0.0, 0.0, 0.0, 0.0, 0.0, 0.0, 0.0, 0.0, 0.0, ...       0  \n",
      "95     [0.0, 0.0, 0.0, 0.0, 0.0, 0.0, 0.0, 0.0, 0.0, ...       0  \n",
      "...                                                  ...     ...  \n",
      "89959  [0.0, 0.0, 0.0, 0.0, 0.0, 0.0, 0.0, 0.0, 0.0, ...       0  \n",
      "89969  [0.0, 0.0, 0.0, 0.0, 0.0, 0.0, 0.0, 0.0, 0.0, ...       0  \n",
      "89978  [0.0, 0.0, 0.0, 0.0, 0.0, 0.0, 0.0, 0.0, 0.0, ...       0  \n",
      "89982  [0.0, 0.0, 0.0, 0.0, 0.0, 0.0, 0.0, 0.0, 0.0, ...       0  \n",
      "89983  [0.0, 0.0, 0.0, 0.0, 0.0, 0.0, 0.0, 0.0, 0.0, ...       0  \n",
      "\n",
      "[8950 rows x 4 columns]\n",
      "                                         subject_content isDevnagri  \\\n",
      "6      માનનીય વડાપ્રધાનશ્રી નરેન્દ્રભાઈ મોદી સાહેબસાહ...              \n",
      "7      માનનીય વડાપ્રધાનશ્રી નરેન્દ્રભાઈ મોદી સાહેબસાહ...              \n",
      "10     માનનીય સાહેબ નરેન્દ્ર મોદી આપણે જાણીએ છીએ કે ક...              \n",
      "11     માનનીય પ્રધાનમંત્રી સાહેબ મારી તમને નમ્ર વિનંત...              \n",
      "18     તમે મહાભારત કે રામાયણ માં શહીદ શબ્દ સાંભળ્યો આ...              \n",
      "...                                                  ...        ...   \n",
      "89984  માનનીક્ષી વડાપ્રધાન શ્રી નરેન્દ્ર મોદી તમને વિ...              \n",
      "89986  નમસ્તે મોદી સાહેબ પૂર્ણ બહુમત માટે ખૂબ ખૂબ અભિ...              \n",
      "89988  આદરણીય મોદી સાહેબ ને સપ્રેમ નમસ્કાર સાહેબ હવે ...              \n",
      "89989  માનનીય સાહેબ જીતના અભિનંદન પણ દાહોદ ની જીતથી હ...              \n",
      "89993                    congratulations ખૂબ ખૂબ અભિનંદન              \n",
      "\n",
      "                                              histograms  labels  \n",
      "6      [0.0, 0.0, 0.0, 0.0, 0.0, 0.0, 0.0, 0.0, 0.0, ...       1  \n",
      "7      [0.0, 0.0, 0.0, 0.0, 0.0, 0.0, 0.0, 0.0, 0.0, ...       1  \n",
      "10     [0.0, 0.0, 0.0, 0.0, 0.0, 0.0, 0.0, 0.0, 0.0, ...       1  \n",
      "11     [0.0, 0.0, 0.0, 0.0, 0.0, 0.0, 0.0, 0.0, 0.0, ...       1  \n",
      "18     [0.0, 0.0, 0.0, 0.0, 0.0, 0.0, 0.0, 0.0, 0.0, ...       1  \n",
      "...                                                  ...     ...  \n",
      "89984  [0.0, 0.0, 0.0, 0.0, 0.0, 0.0, 0.0, 0.0, 0.0, ...       1  \n",
      "89986  [0.0, 0.0, 0.0, 0.0, 0.0, 0.0, 0.0, 0.0, 0.0, ...       1  \n",
      "89988  [0.0, 0.0, 0.0, 0.0, 0.0, 0.0, 0.0, 0.0, 0.0, ...       1  \n",
      "89989  [0.0, 0.0, 0.0, 0.0, 0.0, 0.0, 0.0, 0.0, 0.0, ...       1  \n",
      "89993  [0.0, 0.0, 0.0, 0.0, 0.0, 0.0, 0.0, 0.0, 0.0, ...       1  \n",
      "\n",
      "[58914 rows x 4 columns]\n",
      "                                         subject_content isDevnagri  \\\n",
      "1      மதிப்பிற்குரிய ஐயா வணக்கம் பொருள் எரிவாயு சப்ள...              \n",
      "12     பாரத பிரதமர் திரு நரேந்திர மோடி அவர்களுக்கு வண...              \n",
      "14     மதிப்பிற்குறிய பாரத பிரதமர் அவர்களுக்கு வணக்கம...              \n",
      "16     respected sir நான் ஒரு indian army its my ambi...              \n",
      "20     ஐயா எனது பெயர் பழனிசாமி நான் சேலம் மாவட்டம் எட...              \n",
      "...                                                  ...        ...   \n",
      "89948  மாண்புமிகு அய்யா வணக்கம்…… தேர்தலில் நாடு முழு...              \n",
      "89955  மீண்டும் பிரதமர் பதவில் அமரும் பிரைம் மினிஸ்டர...              \n",
      "89976  சேலம் மாவட்டம் ஓமலூர் வட்டம் தாரமங்கலம் எம் ஜி...              \n",
      "89990  மேதகு பாரதபிரதமர் அவர்களுக்கு பணிவான முதல் வணக...              \n",
      "89992  பாரத் மாதாகி ஜெய் பாரத் மாதாகி ஜெய் பாரத் மாதா...              \n",
      "\n",
      "                                              histograms  labels  \n",
      "1      [0.0, 0.0, 0.0, 0.0, 0.0, 0.0, 0.0, 0.0, 0.0, ...       2  \n",
      "12     [0.0, 0.0, 0.0, 0.0, 0.0, 0.0, 0.0, 0.0, 0.0, ...       2  \n",
      "14     [0.0, 0.0, 0.0, 0.0, 0.0, 0.0, 0.0, 0.0, 0.0, ...       2  \n",
      "16     [0.0, 0.0, 0.0, 0.0, 0.0, 0.0, 0.0, 0.0, 0.0, ...       2  \n",
      "20     [0.0, 0.0, 0.0, 0.0, 0.0, 0.0, 0.0, 0.0, 0.0, ...       2  \n",
      "...                                                  ...     ...  \n",
      "89948  [0.0, 0.0, 0.0, 0.0, 0.0, 0.0, 0.0, 0.0, 0.0, ...       2  \n",
      "89955  [0.0, 0.0, 0.0, 0.0, 0.0, 0.0, 0.0, 0.0, 0.0, ...       2  \n",
      "89976  [0.0, 0.0, 0.0, 0.0, 0.0, 0.0, 0.0, 0.0, 0.0, ...       2  \n",
      "89990  [0.0, 0.0, 0.0, 0.0, 0.0, 0.0, 0.0, 0.0, 0.0, ...       2  \n",
      "89992  [0.0, 0.0, 0.0, 0.0, 0.0, 0.0, 0.0, 0.0, 0.0, ...       2  \n",
      "\n",
      "[11580 rows x 4 columns]\n",
      "                                         subject_content isDevnagri  \\\n",
      "123    ମାନ୍ୟବର ପ୍ରଧାନମନ୍ତ୍ରୀଙ୍କୁ ମୋର ନମସ୍କାର । ମୁଁ ପୁ...              \n",
      "146    सूशांत सर को इनशाफ मिलना चाहिए । miss you susa...              \n",
      "156    sir ନମସ୍କାର i am ramesh chandra barik father l...              \n",
      "158    ସଂମାନିୟ ପ୍ରଧାନମନ୍ତ୍ରୀ ଆବାଶ ଯୋଜନା ବିଷୟମୁଁ ମାଟି ...              \n",
      "190    ଧନ୍ୟବାଦ। ମୁଁ ଓଡ଼ିଶାର ଏକ ଗ୍ରାମର ବାସିନ୍ଦା। ସରକାର...              \n",
      "...                                                  ...        ...   \n",
      "89533  ମାନନୀୟ ଶ୍ରୀ ଯୁକ୍ତ ପ୍ରଧାନମନ୍ତ୍ରୀ ଭାରତ ସରକାର ନୁଆ...              \n",
      "89611  ମାନନୀୟ ପ୍ରିୟର ପ୍ରଧାନମନ୍ତ୍ରୀ ପ୍ରଥମେ ମୋର ନମସ୍କାର...              \n",
      "89726  ମହାଶୟ ନିବେଦନ ର ଅଭିପ୍ରାୟ ଏହି କି ଯେ ମୁ ଓ ମୋର ସପର...              \n",
      "89797  ସାର୍ ନମସ୍କାର୍ ସାର୍ ମୁଁ ଶ୍ରି ରବିନ୍ଦ୍ର କୁମାର ତ୍ର...              \n",
      "89890  ମୋର ପ୍ରିୟ ପ୍ରଧାନମନ୍ତ୍ରୀ ନରେନ୍ଦ୍ର ମୋଦି ଜୀ ମହୋଦୟ...              \n",
      "\n",
      "                                              histograms  labels  \n",
      "123    [0.0, 0.0, 0.0, 0.0, 0.0, 0.0, 0.0, 0.0, 0.0, ...       3  \n",
      "146    [0.0, 0.0, 0.0, 0.0, 0.0, 0.0, 0.1474419561548...       3  \n",
      "156    [0.0, 0.0, 0.0, 0.0, 0.0, 0.0, 0.0, 0.0, 0.0, ...       3  \n",
      "158    [0.0, 0.0, 0.0, 0.0, 0.0, 0.0, 0.0, 0.0, 0.0, ...       3  \n",
      "190    [0.0, 0.0, 0.0, 0.0, 0.0, 0.0, 0.0, 0.0, 0.0, ...       3  \n",
      "...                                                  ...     ...  \n",
      "89533  [0.0, 0.0, 0.0, 0.0, 0.0, 0.0, 0.0, 0.0, 0.0, ...       3  \n",
      "89611  [0.0, 0.0, 0.0, 0.0, 0.0, 0.0, 0.0, 0.0, 0.0, ...       3  \n",
      "89726  [0.0, 0.0, 0.0, 0.0, 0.0, 0.0, 0.0, 0.0, 0.0, ...       3  \n",
      "89797  [0.0, 0.0, 0.0, 0.0, 0.0, 0.0, 0.0, 0.0, 0.0, ...       3  \n",
      "89890  [0.0, 0.0, 0.0, 0.0, 0.0, 0.0, 0.0, 0.0, 0.0, ...       3  \n",
      "\n",
      "[891 rows x 4 columns]\n",
      "                                         subject_content isDevnagri  \\\n",
      "17     గౌరవనియులైన ప్రధానమంత్రి శ్రీ నరేంద్రమోడీ గారి...              \n",
      "111    భారతదేశ ప్రధాన మంత్రి వర్యులయినటువంటి శ్రీ మహా...              \n",
      "122    ఆంధ్రప్రదేశ్ లో మీసేవ నిర్వాహకులు బ్రతుకులు కా...              \n",
      "274     reliance is destroying the seashore villages ...              \n",
      "277    గౌరవనీయులైన ప్రధాన మంత్రి గారికి నమస్కారములతో ...              \n",
      "...                                                  ...        ...   \n",
      "89951  bjp భారత దేశంలో బి జె పి గెలుపు తథ్యం 🇮🇳 bjp o...              \n",
      "89960  ప్రధానమంత్రి నరేంద్రమోడీ గారికి పాదాభి వందనం న...              \n",
      "89964  భారతదేశ పార్లమెంట్ ఎన్నికల లో akhanda vijayam ...              \n",
      "89966  congratulations modiji మరోసారి మీరు ప్రధానమంత్...              \n",
      "89970  pm of india manya sri నరేంద్ర మోది గారికి హ్రు...              \n",
      "\n",
      "                                              histograms  labels  \n",
      "17     [0.0, 0.0, 0.0, 0.0, 0.0, 0.0, 0.0, 0.0, 0.0, ...       4  \n",
      "111    [0.0, 0.0, 0.0, 0.0, 0.0, 0.0, 0.0, 0.0, 0.0, ...       4  \n",
      "122    [0.0, 0.0, 0.0, 0.0, 0.0, 0.0, 0.0, 0.0, 0.0, ...       4  \n",
      "274    [0.0, 0.0, 0.0, 0.0, 0.0, 0.0, 0.0, 0.0, 0.0, ...       4  \n",
      "277    [0.0, 0.0, 0.0, 0.0, 0.0, 0.0, 0.0, 0.0, 0.0, ...       4  \n",
      "...                                                  ...     ...  \n",
      "89951  [0.0, 0.0, 0.0, 0.0, 0.0, 0.0, 0.0, 0.0, 0.0, ...       4  \n",
      "89960  [0.0, 0.0, 0.0, 0.0, 0.0, 0.0, 0.0, 0.0, 0.0, ...       4  \n",
      "89964  [0.0, 0.0, 0.0, 0.0, 0.0, 0.0, 0.0, 0.0, 0.0, ...       4  \n",
      "89966  [0.0, 0.0, 0.0, 0.0, 0.0, 0.0, 0.0, 0.0, 0.0, ...       4  \n",
      "89970  [0.0, 0.0, 0.0, 0.0, 0.0, 0.0, 0.0, 0.0, 0.0, ...       4  \n",
      "\n",
      "[3223 rows x 4 columns]\n",
      "                                         subject_content isDevnagri  \\\n",
      "75     ਸ਼੍ਰੀ ਨਰਿੰਦਰਮੋਦੀ ਜੀ ਸਾਨੂੰ ਅਵਾਸ ਯੋਜਨਾ ਨਹੀ ਮਿਲਿਆ ...              \n",
      "133    ਮੇਰਾ ਪੁਰਾ ਮਕਾਨ ਕੱਚਾ ਹੈ ।ਮੈ ਸਰਪੰਚ ਕੋ ਕਾਫ਼ੀ ਬਾਰ ਫ਼...              \n",
      "309    pm saab ji ਆਪ ਜੀ ਨੂੰ ਸਰਕਾਰੀ ਨੌਕਰੀ ਦੇ regarding...              \n",
      "321    ਸਤਿ ਸ੍ਰੀ ਅਕਾਲ ਪ੍ਰਧਾਨ ਮੰਤਰੀ ਜੀ। ਬੇਨਤੀ ਹੈ ਜੀ ਕਿ ...              \n",
      "323    ਸਤਿ ਸ੍ਰੀ ਅਕਾਲ ਪ੍ਰਧਾਨ ਮੰਤਰੀ ਜੀ। ਬੇਨਤੀ ਹੈ ਕਿ ਜੀ ...              \n",
      "...                                                  ...        ...   \n",
      "89882  ਮੈਬਲਵੀਰਸਿੰਘਪੁਤਰਬਗੀਚਾਸਿੰਘਪਿਡਆਸਪਾਲਾਨੇੜੇਸਰਕਾਰੀਸਕੂ...              \n",
      "89883  ਮੈਬਹੋੜਸਿਘਪਿਡਆਸਪਾਲਾਨੇੜੇਸਰਕਾਰੀਸਕੂਲਤਸਹੀਲਮਲੋਟਜਿਲਾਮ...              \n",
      "89907  ਮੈਕੁਲਦੀਪਸਿੰਘਪੁਤਰਮਿਲਖਾਸਿੰਘਪਿਡਆਸਪਾਲਾਨੇੜੇਪੰਚਾਇਤਘਰ...              \n",
      "89908  ਸਰ ਮੇਰਾ ਨਾਮ ਗਿਅਾਨੋ ਦੇਵੀ ਪਤਨੀ ਪ੍ਤੀਮ ਦਾਸ ਹੈ ਸਰ ਮ...              \n",
      "89944  ਸਤਿਕਾਰ ਯੋਗ ਤੇ ਸਾਡੇ ਹਰਮਨ ਪਿਆਰੇ ਪ੍ਰਧਾਂਨ ਮੰਤਰੀ ਸਾ...              \n",
      "\n",
      "                                              histograms  labels  \n",
      "75     [0.0, 0.0, 0.0, 0.0, 0.0, 0.0, 0.0, 0.0, 0.0, ...       5  \n",
      "133    [0.0, 0.0, 0.0, 0.0, 0.0, 0.0, 0.0, 0.0, 0.0, ...       5  \n",
      "309    [0.0, 0.0, 0.0, 0.0, 0.0, 0.0, 0.0, 0.0, 0.0, ...       5  \n",
      "321    [0.0, 0.0, 0.0, 0.0, 0.0, 0.0, 0.0, 0.0, 0.0, ...       5  \n",
      "323    [0.0, 0.0, 0.0, 0.0, 0.0, 0.0, 0.0, 0.0, 0.0, ...       5  \n",
      "...                                                  ...     ...  \n",
      "89882  [0.0, 0.0, 0.0, 0.0, 0.0, 0.0, 0.0, 0.0, 0.0, ...       5  \n",
      "89883  [0.0, 0.0, 0.0, 0.0, 0.0, 0.0, 0.0, 0.0, 0.0, ...       5  \n",
      "89907  [0.0, 0.0, 0.0, 0.0, 0.0, 0.0, 0.0, 0.0, 0.0, ...       5  \n",
      "89908  [0.0, 0.0, 0.0, 0.0, 0.0, 0.0, 0.0, 0.0, 0.0, ...       5  \n",
      "89944  [0.0, 0.0, 0.0, 0.0, 0.0, 0.0, 0.0, 0.0, 0.0, ...       5  \n",
      "\n",
      "[1101 rows x 4 columns]\n",
      "                                         subject_content isDevnagri  \\\n",
      "0      respected sirmadam আমার নাম জয়ন্ত মণ্ডল আমার ...              \n",
      "2      নমস্কার স্যার আমি আপনার কাছে একটাই অনুরোধ যে আ...              \n",
      "3                                    ঘার কে লিয়ে এপ্লাই              \n",
      "4      স্যার আমি একজন গরীব কৃষক কুলতলী থানার কাওড়াখাল...              \n",
      "5      dear sir আপনার কাছে আমার বিনিত নিবেদন যে আমার ...              \n",
      "...                                                  ...        ...   \n",
      "89963   অভিনন্দন অভিনন্দন অভিনন্দন । পশ্চিমবঙ্গে স্বাগতম              \n",
      "89972  পিএম মোদি আপনি সত্যিই মানুষের মন চুরি করে নিয়...              \n",
      "89985  ঔঁ মাননীয় প্রধানমন্ত্রী নরেন্দ্র মোদী জী মহাশয়...              \n",
      "89987  স্যার আমি সালে গ্রামীণ ডাক সেবক পদে আবেদন করেছ...              \n",
      "89991  মোৰ শ্ৰদ্ধাৰ মৰমৰ আদৰণীয় সন্মানীয় মাননীয় ভাৰতৰ...              \n",
      "\n",
      "                                              histograms  labels  \n",
      "0      [0.0, 0.0, 0.0, 0.0, 0.0, 0.0, 0.0, 0.0, 0.0, ...       6  \n",
      "2      [0.0, 0.0, 0.0, 0.0, 0.0, 0.0, 0.0, 0.0, 0.0, ...       6  \n",
      "3      [0.0, 0.0, 0.0, 0.0, 0.0, 0.0, 0.0, 0.0, 0.0, ...       6  \n",
      "4      [0.0, 0.0, 0.0, 0.0, 0.0, 0.0, 0.0, 0.0, 0.0, ...       6  \n",
      "5      [0.0, 0.0, 0.0, 0.0, 0.0, 0.0, 0.0, 0.0, 0.0, ...       6  \n",
      "...                                                  ...     ...  \n",
      "89963  [0.0, 0.0, 0.0, 0.0, 0.0, 0.0, 0.0, 0.0, 0.0, ...       6  \n",
      "89972  [0.0, 0.0, 0.0, 0.0, 0.0, 0.0, 0.0, 0.0, 0.0, ...       6  \n",
      "89985  [0.0, 0.0, 0.0, 0.0, 0.0, 0.0, 0.0, 0.0, 0.0, ...       6  \n",
      "89987  [0.0, 0.0, 0.0, 0.0, 0.0, 0.0, 0.0, 0.0, 0.0, ...       6  \n",
      "89991  [0.0, 0.0, 0.0, 0.0, 0.0, 0.0, 0.0, 0.0, 0.0, ...       6  \n",
      "\n",
      "[5335 rows x 4 columns]\n"
     ]
    }
   ],
   "source": [
    "for i in range(clusters):\n",
    "    print(df[df.labels == i])\n",
    "    df[df.labels == i].subject_content.to_csv(\"/Volumes/olaaaa/Thesis_backup/count_languages_devnagri/scripts/\"+str(i)+\".csv\")"
   ]
  },
  {
   "cell_type": "code",
   "execution_count": null,
   "metadata": {},
   "outputs": [],
   "source": []
  },
  {
   "cell_type": "code",
   "execution_count": 13,
   "metadata": {},
   "outputs": [],
   "source": [
    "with open(\"km_non_roman_non_devnagri.pkl\", \"rb\") as f:\n",
    "        model = pickle.load(f)"
   ]
  },
  {
   "cell_type": "code",
   "execution_count": 24,
   "metadata": {},
   "outputs": [
    {
     "data": {
      "text/plain": [
       "array([1, 0, 2], dtype=int32)"
      ]
     },
     "execution_count": 24,
     "metadata": {},
     "output_type": "execute_result"
    }
   ],
   "source": [
    "model.predict([freq(\"તમે મહાભારત કે રામાયણ માં શહીદ શબ્દ સાંભળ્યો આ શહીદ શબ્દ ઇસ્લામિક છે શહીદ એનેજ કહેવાય જે ઇસ્લામ માટે જેહાદ કરતા મર્યો હોય પણ અજ્ઞાન વશ આજે આપણે વીર જવાનો ને શહીદ શહીદ કહીએ છીએ જે યોગ્ય નથી આ ઉલટી પ્રથા બદલવી પડશે આ ગ્રુપ થી શરૂઆત કરીએ હવે કોઈ વીર જવાન ને શહિદ થયો એમ નહિ કહે વીરગતિ ને પ્રાપ્ત થયો તેમ જ કહેવાનું જ્યારથી શહીદ શબ્દ નો અર્થ સમજ્યો છું ત્યારથી હું શહીદ શબ્દ નો ઉપયોગ કરવાનું ટાલુ છું\"),\\\n",
    "    freq(\"ಆತ್ಮೀಯ ಪ್ರಧಾನ ಮಂತ್ರಿಯವರಿಗೆ ನಾನೂ ಹೇಳುಹುದೇನೆಂದರೆ ತುಂಬಾ ಜನರಿಗೆ ಗೊತ್ತಿಲ್ಲ ಯಾವುವು ಭಾರತ ದೇಶದ ಉತ್ಪನ್ನಗಳು\"),\n",
    "    freq(\"உலகின் மிகப்பெரிய அணையின் பெயர் என்ன\")])"
   ]
  },
  {
   "cell_type": "code",
   "execution_count": null,
   "metadata": {},
   "outputs": [
    {
     "data": {
      "text/plain": [
       "array([1, 0, 2], dtype=int32)"
      ]
     },
     "metadata": {},
     "output_type": "display_data"
    }
   ],
   "source": [
    "model.predict([freq(\"તમે મહાભારત કે રામાયણ માં શહીદ શબ્દ સાંભળ્યો આ શહીદ શબ્દ ઇસ્લામિક છે શહીદ એનેજ કહેવાય જે ઇસ્લામ માટે જેહાદ કરતા મર્યો હોય પણ અજ્ઞાન વશ આજે આપણે વીર જવાનો ને શહીદ શહીદ કહીએ છીએ જે યોગ્ય નથી આ ઉલટી પ્રથા બદલવી પડશે આ ગ્રુપ થી શરૂઆત કરીએ હવે કોઈ વીર જવાન ને શહિદ થયો એમ નહિ કહે વીરગતિ ને પ્રાપ્ત થયો તેમ જ કહેવાનું જ્યારથી શહીદ શબ્દ નો અર્થ સમજ્યો છું ત્યારથી હું શહીદ શબ્દ નો ઉપયોગ કરવાનું ટાલુ છું\"),\\\n",
    "    freq(\"ಆತ್ಮೀಯ ಪ್ರಧಾನ ಮಂತ್ರಿಯವರಿಗೆ ನಾನೂ ಹೇಳುಹುದೇನೆಂದರೆ ತುಂಬಾ ಜನರಿಗೆ ಗೊತ್ತಿಲ್ಲ ಯಾವುವು ಭಾರತ ದೇಶದ ಉತ್ಪನ್ನಗಳು\"),\n",
    "    freq(\"உலகின் மிகப்பெரிய அணையின் பெயர் என்ன\")])"
   ]
  }
 ],
 "metadata": {
  "kernelspec": {
   "display_name": "Python 3.9.5 64-bit",
   "language": "python",
   "name": "python3"
  },
  "language_info": {
   "codemirror_mode": {
    "name": "ipython",
    "version": 3
   },
   "file_extension": ".py",
   "mimetype": "text/x-python",
   "name": "python",
   "nbconvert_exporter": "python",
   "pygments_lexer": "ipython3",
   "version": "3.9.5"
  },
  "orig_nbformat": 4,
  "vscode": {
   "interpreter": {
    "hash": "f9f85f796d01129d0dd105a088854619f454435301f6ffec2fea96ecbd9be4ac"
   }
  }
 },
 "nbformat": 4,
 "nbformat_minor": 2
}
