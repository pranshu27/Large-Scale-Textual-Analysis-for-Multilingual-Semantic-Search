{
 "cells": [
  {
   "cell_type": "code",
   "execution_count": 1,
   "metadata": {},
   "outputs": [
    {
     "name": "stderr",
     "output_type": "stream",
     "text": [
      "[nltk_data] Downloading package stopwords to /Users/joker/nltk_data...\n",
      "[nltk_data]   Package stopwords is already up-to-date!\n"
     ]
    }
   ],
   "source": [
    "import re\n",
    "import string\n",
    "import pandas as pd\n",
    "from math import log\n",
    "import os\n",
    "import random\n",
    "import re\n",
    "import string\n",
    "from collections import Counter\n",
    "from sklearn.cluster import KMeans\n",
    "import pickle\n",
    "\n",
    "import nltk\n",
    "import numpy as np\n",
    "import pandas as pd\n",
    "\n",
    "from gensim.models import Word2Vec\n",
    "\n",
    "from nltk import word_tokenize\n",
    "from nltk.tokenize import wordpunct_tokenize\n",
    "from nltk.corpus import stopwords\n",
    "\n",
    "import warnings\n",
    "warnings.filterwarnings(\"ignore\")\n",
    "nltk.download(\"stopwords\")\n",
    "\n",
    "\n",
    "SEED = 42\n",
    "random.seed(SEED)\n",
    "os.environ[\"PYTHONHASHSEED\"] = str(SEED)\n",
    "np.random.seed(SEED)"
   ]
  },
  {
   "cell_type": "code",
   "execution_count": 2,
   "metadata": {},
   "outputs": [],
   "source": [
    "final_counts = []"
   ]
  },
  {
   "cell_type": "code",
   "execution_count": 3,
   "metadata": {},
   "outputs": [],
   "source": [
    "def clean_text(text):\n",
    "    text = str(text).lower() \n",
    "    text = text.translate (str.maketrans('', '', string.punctuation))\n",
    "    text = re.sub(\"\\d+\", \"\", text)\n",
    "    text = re.sub(r\"\\s+\", \" \", text)  # Remove multiple spaces in content\n",
    "    text = re.sub('[!()-[]{};:\\'\"\\,<>./?@#$%^&*_~–]+', '', text)\n",
    "    return text"
   ]
  },
  {
   "cell_type": "code",
   "execution_count": 8,
   "metadata": {},
   "outputs": [],
   "source": [
    "all_roman = [] #list to keep all the grievances with more Devnagri words than non-Devnagri\n"
   ]
  },
  {
   "cell_type": "code",
   "execution_count": 5,
   "metadata": {},
   "outputs": [],
   "source": [
    "pref = \"/Volumes/olaaaa/Thesis_backup/data/\""
   ]
  },
  {
   "cell_type": "code",
   "execution_count": 9,
   "metadata": {},
   "outputs": [
    {
     "name": "stdout",
     "output_type": "stream",
     "text": [
      "chunk8.csv Size of updated list 771813\n",
      "chunk9.csv Size of updated list 1086405\n",
      "chunk2.csv Size of updated list 1887324\n",
      "chunk3.csv Size of updated list 2817237\n",
      "chunk1.csv Size of updated list 3714626\n",
      "chunk0.csv Size of updated list 4583761\n",
      "chunk4.csv Size of updated list 5579426\n",
      "chunk5.csv Size of updated list 6536852\n",
      "chunk7.csv Size of updated list 7270426\n",
      "chunk6.csv Size of updated list 8053182\n"
     ]
    }
   ],
   "source": [
    "for file in os.listdir(\"/Volumes/olaaaa/Thesis_backup/data\"):\n",
    "    #print(file, \"here\")\n",
    "    if file.endswith(\"csv\"):\n",
    "        # print(\"here\")\n",
    "        df = pd.read_csv(pref+file, header = None, low_memory=False)\n",
    "        # print(len(df))\n",
    "        df = df[[0,21]]\n",
    "        df.columns = ['reg_no', 'subject_content']\n",
    "        \n",
    "        df['subject_content_cleaned'] = df['subject_content'].apply(clean_text)\n",
    "        tmp = [ val for val in df['subject_content_cleaned'].values \\\n",
    "        if len(re.findall(\"[a-z]+\",val)) > 0.5*len(val.split())]\n",
    "        all_roman.extend(tmp) \n",
    "        print(file, \"Size of updated list\", str(len(all_roman)))\n",
    "        # print()\n",
    "        \n",
    "        \n",
    "        "
   ]
  },
  {
   "cell_type": "code",
   "execution_count": 10,
   "metadata": {},
   "outputs": [
    {
     "data": {
      "text/plain": [
       "8053182"
      ]
     },
     "execution_count": 10,
     "metadata": {},
     "output_type": "execute_result"
    }
   ],
   "source": [
    "len(all_roman)"
   ]
  },
  {
   "cell_type": "code",
   "execution_count": 11,
   "metadata": {},
   "outputs": [],
   "source": [
    "\n",
    "with open('all_roman.pkl', 'wb') as f:\n",
    "    pickle.dump(all_roman, f)"
   ]
  },
  {
   "cell_type": "code",
   "execution_count": 12,
   "metadata": {},
   "outputs": [],
   "source": [
    "with open('all_roman.pkl', 'rb') as f:\n",
    "    loaded = pickle.load(f)"
   ]
  },
  {
   "cell_type": "code",
   "execution_count": null,
   "metadata": {},
   "outputs": [],
   "source": [
    "df = pd.DataFrame(all_roman)"
   ]
  },
  {
   "cell_type": "code",
   "execution_count": null,
   "metadata": {},
   "outputs": [],
   "source": [
    "df.columns = ['subject_content']"
   ]
  },
  {
   "cell_type": "code",
   "execution_count": 18,
   "metadata": {},
   "outputs": [],
   "source": [
    "def freq(sent):\n",
    "    arr = np.zeros(26)\n",
    "    for letter in sent:\n",
    "        if 97 <= ord(letter) <= 122:\n",
    "            # print(\"here\")\n",
    "            arr[ord(letter) - 97] += 1 \n",
    "    #arr[::-1].sort()\n",
    "    \n",
    "    return arr / np.linalg.norm(arr) #normalization"
   ]
  },
  {
   "cell_type": "code",
   "execution_count": 17,
   "metadata": {},
   "outputs": [],
   "source": [
    "# list(df.subject_content.values)"
   ]
  },
  {
   "cell_type": "code",
   "execution_count": 20,
   "metadata": {},
   "outputs": [],
   "source": [
    "df['histograms'] = df['subject_content'].apply(freq)"
   ]
  },
  {
   "cell_type": "code",
   "execution_count": 21,
   "metadata": {},
   "outputs": [
    {
     "data": {
      "text/plain": [
       "subject_content    0\n",
       "isDevnagri         0\n",
       "histograms         0\n",
       "dtype: int64"
      ]
     },
     "execution_count": 21,
     "metadata": {},
     "output_type": "execute_result"
    }
   ],
   "source": [
    "df.isna().sum()"
   ]
  },
  {
   "cell_type": "code",
   "execution_count": 22,
   "metadata": {},
   "outputs": [
    {
     "data": {
      "text/html": [
       "<div>\n",
       "<style scoped>\n",
       "    .dataframe tbody tr th:only-of-type {\n",
       "        vertical-align: middle;\n",
       "    }\n",
       "\n",
       "    .dataframe tbody tr th {\n",
       "        vertical-align: top;\n",
       "    }\n",
       "\n",
       "    .dataframe thead th {\n",
       "        text-align: right;\n",
       "    }\n",
       "</style>\n",
       "<table border=\"1\" class=\"dataframe\">\n",
       "  <thead>\n",
       "    <tr style=\"text-align: right;\">\n",
       "      <th></th>\n",
       "      <th>subject_content</th>\n",
       "      <th>isDevnagri</th>\n",
       "      <th>histograms</th>\n",
       "    </tr>\n",
       "  </thead>\n",
       "  <tbody>\n",
       "    <tr>\n",
       "      <th>13</th>\n",
       "      <td>respected sirmadam আমার নাম জয়ন্ত মণ্ডল আমার ...</td>\n",
       "      <td></td>\n",
       "      <td>[0.0, 0.0, 0.0, 0.0, 0.0, 0.0, 0.0, 0.0, 0.0, ...</td>\n",
       "    </tr>\n",
       "    <tr>\n",
       "      <th>30</th>\n",
       "      <td>மதிப்பிற்குரிய ஐயா வணக்கம் பொருள் எரிவாயு சப்ள...</td>\n",
       "      <td></td>\n",
       "      <td>[0.0, 0.0, 0.0, 0.0, 0.0, 0.0, 0.0, 0.0, 0.0, ...</td>\n",
       "    </tr>\n",
       "    <tr>\n",
       "      <th>40</th>\n",
       "      <td>নমস্কার স্যার আমি আপনার কাছে একটাই অনুরোধ যে আ...</td>\n",
       "      <td></td>\n",
       "      <td>[0.0, 0.0, 0.0, 0.0, 0.0, 0.0, 0.0, 0.0, 0.0, ...</td>\n",
       "    </tr>\n",
       "    <tr>\n",
       "      <th>52</th>\n",
       "      <td>ঘার কে লিয়ে এপ্লাই</td>\n",
       "      <td></td>\n",
       "      <td>[0.0, 0.0, 0.0, 0.0, 0.0, 0.0, 0.0, 0.0, 0.0, ...</td>\n",
       "    </tr>\n",
       "    <tr>\n",
       "      <th>58</th>\n",
       "      <td>স্যার আমি একজন গরীব কৃষক কুলতলী থানার কাওড়াখাল...</td>\n",
       "      <td></td>\n",
       "      <td>[0.0, 0.0, 0.0, 0.0, 0.0, 0.0, 0.0, 0.0, 0.0, ...</td>\n",
       "    </tr>\n",
       "  </tbody>\n",
       "</table>\n",
       "</div>"
      ],
      "text/plain": [
       "                                      subject_content isDevnagri  \\\n",
       "13  respected sirmadam আমার নাম জয়ন্ত মণ্ডল আমার ...              \n",
       "30  மதிப்பிற்குரிய ஐயா வணக்கம் பொருள் எரிவாயு சப்ள...              \n",
       "40  নমস্কার স্যার আমি আপনার কাছে একটাই অনুরোধ যে আ...              \n",
       "52                                ঘার কে লিয়ে এপ্লাই              \n",
       "58  স্যার আমি একজন গরীব কৃষক কুলতলী থানার কাওড়াখাল...              \n",
       "\n",
       "                                           histograms  \n",
       "13  [0.0, 0.0, 0.0, 0.0, 0.0, 0.0, 0.0, 0.0, 0.0, ...  \n",
       "30  [0.0, 0.0, 0.0, 0.0, 0.0, 0.0, 0.0, 0.0, 0.0, ...  \n",
       "40  [0.0, 0.0, 0.0, 0.0, 0.0, 0.0, 0.0, 0.0, 0.0, ...  \n",
       "52  [0.0, 0.0, 0.0, 0.0, 0.0, 0.0, 0.0, 0.0, 0.0, ...  \n",
       "58  [0.0, 0.0, 0.0, 0.0, 0.0, 0.0, 0.0, 0.0, 0.0, ...  "
      ]
     },
     "execution_count": 22,
     "metadata": {},
     "output_type": "execute_result"
    }
   ],
   "source": [
    "df_non_roman_non_devnagri.head()"
   ]
  },
  {
   "cell_type": "code",
   "execution_count": 23,
   "metadata": {},
   "outputs": [],
   "source": [
    "with open('df_non_roman_non_devnagri_histograms.pkl', 'wb') as f:\n",
    "    pickle.dump(df_non_roman_non_devnagri, f)"
   ]
  },
  {
   "cell_type": "code",
   "execution_count": 42,
   "metadata": {},
   "outputs": [],
   "source": [
    "with open('df_non_roman_non_devnagri_histograms.pkl', 'rb') as f:\n",
    "    df = pickle.load(f)"
   ]
  },
  {
   "cell_type": "code",
   "execution_count": 43,
   "metadata": {},
   "outputs": [],
   "source": [
    "clusters = 7\n",
    "def mbkmeans_clusters(X, k):\n",
    "    km = KMeans(n_clusters=k).fit(X)\n",
    "    return km.labels_"
   ]
  },
  {
   "cell_type": "code",
   "execution_count": 44,
   "metadata": {},
   "outputs": [
    {
     "data": {
      "text/html": [
       "<div>\n",
       "<style scoped>\n",
       "    .dataframe tbody tr th:only-of-type {\n",
       "        vertical-align: middle;\n",
       "    }\n",
       "\n",
       "    .dataframe tbody tr th {\n",
       "        vertical-align: top;\n",
       "    }\n",
       "\n",
       "    .dataframe thead th {\n",
       "        text-align: right;\n",
       "    }\n",
       "</style>\n",
       "<table border=\"1\" class=\"dataframe\">\n",
       "  <thead>\n",
       "    <tr style=\"text-align: right;\">\n",
       "      <th></th>\n",
       "      <th>subject_content</th>\n",
       "      <th>isDevnagri</th>\n",
       "      <th>histograms</th>\n",
       "    </tr>\n",
       "  </thead>\n",
       "  <tbody>\n",
       "    <tr>\n",
       "      <th>13</th>\n",
       "      <td>respected sirmadam আমার নাম জয়ন্ত মণ্ডল আমার ...</td>\n",
       "      <td></td>\n",
       "      <td>[0.0, 0.0, 0.0, 0.0, 0.0, 0.0, 0.0, 0.0, 0.0, ...</td>\n",
       "    </tr>\n",
       "    <tr>\n",
       "      <th>30</th>\n",
       "      <td>மதிப்பிற்குரிய ஐயா வணக்கம் பொருள் எரிவாயு சப்ள...</td>\n",
       "      <td></td>\n",
       "      <td>[0.0, 0.0, 0.0, 0.0, 0.0, 0.0, 0.0, 0.0, 0.0, ...</td>\n",
       "    </tr>\n",
       "    <tr>\n",
       "      <th>40</th>\n",
       "      <td>নমস্কার স্যার আমি আপনার কাছে একটাই অনুরোধ যে আ...</td>\n",
       "      <td></td>\n",
       "      <td>[0.0, 0.0, 0.0, 0.0, 0.0, 0.0, 0.0, 0.0, 0.0, ...</td>\n",
       "    </tr>\n",
       "    <tr>\n",
       "      <th>52</th>\n",
       "      <td>ঘার কে লিয়ে এপ্লাই</td>\n",
       "      <td></td>\n",
       "      <td>[0.0, 0.0, 0.0, 0.0, 0.0, 0.0, 0.0, 0.0, 0.0, ...</td>\n",
       "    </tr>\n",
       "    <tr>\n",
       "      <th>58</th>\n",
       "      <td>স্যার আমি একজন গরীব কৃষক কুলতলী থানার কাওড়াখাল...</td>\n",
       "      <td></td>\n",
       "      <td>[0.0, 0.0, 0.0, 0.0, 0.0, 0.0, 0.0, 0.0, 0.0, ...</td>\n",
       "    </tr>\n",
       "    <tr>\n",
       "      <th>...</th>\n",
       "      <td>...</td>\n",
       "      <td>...</td>\n",
       "      <td>...</td>\n",
       "    </tr>\n",
       "    <tr>\n",
       "      <th>1349791</th>\n",
       "      <td>માનનીય સાહેબ જીતના અભિનંદન પણ દાહોદ ની જીતથી હ...</td>\n",
       "      <td></td>\n",
       "      <td>[0.0, 0.0, 0.0, 0.0, 0.0, 0.0, 0.0, 0.0, 0.0, ...</td>\n",
       "    </tr>\n",
       "    <tr>\n",
       "      <th>1349793</th>\n",
       "      <td>மேதகு பாரதபிரதமர் அவர்களுக்கு பணிவான முதல் வணக...</td>\n",
       "      <td></td>\n",
       "      <td>[0.0, 0.0, 0.0, 0.0, 0.0, 0.0, 0.0, 0.0, 0.0, ...</td>\n",
       "    </tr>\n",
       "    <tr>\n",
       "      <th>1349808</th>\n",
       "      <td>মোৰ শ্ৰদ্ধাৰ মৰমৰ আদৰণীয় সন্মানীয় মাননীয় ভাৰতৰ...</td>\n",
       "      <td></td>\n",
       "      <td>[0.0, 0.0, 0.0, 0.0, 0.0, 0.0, 0.0, 0.0, 0.0, ...</td>\n",
       "    </tr>\n",
       "    <tr>\n",
       "      <th>1349822</th>\n",
       "      <td>பாரத் மாதாகி ஜெய் பாரத் மாதாகி ஜெய் பாரத் மாதா...</td>\n",
       "      <td></td>\n",
       "      <td>[0.0, 0.0, 0.0, 0.0, 0.0, 0.0, 0.0, 0.0, 0.0, ...</td>\n",
       "    </tr>\n",
       "    <tr>\n",
       "      <th>1349827</th>\n",
       "      <td>congratulations ખૂબ ખૂબ અભિનંદન</td>\n",
       "      <td></td>\n",
       "      <td>[0.0, 0.0, 0.0, 0.0, 0.0, 0.0, 0.0, 0.0, 0.0, ...</td>\n",
       "    </tr>\n",
       "  </tbody>\n",
       "</table>\n",
       "<p>94353 rows × 3 columns</p>\n",
       "</div>"
      ],
      "text/plain": [
       "                                           subject_content isDevnagri  \\\n",
       "13       respected sirmadam আমার নাম জয়ন্ত মণ্ডল আমার ...              \n",
       "30       மதிப்பிற்குரிய ஐயா வணக்கம் பொருள் எரிவாயு சப்ள...              \n",
       "40       নমস্কার স্যার আমি আপনার কাছে একটাই অনুরোধ যে আ...              \n",
       "52                                     ঘার কে লিয়ে এপ্লাই              \n",
       "58       স্যার আমি একজন গরীব কৃষক কুলতলী থানার কাওড়াখাল...              \n",
       "...                                                    ...        ...   \n",
       "1349791  માનનીય સાહેબ જીતના અભિનંદન પણ દાહોદ ની જીતથી હ...              \n",
       "1349793  மேதகு பாரதபிரதமர் அவர்களுக்கு பணிவான முதல் வணக...              \n",
       "1349808  মোৰ শ্ৰদ্ধাৰ মৰমৰ আদৰণীয় সন্মানীয় মাননীয় ভাৰতৰ...              \n",
       "1349822  பாரத் மாதாகி ஜெய் பாரத் மாதாகி ஜெய் பாரத் மாதா...              \n",
       "1349827                    congratulations ખૂબ ખૂબ અભિનંદન              \n",
       "\n",
       "                                                histograms  \n",
       "13       [0.0, 0.0, 0.0, 0.0, 0.0, 0.0, 0.0, 0.0, 0.0, ...  \n",
       "30       [0.0, 0.0, 0.0, 0.0, 0.0, 0.0, 0.0, 0.0, 0.0, ...  \n",
       "40       [0.0, 0.0, 0.0, 0.0, 0.0, 0.0, 0.0, 0.0, 0.0, ...  \n",
       "52       [0.0, 0.0, 0.0, 0.0, 0.0, 0.0, 0.0, 0.0, 0.0, ...  \n",
       "58       [0.0, 0.0, 0.0, 0.0, 0.0, 0.0, 0.0, 0.0, 0.0, ...  \n",
       "...                                                    ...  \n",
       "1349791  [0.0, 0.0, 0.0, 0.0, 0.0, 0.0, 0.0, 0.0, 0.0, ...  \n",
       "1349793  [0.0, 0.0, 0.0, 0.0, 0.0, 0.0, 0.0, 0.0, 0.0, ...  \n",
       "1349808  [0.0, 0.0, 0.0, 0.0, 0.0, 0.0, 0.0, 0.0, 0.0, ...  \n",
       "1349822  [0.0, 0.0, 0.0, 0.0, 0.0, 0.0, 0.0, 0.0, 0.0, ...  \n",
       "1349827  [0.0, 0.0, 0.0, 0.0, 0.0, 0.0, 0.0, 0.0, 0.0, ...  \n",
       "\n",
       "[94353 rows x 3 columns]"
      ]
     },
     "execution_count": 44,
     "metadata": {},
     "output_type": "execute_result"
    }
   ],
   "source": [
    "df"
   ]
  },
  {
   "cell_type": "code",
   "execution_count": 45,
   "metadata": {},
   "outputs": [],
   "source": [
    "df = df.loc[ df.histograms.map(lambda x: ~np.isnan(x).any()), :]\n"
   ]
  },
  {
   "cell_type": "code",
   "execution_count": 46,
   "metadata": {},
   "outputs": [],
   "source": [
    "df['labels'] = mbkmeans_clusters(\n",
    "    X=list(df['histograms'].values),\n",
    "    k=clusters,\n",
    ")"
   ]
  },
  {
   "cell_type": "code",
   "execution_count": 47,
   "metadata": {},
   "outputs": [
    {
     "data": {
      "text/plain": [
       "1    58914\n",
       "2    11580\n",
       "0     8950\n",
       "4     5335\n",
       "5     3223\n",
       "3     1101\n",
       "6      891\n",
       "Name: labels, dtype: int64"
      ]
     },
     "execution_count": 47,
     "metadata": {},
     "output_type": "execute_result"
    }
   ],
   "source": [
    "df.labels.value_counts()"
   ]
  },
  {
   "cell_type": "code",
   "execution_count": 41,
   "metadata": {},
   "outputs": [],
   "source": [
    "df[df.labels == 2].subject_content.to_csv(\"/Volumes/olaaaa/Thesis_backup/count_languages_devnagri/scripts/\"+str(2)+\".csv\")"
   ]
  },
  {
   "cell_type": "code",
   "execution_count": 48,
   "metadata": {},
   "outputs": [
    {
     "name": "stdout",
     "output_type": "stream",
     "text": [
      "                                           subject_content isDevnagri  \\\n",
      "101      ಭಾರತ ಮತ್ತು ಚೀನಾ ನಡುವಿನ ಯುದ್ಧದಲ್ಲಿ ನನಗೆ ಭಾಗವಹಿಸ...              \n",
      "109      ಭಾರತ ಮತ್ತು ಚೀನಾ ನಡುವಿನ ಯುದ್ಧದಲ್ಲಿ ನನಗೆ ಭಾಗವಹಿಸ...              \n",
      "270      dear sir i m ganesh kundapura ಸರ್ ಭಾರತ ಚೀನಾದ ಗ...              \n",
      "617      ಭಾರತದ ಪ್ರಧಾನ ಮಂತ್ರಿಗಳಾದ ಶ್ರೀ ನರೇಂದ್ರ ದಾಮೋದರದಾಸ...              \n",
      "840      ಸರ್ ನನ್ನದೊಂದು ವಿನಂತಿ ನಾನು sansera engineering ...              \n",
      "...                                                    ...        ...   \n",
      "1349512  dear sir ಯಾವ ಧರ್ಮವನ್ನು ದ್ವೇಷಿಸಲಿಲ್ಲ ಯಾವ ಜಾತಿಯನ...              \n",
      "1349608  ಬಿಜೆಪಿ ಅಭೂತಪೂವ ಗೆಲುವಿನಲ್ಲಿ ಪ್ರಮುಖ ಪಾತ್ರ ವಹಿಸಿದ...              \n",
      "1349689   ಲೋಕಸಭಾ ಚುಣಾವನೆಯಲ್ಲಿ ಮುನ್ನಡೆ ಸಾಧಿಸಿರುವ ನನ್ನ ಆತ...              \n",
      "1349712  ಪ್ರಧಾನ ಮಂತ್ರಿಗಳು ಶ್ರೀ ಮೋದಿಯವರಿಗೆ ಹೃದಯಪೂರ್ವಕ ಜಯ...              \n",
      "1349721  ಪ್ರಧಾನ ಮಂತ್ರಿ ಗಳಲ್ಲಿ ಮನವಿ ಸಮುದ್ರಕ್ಕೆ ಹತ್ತಿರವಿರ...              \n",
      "\n",
      "                                                histograms  labels  \n",
      "101      [0.0, 0.0, 0.0, 0.0, 0.0, 0.0, 0.0, 0.0, 0.0, ...       0  \n",
      "109      [0.0, 0.0, 0.0, 0.0, 0.0, 0.0, 0.0, 0.0, 0.0, ...       0  \n",
      "270      [0.0, 0.0, 0.0, 0.0, 0.0, 0.0, 0.0, 0.0, 0.0, ...       0  \n",
      "617      [0.0, 0.0, 0.0, 0.0, 0.0, 0.0, 0.0, 0.0, 0.0, ...       0  \n",
      "840      [0.0, 0.0, 0.0, 0.0, 0.0, 0.0, 0.0, 0.0, 0.0, ...       0  \n",
      "...                                                    ...     ...  \n",
      "1349512  [0.0, 0.0, 0.0, 0.0, 0.0, 0.0, 0.0, 0.0, 0.0, ...       0  \n",
      "1349608  [0.0, 0.0, 0.0, 0.0, 0.0, 0.0, 0.0, 0.0, 0.0, ...       0  \n",
      "1349689  [0.0, 0.0, 0.0, 0.0, 0.0, 0.0, 0.0, 0.0, 0.0, ...       0  \n",
      "1349712  [0.0, 0.0, 0.0, 0.0, 0.0, 0.0, 0.0, 0.0, 0.0, ...       0  \n",
      "1349721  [0.0, 0.0, 0.0, 0.0, 0.0, 0.0, 0.0, 0.0, 0.0, ...       0  \n",
      "\n",
      "[8950 rows x 4 columns]\n",
      "                                           subject_content isDevnagri  \\\n",
      "83       માનનીય વડાપ્રધાનશ્રી નરેન્દ્રભાઈ મોદી સાહેબસાહ...              \n",
      "89       માનનીય વડાપ્રધાનશ્રી નરેન્દ્રભાઈ મોદી સાહેબસાહ...              \n",
      "110      માનનીય સાહેબ નરેન્દ્ર મોદી આપણે જાણીએ છીએ કે ક...              \n",
      "119      માનનીય પ્રધાનમંત્રી સાહેબ મારી તમને નમ્ર વિનંત...              \n",
      "184      તમે મહાભારત કે રામાયણ માં શહીદ શબ્દ સાંભળ્યો આ...              \n",
      "...                                                    ...        ...   \n",
      "1349726  માનનીક્ષી વડાપ્રધાન શ્રી નરેન્દ્ર મોદી તમને વિ...              \n",
      "1349749  નમસ્તે મોદી સાહેબ પૂર્ણ બહુમત માટે ખૂબ ખૂબ અભિ...              \n",
      "1349784  આદરણીય મોદી સાહેબ ને સપ્રેમ નમસ્કાર સાહેબ હવે ...              \n",
      "1349791  માનનીય સાહેબ જીતના અભિનંદન પણ દાહોદ ની જીતથી હ...              \n",
      "1349827                    congratulations ખૂબ ખૂબ અભિનંદન              \n",
      "\n",
      "                                                histograms  labels  \n",
      "83       [0.0, 0.0, 0.0, 0.0, 0.0, 0.0, 0.0, 0.0, 0.0, ...       1  \n",
      "89       [0.0, 0.0, 0.0, 0.0, 0.0, 0.0, 0.0, 0.0, 0.0, ...       1  \n",
      "110      [0.0, 0.0, 0.0, 0.0, 0.0, 0.0, 0.0, 0.0, 0.0, ...       1  \n",
      "119      [0.0, 0.0, 0.0, 0.0, 0.0, 0.0, 0.0, 0.0, 0.0, ...       1  \n",
      "184      [0.0, 0.0, 0.0, 0.0, 0.0, 0.0, 0.0, 0.0, 0.0, ...       1  \n",
      "...                                                    ...     ...  \n",
      "1349726  [0.0, 0.0, 0.0, 0.0, 0.0, 0.0, 0.0, 0.0, 0.0, ...       1  \n",
      "1349749  [0.0, 0.0, 0.0, 0.0, 0.0, 0.0, 0.0, 0.0, 0.0, ...       1  \n",
      "1349784  [0.0, 0.0, 0.0, 0.0, 0.0, 0.0, 0.0, 0.0, 0.0, ...       1  \n",
      "1349791  [0.0, 0.0, 0.0, 0.0, 0.0, 0.0, 0.0, 0.0, 0.0, ...       1  \n",
      "1349827  [0.0, 0.0, 0.0, 0.0, 0.0, 0.0, 0.0, 0.0, 0.0, ...       1  \n",
      "\n",
      "[58914 rows x 4 columns]\n",
      "                                           subject_content isDevnagri  \\\n",
      "30       மதிப்பிற்குரிய ஐயா வணக்கம் பொருள் எரிவாயு சப்ள...              \n",
      "122      பாரத பிரதமர் திரு நரேந்திர மோடி அவர்களுக்கு வண...              \n",
      "128      மதிப்பிற்குறிய பாரத பிரதமர் அவர்களுக்கு வணக்கம...              \n",
      "145      respected sir நான் ஒரு indian army its my ambi...              \n",
      "213      ஐயா எனது பெயர் பழனிசாமி நான் சேலம் மாவட்டம் எட...              \n",
      "...                                                    ...        ...   \n",
      "1349420  மாண்புமிகு அய்யா வணக்கம்…… தேர்தலில் நாடு முழு...              \n",
      "1349466  மீண்டும் பிரதமர் பதவில் அமரும் பிரைம் மினிஸ்டர...              \n",
      "1349668  சேலம் மாவட்டம் ஓமலூர் வட்டம் தாரமங்கலம் எம் ஜி...              \n",
      "1349793  மேதகு பாரதபிரதமர் அவர்களுக்கு பணிவான முதல் வணக...              \n",
      "1349822  பாரத் மாதாகி ஜெய் பாரத் மாதாகி ஜெய் பாரத் மாதா...              \n",
      "\n",
      "                                                histograms  labels  \n",
      "30       [0.0, 0.0, 0.0, 0.0, 0.0, 0.0, 0.0, 0.0, 0.0, ...       2  \n",
      "122      [0.0, 0.0, 0.0, 0.0, 0.0, 0.0, 0.0, 0.0, 0.0, ...       2  \n",
      "128      [0.0, 0.0, 0.0, 0.0, 0.0, 0.0, 0.0, 0.0, 0.0, ...       2  \n",
      "145      [0.0, 0.0, 0.0, 0.0, 0.0, 0.0, 0.0, 0.0, 0.0, ...       2  \n",
      "213      [0.0, 0.0, 0.0, 0.0, 0.0, 0.0, 0.0, 0.0, 0.0, ...       2  \n",
      "...                                                    ...     ...  \n",
      "1349420  [0.0, 0.0, 0.0, 0.0, 0.0, 0.0, 0.0, 0.0, 0.0, ...       2  \n",
      "1349466  [0.0, 0.0, 0.0, 0.0, 0.0, 0.0, 0.0, 0.0, 0.0, ...       2  \n",
      "1349668  [0.0, 0.0, 0.0, 0.0, 0.0, 0.0, 0.0, 0.0, 0.0, ...       2  \n",
      "1349793  [0.0, 0.0, 0.0, 0.0, 0.0, 0.0, 0.0, 0.0, 0.0, ...       2  \n",
      "1349822  [0.0, 0.0, 0.0, 0.0, 0.0, 0.0, 0.0, 0.0, 0.0, ...       2  \n",
      "\n",
      "[11580 rows x 4 columns]\n",
      "                                           subject_content isDevnagri  \\\n",
      "628      ਸ਼੍ਰੀ ਨਰਿੰਦਰਮੋਦੀ ਜੀ ਸਾਨੂੰ ਅਵਾਸ ਯੋਜਨਾ ਨਹੀ ਮਿਲਿਆ ...              \n",
      "1351     ਮੇਰਾ ਪੁਰਾ ਮਕਾਨ ਕੱਚਾ ਹੈ ।ਮੈ ਸਰਪੰਚ ਕੋ ਕਾਫ਼ੀ ਬਾਰ ਫ਼...              \n",
      "5045     pm saab ji ਆਪ ਜੀ ਨੂੰ ਸਰਕਾਰੀ ਨੌਕਰੀ ਦੇ regarding...              \n",
      "5298     ਸਤਿ ਸ੍ਰੀ ਅਕਾਲ ਪ੍ਰਧਾਨ ਮੰਤਰੀ ਜੀ। ਬੇਨਤੀ ਹੈ ਜੀ ਕਿ ...              \n",
      "5369     ਸਤਿ ਸ੍ਰੀ ਅਕਾਲ ਪ੍ਰਧਾਨ ਮੰਤਰੀ ਜੀ। ਬੇਨਤੀ ਹੈ ਕਿ ਜੀ ...              \n",
      "...                                                    ...        ...   \n",
      "1348668  ਮੈਬਲਵੀਰਸਿੰਘਪੁਤਰਬਗੀਚਾਸਿੰਘਪਿਡਆਸਪਾਲਾਨੇੜੇਸਰਕਾਰੀਸਕੂ...              \n",
      "1348670  ਮੈਬਹੋੜਸਿਘਪਿਡਆਸਪਾਲਾਨੇੜੇਸਰਕਾਰੀਸਕੂਲਤਸਹੀਲਮਲੋਟਜਿਲਾਮ...              \n",
      "1348999  ਮੈਕੁਲਦੀਪਸਿੰਘਪੁਤਰਮਿਲਖਾਸਿੰਘਪਿਡਆਸਪਾਲਾਨੇੜੇਪੰਚਾਇਤਘਰ...              \n",
      "1349021  ਸਰ ਮੇਰਾ ਨਾਮ ਗਿਅਾਨੋ ਦੇਵੀ ਪਤਨੀ ਪ੍ਤੀਮ ਦਾਸ ਹੈ ਸਰ ਮ...              \n",
      "1349406  ਸਤਿਕਾਰ ਯੋਗ ਤੇ ਸਾਡੇ ਹਰਮਨ ਪਿਆਰੇ ਪ੍ਰਧਾਂਨ ਮੰਤਰੀ ਸਾ...              \n",
      "\n",
      "                                                histograms  labels  \n",
      "628      [0.0, 0.0, 0.0, 0.0, 0.0, 0.0, 0.0, 0.0, 0.0, ...       3  \n",
      "1351     [0.0, 0.0, 0.0, 0.0, 0.0, 0.0, 0.0, 0.0, 0.0, ...       3  \n",
      "5045     [0.0, 0.0, 0.0, 0.0, 0.0, 0.0, 0.0, 0.0, 0.0, ...       3  \n",
      "5298     [0.0, 0.0, 0.0, 0.0, 0.0, 0.0, 0.0, 0.0, 0.0, ...       3  \n",
      "5369     [0.0, 0.0, 0.0, 0.0, 0.0, 0.0, 0.0, 0.0, 0.0, ...       3  \n",
      "...                                                    ...     ...  \n",
      "1348668  [0.0, 0.0, 0.0, 0.0, 0.0, 0.0, 0.0, 0.0, 0.0, ...       3  \n",
      "1348670  [0.0, 0.0, 0.0, 0.0, 0.0, 0.0, 0.0, 0.0, 0.0, ...       3  \n",
      "1348999  [0.0, 0.0, 0.0, 0.0, 0.0, 0.0, 0.0, 0.0, 0.0, ...       3  \n",
      "1349021  [0.0, 0.0, 0.0, 0.0, 0.0, 0.0, 0.0, 0.0, 0.0, ...       3  \n",
      "1349406  [0.0, 0.0, 0.0, 0.0, 0.0, 0.0, 0.0, 0.0, 0.0, ...       3  \n",
      "\n",
      "[1101 rows x 4 columns]\n",
      "                                           subject_content isDevnagri  \\\n",
      "13       respected sirmadam আমার নাম জয়ন্ত মণ্ডল আমার ...              \n",
      "40       নমস্কার স্যার আমি আপনার কাছে একটাই অনুরোধ যে আ...              \n",
      "52                                     ঘার কে লিয়ে এপ্লাই              \n",
      "58       স্যার আমি একজন গরীব কৃষক কুলতলী থানার কাওড়াখাল...              \n",
      "70       dear sir আপনার কাছে আমার বিনিত নিবেদন যে আমার ...              \n",
      "...                                                    ...        ...   \n",
      "1349537   অভিনন্দন অভিনন্দন অভিনন্দন । পশ্চিমবঙ্গে স্বাগতম              \n",
      "1349631  পিএম মোদি আপনি সত্যিই মানুষের মন চুরি করে নিয়...              \n",
      "1349742  ঔঁ মাননীয় প্রধানমন্ত্রী নরেন্দ্র মোদী জী মহাশয়...              \n",
      "1349771  স্যার আমি সালে গ্রামীণ ডাক সেবক পদে আবেদন করেছ...              \n",
      "1349808  মোৰ শ্ৰদ্ধাৰ মৰমৰ আদৰণীয় সন্মানীয় মাননীয় ভাৰতৰ...              \n",
      "\n",
      "                                                histograms  labels  \n",
      "13       [0.0, 0.0, 0.0, 0.0, 0.0, 0.0, 0.0, 0.0, 0.0, ...       4  \n",
      "40       [0.0, 0.0, 0.0, 0.0, 0.0, 0.0, 0.0, 0.0, 0.0, ...       4  \n",
      "52       [0.0, 0.0, 0.0, 0.0, 0.0, 0.0, 0.0, 0.0, 0.0, ...       4  \n",
      "58       [0.0, 0.0, 0.0, 0.0, 0.0, 0.0, 0.0, 0.0, 0.0, ...       4  \n",
      "70       [0.0, 0.0, 0.0, 0.0, 0.0, 0.0, 0.0, 0.0, 0.0, ...       4  \n",
      "...                                                    ...     ...  \n",
      "1349537  [0.0, 0.0, 0.0, 0.0, 0.0, 0.0, 0.0, 0.0, 0.0, ...       4  \n",
      "1349631  [0.0, 0.0, 0.0, 0.0, 0.0, 0.0, 0.0, 0.0, 0.0, ...       4  \n",
      "1349742  [0.0, 0.0, 0.0, 0.0, 0.0, 0.0, 0.0, 0.0, 0.0, ...       4  \n",
      "1349771  [0.0, 0.0, 0.0, 0.0, 0.0, 0.0, 0.0, 0.0, 0.0, ...       4  \n",
      "1349808  [0.0, 0.0, 0.0, 0.0, 0.0, 0.0, 0.0, 0.0, 0.0, ...       4  \n",
      "\n",
      "[5335 rows x 4 columns]\n",
      "                                           subject_content isDevnagri  \\\n",
      "163      గౌరవనియులైన ప్రధానమంత్రి శ్రీ నరేంద్రమోడీ గారి...              \n",
      "1006     భారతదేశ ప్రధాన మంత్రి వర్యులయినటువంటి శ్రీ మహా...              \n",
      "1248     ఆంధ్రప్రదేశ్ లో మీసేవ నిర్వాహకులు బ్రతుకులు కా...              \n",
      "4525      reliance is destroying the seashore villages ...              \n",
      "4568     గౌరవనీయులైన ప్రధాన మంత్రి గారికి నమస్కారములతో ...              \n",
      "...                                                    ...        ...   \n",
      "1349443  bjp భారత దేశంలో బి జె పి గెలుపు తథ్యం 🇮🇳 bjp o...              \n",
      "1349514  ప్రధానమంత్రి నరేంద్రమోడీ గారికి పాదాభి వందనం న...              \n",
      "1349542  భారతదేశ పార్లమెంట్ ఎన్నికల లో akhanda vijayam ...              \n",
      "1349565  congratulations modiji మరోసారి మీరు ప్రధానమంత్...              \n",
      "1349611  pm of india manya sri నరేంద్ర మోది గారికి హ్రు...              \n",
      "\n",
      "                                                histograms  labels  \n",
      "163      [0.0, 0.0, 0.0, 0.0, 0.0, 0.0, 0.0, 0.0, 0.0, ...       5  \n",
      "1006     [0.0, 0.0, 0.0, 0.0, 0.0, 0.0, 0.0, 0.0, 0.0, ...       5  \n",
      "1248     [0.0, 0.0, 0.0, 0.0, 0.0, 0.0, 0.0, 0.0, 0.0, ...       5  \n",
      "4525     [0.0, 0.0, 0.0, 0.0, 0.0, 0.0, 0.0, 0.0, 0.0, ...       5  \n",
      "4568     [0.0, 0.0, 0.0, 0.0, 0.0, 0.0, 0.0, 0.0, 0.0, ...       5  \n",
      "...                                                    ...     ...  \n",
      "1349443  [0.0, 0.0, 0.0, 0.0, 0.0, 0.0, 0.0, 0.0, 0.0, ...       5  \n",
      "1349514  [0.0, 0.0, 0.0, 0.0, 0.0, 0.0, 0.0, 0.0, 0.0, ...       5  \n",
      "1349542  [0.0, 0.0, 0.0, 0.0, 0.0, 0.0, 0.0, 0.0, 0.0, ...       5  \n",
      "1349565  [0.0, 0.0, 0.0, 0.0, 0.0, 0.0, 0.0, 0.0, 0.0, ...       5  \n",
      "1349611  [0.0, 0.0, 0.0, 0.0, 0.0, 0.0, 0.0, 0.0, 0.0, ...       5  \n",
      "\n",
      "[3223 rows x 4 columns]\n",
      "                                           subject_content isDevnagri  \\\n",
      "1257     ମାନ୍ୟବର ପ୍ରଧାନମନ୍ତ୍ରୀଙ୍କୁ ମୋର ନମସ୍କାର । ମୁଁ ପୁ...              \n",
      "1689     सूशांत सर को इनशाफ मिलना चाहिए । miss you susa...              \n",
      "1896     sir ନମସ୍କାର i am ramesh chandra barik father l...              \n",
      "1956     ସଂମାନିୟ ପ୍ରଧାନମନ୍ତ୍ରୀ ଆବାଶ ଯୋଜନା ବିଷୟମୁଁ ମାଟି ...              \n",
      "2746     ଧନ୍ୟବାଦ। ମୁଁ ଓଡ଼ିଶାର ଏକ ଗ୍ରାମର ବାସିନ୍ଦା। ସରକାର...              \n",
      "...                                                    ...        ...   \n",
      "1343298  ମାନନୀୟ ଶ୍ରୀ ଯୁକ୍ତ ପ୍ରଧାନମନ୍ତ୍ରୀ ଭାରତ ସରକାର ନୁଆ...              \n",
      "1344715  ମାନନୀୟ ପ୍ରିୟର ପ୍ରଧାନମନ୍ତ୍ରୀ ପ୍ରଥମେ ମୋର ନମସ୍କାର...              \n",
      "1346573  ମହାଶୟ ନିବେଦନ ର ଅଭିପ୍ରାୟ ଏହି କି ଯେ ମୁ ଓ ମୋର ସପର...              \n",
      "1347584  ସାର୍ ନମସ୍କାର୍ ସାର୍ ମୁଁ ଶ୍ରି ରବିନ୍ଦ୍ର କୁମାର ତ୍ର...              \n",
      "1348774  ମୋର ପ୍ରିୟ ପ୍ରଧାନମନ୍ତ୍ରୀ ନରେନ୍ଦ୍ର ମୋଦି ଜୀ ମହୋଦୟ...              \n",
      "\n",
      "                                                histograms  labels  \n",
      "1257     [0.0, 0.0, 0.0, 0.0, 0.0, 0.0, 0.0, 0.0, 0.0, ...       6  \n",
      "1689     [0.0, 0.0, 0.0, 0.0, 0.0, 0.0, 0.1474419561548...       6  \n",
      "1896     [0.0, 0.0, 0.0, 0.0, 0.0, 0.0, 0.0, 0.0, 0.0, ...       6  \n",
      "1956     [0.0, 0.0, 0.0, 0.0, 0.0, 0.0, 0.0, 0.0, 0.0, ...       6  \n",
      "2746     [0.0, 0.0, 0.0, 0.0, 0.0, 0.0, 0.0, 0.0, 0.0, ...       6  \n",
      "...                                                    ...     ...  \n",
      "1343298  [0.0, 0.0, 0.0, 0.0, 0.0, 0.0, 0.0, 0.0, 0.0, ...       6  \n",
      "1344715  [0.0, 0.0, 0.0, 0.0, 0.0, 0.0, 0.0, 0.0, 0.0, ...       6  \n",
      "1346573  [0.0, 0.0, 0.0, 0.0, 0.0, 0.0, 0.0, 0.0, 0.0, ...       6  \n",
      "1347584  [0.0, 0.0, 0.0, 0.0, 0.0, 0.0, 0.0, 0.0, 0.0, ...       6  \n",
      "1348774  [0.0, 0.0, 0.0, 0.0, 0.0, 0.0, 0.0, 0.0, 0.0, ...       6  \n",
      "\n",
      "[891 rows x 4 columns]\n"
     ]
    }
   ],
   "source": [
    "for i in range(clusters):\n",
    "    print(df[df.labels == i])\n",
    "    df[df.labels == i].subject_content.to_csv(\"/Volumes/olaaaa/Thesis_backup/count_languages_devnagri/scripts/\"+str(i)+\".csv\")"
   ]
  }
 ],
 "metadata": {
  "kernelspec": {
   "display_name": "Python 3.9.16 ('ps')",
   "language": "python",
   "name": "python3"
  },
  "language_info": {
   "codemirror_mode": {
    "name": "ipython",
    "version": 3
   },
   "file_extension": ".py",
   "mimetype": "text/x-python",
   "name": "python",
   "nbconvert_exporter": "python",
   "pygments_lexer": "ipython3",
   "version": "3.9.16"
  },
  "orig_nbformat": 4,
  "vscode": {
   "interpreter": {
    "hash": "db07cf3586e4a3d517105e23490166b0186d57892d50b74d9e1d6eda510229fd"
   }
  }
 },
 "nbformat": 4,
 "nbformat_minor": 2
}
