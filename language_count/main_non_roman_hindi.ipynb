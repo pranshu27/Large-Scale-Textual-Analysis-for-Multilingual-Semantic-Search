{
 "cells": [
  {
   "cell_type": "code",
   "execution_count": 1,
   "metadata": {},
   "outputs": [
    {
     "name": "stderr",
     "output_type": "stream",
     "text": [
      "[nltk_data] Error loading stopwords: <urlopen error [Errno 54]\n",
      "[nltk_data]     Connection reset by peer>\n"
     ]
    }
   ],
   "source": [
    "import re\n",
    "import string\n",
    "import pandas as pd\n",
    "from math import log\n",
    "import os\n",
    "import random\n",
    "import re\n",
    "import string\n",
    "from collections import Counter\n",
    "from sklearn.cluster import KMeans\n",
    "import pickle\n",
    "\n",
    "import nltk\n",
    "import numpy as np\n",
    "import pandas as pd\n",
    "\n",
    "from gensim.models import Word2Vec\n",
    "\n",
    "from nltk import word_tokenize\n",
    "from nltk.tokenize import wordpunct_tokenize\n",
    "from nltk.corpus import stopwords\n",
    "\n",
    "import warnings\n",
    "warnings.filterwarnings(\"ignore\")\n",
    "nltk.download(\"stopwords\")\n",
    "\n",
    "\n",
    "SEED = 42\n",
    "random.seed(SEED)\n",
    "os.environ[\"PYTHONHASHSEED\"] = str(SEED)\n",
    "np.random.seed(SEED)"
   ]
  },
  {
   "cell_type": "code",
   "execution_count": null,
   "metadata": {},
   "outputs": [],
   "source": []
  },
  {
   "cell_type": "code",
   "execution_count": 9,
   "metadata": {},
   "outputs": [],
   "source": [
    "final_counts = []"
   ]
  },
  {
   "cell_type": "code",
   "execution_count": 10,
   "metadata": {},
   "outputs": [],
   "source": [
    "def clean_text(text):\n",
    "    text = str(text).lower() \n",
    "    text = text.translate (str.maketrans('', '', string.punctuation))\n",
    "    text = re.sub(\"\\d+\", \"\", text)\n",
    "    text = re.sub(r\"\\s+\", \" \", text)  # Remove multiple spaces in content\n",
    "    text = re.sub('[!()-[]{};:\\'\"\\,<>./?@#$%^&*_~–]+', '', text)\n",
    "    return text"
   ]
  },
  {
   "cell_type": "code",
   "execution_count": 11,
   "metadata": {},
   "outputs": [],
   "source": [
    "# all_non_roman = [] #list to keep all the grievances with more Devnagri words than non-Devnagri\n"
   ]
  },
  {
   "cell_type": "code",
   "execution_count": 12,
   "metadata": {},
   "outputs": [],
   "source": [
    "# pref = \"/Volumes/olaaaa/Thesis_backup/data/\""
   ]
  },
  {
   "cell_type": "code",
   "execution_count": 13,
   "metadata": {},
   "outputs": [],
   "source": [
    "# for file in os.listdir(\"/Volumes/olaaaa/Thesis_backup/data\"):\n",
    "#     #print(file, \"here\")\n",
    "#     if file.endswith(\"csv\"):\n",
    "#         # print(\"here\")\n",
    "#         df = pd.read_csv(pref+file, header = None, low_memory=False)\n",
    "#         # print(len(df))\n",
    "#         df = df[[0,21]]\n",
    "#         df.columns = ['reg_no', 'subject_content']\n",
    "        \n",
    "#         df['subject_content_cleaned'] = df['subject_content'].apply(clean_text)\n",
    "#         tmp = [ val for val in df['subject_content_cleaned'].values \\\n",
    "#         if len(re.findall(\"[a-z]+\",val)) < 0.5*len(val.split())]\n",
    "#         all_non_roman.extend(tmp) \n",
    "#         print(file, \"Size of updated list\", str(len(all_non_roman)))\n",
    "#         # print()\n",
    "        \n",
    "        \n",
    "        "
   ]
  },
  {
   "cell_type": "code",
   "execution_count": null,
   "metadata": {},
   "outputs": [],
   "source": [
    "# def row_count(input):\n",
    "#     with open(input) as f:\n",
    "#         for i, l in enumerate(f):\n",
    "#             pass\n",
    "#     return i"
   ]
  },
  {
   "cell_type": "markdown",
   "metadata": {},
   "source": [
    "Total grievances: 9413682\n",
    "1. (85.66%) roman(English + Hindi-Latin)(76+24%) 8063829     (calculated previously)\n",
    "2. (14.34%) non-roman scripts 1255499\n",
    "   - (13.33%) devnagri script(completely Hindi) 1255499\n",
    "   - (1.002%) 94353 other scripts\n",
    "      - (0.057%) bengali 5335 \n",
    "      - (0.009 %) odia 891 \n",
    "      - (0.034%) telugu 3223 \n",
    "      - (0.012%) punjabi 1101\n",
    "      - (0.095%) kannada 8950 \n",
    "      - (0.123%) tamil 11580 \n",
    "      - (0.626%) gujarati 58914 \n",
    "\n"
   ]
  },
  {
   "cell_type": "code",
   "execution_count": null,
   "metadata": {},
   "outputs": [],
   "source": [
    "# for file in os.listdir(\"/Users/joker/Library/CloudStorage/OneDrive-IITKanpur/Thesis/count_languages_devnagri/scripts\"):\n",
    "#     print(file, row_count(\"/Users/joker/Library/CloudStorage/OneDrive-IITKanpur/Thesis/count_languages_devnagri/scripts/\" +file), \\\n",
    "#         round((row_count(\"/Users/joker/Library/CloudStorage/OneDrive-IITKanpur/Thesis/count_languages_devnagri/scripts/\" +file)*100/9413682),3), \"%\")"
   ]
  },
  {
   "cell_type": "code",
   "execution_count": null,
   "metadata": {},
   "outputs": [],
   "source": [
    "\n",
    "\n",
    "    # row_count(\"/Volumes/olaaaa/Thesis_backup/grievance.csv\")"
   ]
  },
  {
   "cell_type": "code",
   "execution_count": null,
   "metadata": {},
   "outputs": [],
   "source": [
    "# len(all_non_roman)"
   ]
  },
  {
   "cell_type": "code",
   "execution_count": null,
   "metadata": {},
   "outputs": [],
   "source": [
    "9413681 - 1349852"
   ]
  },
  {
   "cell_type": "code",
   "execution_count": null,
   "metadata": {},
   "outputs": [],
   "source": [
    "\n",
    "# with open('all_non_roman.pkl', 'wb') as f:\n",
    "#     pickle.dump(all_non_roman, f)"
   ]
  },
  {
   "cell_type": "code",
   "execution_count": 2,
   "metadata": {},
   "outputs": [],
   "source": [
    "with open('all_non_roman.pkl', 'rb') as f:\n",
    "    loaded = pickle.load(f)"
   ]
  },
  {
   "cell_type": "code",
   "execution_count": 3,
   "metadata": {},
   "outputs": [],
   "source": [
    "df = pd.DataFrame(loaded)"
   ]
  },
  {
   "cell_type": "code",
   "execution_count": 4,
   "metadata": {},
   "outputs": [],
   "source": [
    "df.columns = ['subject_content']"
   ]
  },
  {
   "cell_type": "code",
   "execution_count": null,
   "metadata": {},
   "outputs": [],
   "source": [
    "# def find_devnagri(val):\n",
    "#     if len(re.findall(\"[\\u0900-\\u097F]+\",val)) > len(val.split())/2:\n",
    "        "
   ]
  },
  {
   "cell_type": "code",
   "execution_count": null,
   "metadata": {},
   "outputs": [],
   "source": [
    "# df[\"isDevnagri\"] = df['subject_content'].apply(lambda x: \"devnagri\" if \\\n",
    "#     len(re.findall(\"[\\u0900-\\u097F]+\",x)) > len(x.split())/2 else \"\" )"
   ]
  },
  {
   "cell_type": "code",
   "execution_count": null,
   "metadata": {},
   "outputs": [],
   "source": [
    "# all_devnagri = [ val for val in df['subject_content'].values \\\n",
    "#         if len(re.findall(\"[\\u0900-\\u097F]+\",val)) > len(val.split())/2]"
   ]
  },
  {
   "cell_type": "code",
   "execution_count": null,
   "metadata": {},
   "outputs": [],
   "source": [
    "# df.isDevnagri.value_counts()"
   ]
  },
  {
   "cell_type": "code",
   "execution_count": null,
   "metadata": {},
   "outputs": [],
   "source": [
    "# df_non_roman_non_devnagri = df[df.isDevnagri != \"devnagri\"]"
   ]
  },
  {
   "cell_type": "code",
   "execution_count": null,
   "metadata": {},
   "outputs": [],
   "source": [
    "# with open('df_non_roman_non_devnagri.pkl', 'wb') as f:\n",
    "#     pickle.dump(df_non_roman_non_devnagri, f)"
   ]
  },
  {
   "cell_type": "code",
   "execution_count": null,
   "metadata": {},
   "outputs": [],
   "source": [
    "# with open('df_non_roman_non_devnagri.pkl', 'rb') as f:\n",
    "#     df_non_roman_non_devnagri = pd.DataFrame(pickle.load(f))"
   ]
  },
  {
   "cell_type": "code",
   "execution_count": 5,
   "metadata": {},
   "outputs": [],
   "source": [
    "def freq(sent):\n",
    "    arr = np.zeros(1000)\n",
    "    for letter in sent:\n",
    "        if 2300 <= ord(letter) < 3300:\n",
    "            # print(\"here\")\n",
    "            arr[ord(letter) - 2300] += 1 \n",
    "    #arr[::-1].sort()\n",
    "    \n",
    "    return arr / np.linalg.norm(arr) #normalization"
   ]
  },
  {
   "cell_type": "code",
   "execution_count": 6,
   "metadata": {},
   "outputs": [
    {
     "data": {
      "text/plain": [
       "subject_content    0\n",
       "histograms         0\n",
       "dtype: int64"
      ]
     },
     "execution_count": 6,
     "metadata": {},
     "output_type": "execute_result"
    }
   ],
   "source": [
    "df['histograms'] = df['subject_content'].apply(freq)\n",
    "df.isna().sum()"
   ]
  },
  {
   "cell_type": "code",
   "execution_count": 8,
   "metadata": {},
   "outputs": [
    {
     "data": {
      "text/html": [
       "<div>\n",
       "<style scoped>\n",
       "    .dataframe tbody tr th:only-of-type {\n",
       "        vertical-align: middle;\n",
       "    }\n",
       "\n",
       "    .dataframe tbody tr th {\n",
       "        vertical-align: top;\n",
       "    }\n",
       "\n",
       "    .dataframe thead th {\n",
       "        text-align: right;\n",
       "    }\n",
       "</style>\n",
       "<table border=\"1\" class=\"dataframe\">\n",
       "  <thead>\n",
       "    <tr style=\"text-align: right;\">\n",
       "      <th></th>\n",
       "      <th>subject_content</th>\n",
       "      <th>histograms</th>\n",
       "    </tr>\n",
       "  </thead>\n",
       "  <tbody>\n",
       "    <tr>\n",
       "      <th>0</th>\n",
       "      <td>श्री माननीय प्रधान मंत्री नरेंद्र मोदी जी मध्य...</td>\n",
       "      <td>[0.0, 0.0, 0.0, 0.0, 0.0, 0.0, 0.1535013899613...</td>\n",
       "    </tr>\n",
       "    <tr>\n",
       "      <th>1</th>\n",
       "      <td>गो माता के जीवन को सुखमय बनाने हेतु सादर निवेद...</td>\n",
       "      <td>[0.0, 0.0, 0.0, 0.0, 0.0, 0.0, 0.0593782980805...</td>\n",
       "    </tr>\n",
       "    <tr>\n",
       "      <th>2</th>\n",
       "      <td>सेबा मे माननीय प्रधानमंत्री महोदय भारत सरकार द...</td>\n",
       "      <td>[0.0, 0.0, 0.0, 0.0, 0.0, 0.0, 0.0834084519286...</td>\n",
       "    </tr>\n",
       "    <tr>\n",
       "      <th>3</th>\n",
       "      <td>प्रार्थी की ग्राम नैनपुर परगना व् तहसील मदवारा...</td>\n",
       "      <td>[0.0, 0.0, 0.0, 0.0, 0.0, 0.0, 0.1200600450375...</td>\n",
       "    </tr>\n",
       "    <tr>\n",
       "      <th>4</th>\n",
       "      <td>सेवा मैं माननीय प्रधानमंत्री महोदय विषय लोन न ...</td>\n",
       "      <td>[0.0, 0.0, 0.0, 0.0, 0.0, 0.0, 0.1623693389340...</td>\n",
       "    </tr>\n",
       "    <tr>\n",
       "      <th>...</th>\n",
       "      <td>...</td>\n",
       "      <td>...</td>\n",
       "    </tr>\n",
       "    <tr>\n",
       "      <th>1349847</th>\n",
       "      <td>respected sir मैं एक खिलाड़ी हूं और मेरा month...</td>\n",
       "      <td>[0.0, 0.0, 0.0, 0.0, 0.0, 0.0, 0.1726422682834...</td>\n",
       "    </tr>\n",
       "    <tr>\n",
       "      <th>1349848</th>\n",
       "      <td>सेवा में श्रीमान प्रधानमंत्री महोदय जी सविनय न...</td>\n",
       "      <td>[0.0, 0.0, 0.0, 0.0, 0.0, 0.0, 0.1867359553028...</td>\n",
       "    </tr>\n",
       "    <tr>\n",
       "      <th>1349849</th>\n",
       "      <td>नमस्कार। हमारी इक शिकायत है। हम जनसुनवाई पर फर...</td>\n",
       "      <td>[0.0, 0.0, 0.0, 0.0, 0.0, 0.0, 0.1130774081733...</td>\n",
       "    </tr>\n",
       "    <tr>\n",
       "      <th>1349850</th>\n",
       "      <td>आदरणीय मोदी जी आपको पुन विजय पर मेरे व परिवार ...</td>\n",
       "      <td>[0.0, 0.0, 0.0, 0.0, 0.0, 0.013674274718610486...</td>\n",
       "    </tr>\n",
       "    <tr>\n",
       "      <th>1349851</th>\n",
       "      <td>आदरणीय प्रधानमंत्री जी सर्वप्रथम आपको दुबारा प...</td>\n",
       "      <td>[0.0, 0.0, 0.0, 0.0, 0.0, 0.01141534660572102,...</td>\n",
       "    </tr>\n",
       "  </tbody>\n",
       "</table>\n",
       "<p>1349852 rows × 2 columns</p>\n",
       "</div>"
      ],
      "text/plain": [
       "                                           subject_content  \\\n",
       "0        श्री माननीय प्रधान मंत्री नरेंद्र मोदी जी मध्य...   \n",
       "1        गो माता के जीवन को सुखमय बनाने हेतु सादर निवेद...   \n",
       "2        सेबा मे माननीय प्रधानमंत्री महोदय भारत सरकार द...   \n",
       "3        प्रार्थी की ग्राम नैनपुर परगना व् तहसील मदवारा...   \n",
       "4        सेवा मैं माननीय प्रधानमंत्री महोदय विषय लोन न ...   \n",
       "...                                                    ...   \n",
       "1349847  respected sir मैं एक खिलाड़ी हूं और मेरा month...   \n",
       "1349848  सेवा में श्रीमान प्रधानमंत्री महोदय जी सविनय न...   \n",
       "1349849  नमस्कार। हमारी इक शिकायत है। हम जनसुनवाई पर फर...   \n",
       "1349850  आदरणीय मोदी जी आपको पुन विजय पर मेरे व परिवार ...   \n",
       "1349851  आदरणीय प्रधानमंत्री जी सर्वप्रथम आपको दुबारा प...   \n",
       "\n",
       "                                                histograms  \n",
       "0        [0.0, 0.0, 0.0, 0.0, 0.0, 0.0, 0.1535013899613...  \n",
       "1        [0.0, 0.0, 0.0, 0.0, 0.0, 0.0, 0.0593782980805...  \n",
       "2        [0.0, 0.0, 0.0, 0.0, 0.0, 0.0, 0.0834084519286...  \n",
       "3        [0.0, 0.0, 0.0, 0.0, 0.0, 0.0, 0.1200600450375...  \n",
       "4        [0.0, 0.0, 0.0, 0.0, 0.0, 0.0, 0.1623693389340...  \n",
       "...                                                    ...  \n",
       "1349847  [0.0, 0.0, 0.0, 0.0, 0.0, 0.0, 0.1726422682834...  \n",
       "1349848  [0.0, 0.0, 0.0, 0.0, 0.0, 0.0, 0.1867359553028...  \n",
       "1349849  [0.0, 0.0, 0.0, 0.0, 0.0, 0.0, 0.1130774081733...  \n",
       "1349850  [0.0, 0.0, 0.0, 0.0, 0.0, 0.013674274718610486...  \n",
       "1349851  [0.0, 0.0, 0.0, 0.0, 0.0, 0.01141534660572102,...  \n",
       "\n",
       "[1349852 rows x 2 columns]"
      ]
     },
     "execution_count": 8,
     "metadata": {},
     "output_type": "execute_result"
    }
   ],
   "source": [
    "df"
   ]
  },
  {
   "cell_type": "code",
   "execution_count": null,
   "metadata": {},
   "outputs": [],
   "source": [
    "# with open('df_non_roman_histograms.pkl', 'wb') as f:\n",
    "#     pickle.dump(df, f)"
   ]
  },
  {
   "cell_type": "code",
   "execution_count": null,
   "metadata": {},
   "outputs": [],
   "source": [
    "# with open('df_non_roman_histograms.pkl', 'rb') as f:\n",
    "#     df = pickle.load(f)"
   ]
  },
  {
   "cell_type": "code",
   "execution_count": null,
   "metadata": {},
   "outputs": [],
   "source": [
    "\n"
   ]
  },
  {
   "cell_type": "code",
   "execution_count": 7,
   "metadata": {},
   "outputs": [],
   "source": [
    "df.reset_index(drop=True, inplace=True)"
   ]
  },
  {
   "cell_type": "code",
   "execution_count": 8,
   "metadata": {},
   "outputs": [],
   "source": [
    "df = df.loc[ df.histograms.map(lambda x: ~np.isnan(x).any()), :]\n"
   ]
  },
  {
   "cell_type": "code",
   "execution_count": null,
   "metadata": {},
   "outputs": [],
   "source": [
    "# X=list(df['histograms'].values"
   ]
  },
  {
   "cell_type": "code",
   "execution_count": null,
   "metadata": {},
   "outputs": [],
   "source": [
    "# df['labels'] = mbkmeans_clusters(\n",
    "#     X=list(df['histograms'].values),\n",
    "#     k=clusters,\n",
    "# )"
   ]
  },
  {
   "cell_type": "code",
   "execution_count": 9,
   "metadata": {},
   "outputs": [],
   "source": [
    "from sklearn.cluster import MiniBatchKMeans\n",
    "\n",
    "kmeans = MiniBatchKMeans(n_clusters=8)\n",
    "labels = np.zeros(df.shape[0], dtype=np.int32)\n",
    "batch_size = 100000\n"
   ]
  },
  {
   "cell_type": "code",
   "execution_count": 10,
   "metadata": {},
   "outputs": [
    {
     "data": {
      "text/plain": [
       "1345493"
      ]
     },
     "execution_count": 10,
     "metadata": {},
     "output_type": "execute_result"
    }
   ],
   "source": [
    "len(labels)"
   ]
  },
  {
   "cell_type": "code",
   "execution_count": 11,
   "metadata": {},
   "outputs": [
    {
     "name": "stdout",
     "output_type": "stream",
     "text": [
      "0\n",
      "100000\n",
      "200000\n",
      "300000\n",
      "400000\n",
      "500000\n",
      "600000\n",
      "700000\n",
      "800000\n",
      "900000\n",
      "1000000\n",
      "1100000\n",
      "1200000\n",
      "1300000\n"
     ]
    }
   ],
   "source": [
    "\n",
    "# Loop through the remaining batches of data and update the model\n",
    "for i in range(0, len(df), batch_size):\n",
    "    print(i)\n",
    "    batch = list(df.loc[i:i+batch_size, 'histograms'])\n",
    "    kmeans.partial_fit(batch)\n",
    "    # print(len(batch_labels))\n",
    "    # labels[i:i+len(batch_labels)] = batch_labels\n",
    "    # X = list(df.loc[i:i+batch_size, 'histograms'])\n",
    "    # kmeans.partial_fit(X)"
   ]
  },
  {
   "cell_type": "code",
   "execution_count": 13,
   "metadata": {},
   "outputs": [],
   "source": [
    "df['labels'] = kmeans.predict(list(df.histograms.values))"
   ]
  },
  {
   "cell_type": "code",
   "execution_count": 17,
   "metadata": {},
   "outputs": [
    {
     "data": {
      "text/plain": [
       "1    414735\n",
       "3    323666\n",
       "6    309930\n",
       "7    204806\n",
       "2     58895\n",
       "0     12923\n",
       "5     11582\n",
       "4      8956\n",
       "Name: labels, dtype: int64"
      ]
     },
     "execution_count": 17,
     "metadata": {},
     "output_type": "execute_result"
    }
   ],
   "source": [
    "df.labels.value_counts()"
   ]
  },
  {
   "cell_type": "code",
   "execution_count": 25,
   "metadata": {},
   "outputs": [],
   "source": [
    "# Define the MiniBatchKMeans model with desired parameters\n",
    "# n_clusters = 8\n",
    "# batch_size = 100000\n",
    "# max_iter = 100\n",
    "# model = MiniBatchKMeans(n_clusters=n_clusters, batch_size=batch_size, max_iter=max_iter)\n",
    "\n",
    "# # Split the dataframe into batches and incrementally fit the model\n",
    "# for i, batch in enumerate(np.array_split(df.histograms.values.tolist(), len(df) // batch_size)):\n",
    "#     print(f\"Fitting batch {i}...\")\n",
    "#     model.partial_fit(batch)\n",
    "\n",
    "# # Predict the labels for the entire dataframe\n",
    "# labels = model.predict(df)\n",
    "\n",
    "# # Assign the predicted labels back to the original dataframe\n",
    "# df['labels'] = labels"
   ]
  },
  {
   "cell_type": "code",
   "execution_count": 16,
   "metadata": {},
   "outputs": [],
   "source": [
    "df[['subject_content', 'labels']].iloc[:5000, :].to_csv(\"out.csv\")"
   ]
  },
  {
   "cell_type": "code",
   "execution_count": null,
   "metadata": {},
   "outputs": [],
   "source": []
  },
  {
   "cell_type": "code",
   "execution_count": null,
   "metadata": {},
   "outputs": [],
   "source": []
  },
  {
   "cell_type": "code",
   "execution_count": null,
   "metadata": {},
   "outputs": [],
   "source": []
  },
  {
   "cell_type": "code",
   "execution_count": null,
   "metadata": {},
   "outputs": [],
   "source": []
  },
  {
   "cell_type": "code",
   "execution_count": null,
   "metadata": {},
   "outputs": [],
   "source": [
    "with open(\"km_non_roman.pkl\", \"wb\") as f:\n",
    "        pickle.dump(kmeans, f)"
   ]
  },
  {
   "cell_type": "code",
   "execution_count": null,
   "metadata": {},
   "outputs": [
    {
     "data": {
      "text/plain": [
       "array([7], dtype=int32)"
      ]
     },
     "execution_count": 44,
     "metadata": {},
     "output_type": "execute_result"
    }
   ],
   "source": [
    "kmeans.predict([freq(\"नि:शुल्क प्रदान की जाने वाली Google की सेवा, शब्दों, वाक्यांशों और वेब पेज का तुरंत अनुवाद करती है\")])"
   ]
  },
  {
   "cell_type": "code",
   "execution_count": null,
   "metadata": {},
   "outputs": [
    {
     "data": {
      "text/plain": [
       "49668"
      ]
     },
     "execution_count": 45,
     "metadata": {},
     "output_type": "execute_result"
    }
   ],
   "source": [
    "len(labels)"
   ]
  },
  {
   "cell_type": "code",
   "execution_count": 42,
   "metadata": {},
   "outputs": [
    {
     "ename": "ValueError",
     "evalue": "Length of values (49668) does not match length of index (1345493)",
     "output_type": "error",
     "traceback": [
      "\u001b[0;31m---------------------------------------------------------------------------\u001b[0m",
      "\u001b[0;31mValueError\u001b[0m                                Traceback (most recent call last)",
      "\u001b[1;32m/Users/joker/Library/CloudStorage/OneDrive-IITKanpur/Thesis/count_languages_devnagri/main_non_roman_hindi.ipynb Cell 41\u001b[0m in \u001b[0;36m<cell line: 1>\u001b[0;34m()\u001b[0m\n\u001b[0;32m----> <a href='vscode-notebook-cell:/Users/joker/Library/CloudStorage/OneDrive-IITKanpur/Thesis/count_languages_devnagri/main_non_roman_hindi.ipynb#X52sZmlsZQ%3D%3D?line=0'>1</a>\u001b[0m df[\u001b[39m'\u001b[39m\u001b[39mlabels\u001b[39m\u001b[39m'\u001b[39m] \u001b[39m=\u001b[39m kmeans\u001b[39m.\u001b[39mlabels_\n\u001b[1;32m      <a href='vscode-notebook-cell:/Users/joker/Library/CloudStorage/OneDrive-IITKanpur/Thesis/count_languages_devnagri/main_non_roman_hindi.ipynb#X52sZmlsZQ%3D%3D?line=1'>2</a>\u001b[0m df\u001b[39m.\u001b[39mlabels\u001b[39m.\u001b[39mvalue_counts()\n",
      "File \u001b[0;32m/opt/homebrew/Caskroom/miniforge/base/envs/mlp/lib/python3.8/site-packages/pandas/core/frame.py:3655\u001b[0m, in \u001b[0;36mDataFrame.__setitem__\u001b[0;34m(self, key, value)\u001b[0m\n\u001b[1;32m   3652\u001b[0m     \u001b[39mself\u001b[39m\u001b[39m.\u001b[39m_setitem_array([key], value)\n\u001b[1;32m   3653\u001b[0m \u001b[39melse\u001b[39;00m:\n\u001b[1;32m   3654\u001b[0m     \u001b[39m# set column\u001b[39;00m\n\u001b[0;32m-> 3655\u001b[0m     \u001b[39mself\u001b[39;49m\u001b[39m.\u001b[39;49m_set_item(key, value)\n",
      "File \u001b[0;32m/opt/homebrew/Caskroom/miniforge/base/envs/mlp/lib/python3.8/site-packages/pandas/core/frame.py:3832\u001b[0m, in \u001b[0;36mDataFrame._set_item\u001b[0;34m(self, key, value)\u001b[0m\n\u001b[1;32m   3822\u001b[0m \u001b[39mdef\u001b[39;00m \u001b[39m_set_item\u001b[39m(\u001b[39mself\u001b[39m, key, value) \u001b[39m-\u001b[39m\u001b[39m>\u001b[39m \u001b[39mNone\u001b[39;00m:\n\u001b[1;32m   3823\u001b[0m \u001b[39m    \u001b[39m\u001b[39m\"\"\"\u001b[39;00m\n\u001b[1;32m   3824\u001b[0m \u001b[39m    Add series to DataFrame in specified column.\u001b[39;00m\n\u001b[1;32m   3825\u001b[0m \n\u001b[0;32m   (...)\u001b[0m\n\u001b[1;32m   3830\u001b[0m \u001b[39m    ensure homogeneity.\u001b[39;00m\n\u001b[1;32m   3831\u001b[0m \u001b[39m    \"\"\"\u001b[39;00m\n\u001b[0;32m-> 3832\u001b[0m     value \u001b[39m=\u001b[39m \u001b[39mself\u001b[39;49m\u001b[39m.\u001b[39;49m_sanitize_column(value)\n\u001b[1;32m   3834\u001b[0m     \u001b[39mif\u001b[39;00m (\n\u001b[1;32m   3835\u001b[0m         key \u001b[39min\u001b[39;00m \u001b[39mself\u001b[39m\u001b[39m.\u001b[39mcolumns\n\u001b[1;32m   3836\u001b[0m         \u001b[39mand\u001b[39;00m value\u001b[39m.\u001b[39mndim \u001b[39m==\u001b[39m \u001b[39m1\u001b[39m\n\u001b[1;32m   3837\u001b[0m         \u001b[39mand\u001b[39;00m \u001b[39mnot\u001b[39;00m is_extension_array_dtype(value)\n\u001b[1;32m   3838\u001b[0m     ):\n\u001b[1;32m   3839\u001b[0m         \u001b[39m# broadcast across multiple columns if necessary\u001b[39;00m\n\u001b[1;32m   3840\u001b[0m         \u001b[39mif\u001b[39;00m \u001b[39mnot\u001b[39;00m \u001b[39mself\u001b[39m\u001b[39m.\u001b[39mcolumns\u001b[39m.\u001b[39mis_unique \u001b[39mor\u001b[39;00m \u001b[39misinstance\u001b[39m(\u001b[39mself\u001b[39m\u001b[39m.\u001b[39mcolumns, MultiIndex):\n",
      "File \u001b[0;32m/opt/homebrew/Caskroom/miniforge/base/envs/mlp/lib/python3.8/site-packages/pandas/core/frame.py:4535\u001b[0m, in \u001b[0;36mDataFrame._sanitize_column\u001b[0;34m(self, value)\u001b[0m\n\u001b[1;32m   4532\u001b[0m     \u001b[39mreturn\u001b[39;00m _reindex_for_setitem(value, \u001b[39mself\u001b[39m\u001b[39m.\u001b[39mindex)\n\u001b[1;32m   4534\u001b[0m \u001b[39mif\u001b[39;00m is_list_like(value):\n\u001b[0;32m-> 4535\u001b[0m     com\u001b[39m.\u001b[39;49mrequire_length_match(value, \u001b[39mself\u001b[39;49m\u001b[39m.\u001b[39;49mindex)\n\u001b[1;32m   4536\u001b[0m \u001b[39mreturn\u001b[39;00m sanitize_array(value, \u001b[39mself\u001b[39m\u001b[39m.\u001b[39mindex, copy\u001b[39m=\u001b[39m\u001b[39mTrue\u001b[39;00m, allow_2d\u001b[39m=\u001b[39m\u001b[39mTrue\u001b[39;00m)\n",
      "File \u001b[0;32m/opt/homebrew/Caskroom/miniforge/base/envs/mlp/lib/python3.8/site-packages/pandas/core/common.py:557\u001b[0m, in \u001b[0;36mrequire_length_match\u001b[0;34m(data, index)\u001b[0m\n\u001b[1;32m    553\u001b[0m \u001b[39m\u001b[39m\u001b[39m\"\"\"\u001b[39;00m\n\u001b[1;32m    554\u001b[0m \u001b[39mCheck the length of data matches the length of the index.\u001b[39;00m\n\u001b[1;32m    555\u001b[0m \u001b[39m\"\"\"\u001b[39;00m\n\u001b[1;32m    556\u001b[0m \u001b[39mif\u001b[39;00m \u001b[39mlen\u001b[39m(data) \u001b[39m!=\u001b[39m \u001b[39mlen\u001b[39m(index):\n\u001b[0;32m--> 557\u001b[0m     \u001b[39mraise\u001b[39;00m \u001b[39mValueError\u001b[39;00m(\n\u001b[1;32m    558\u001b[0m         \u001b[39m\"\u001b[39m\u001b[39mLength of values \u001b[39m\u001b[39m\"\u001b[39m\n\u001b[1;32m    559\u001b[0m         \u001b[39mf\u001b[39m\u001b[39m\"\u001b[39m\u001b[39m(\u001b[39m\u001b[39m{\u001b[39;00m\u001b[39mlen\u001b[39m(data)\u001b[39m}\u001b[39;00m\u001b[39m) \u001b[39m\u001b[39m\"\u001b[39m\n\u001b[1;32m    560\u001b[0m         \u001b[39m\"\u001b[39m\u001b[39mdoes not match length of index \u001b[39m\u001b[39m\"\u001b[39m\n\u001b[1;32m    561\u001b[0m         \u001b[39mf\u001b[39m\u001b[39m\"\u001b[39m\u001b[39m(\u001b[39m\u001b[39m{\u001b[39;00m\u001b[39mlen\u001b[39m(index)\u001b[39m}\u001b[39;00m\u001b[39m)\u001b[39m\u001b[39m\"\u001b[39m\n\u001b[1;32m    562\u001b[0m     )\n",
      "\u001b[0;31mValueError\u001b[0m: Length of values (49668) does not match length of index (1345493)"
     ]
    }
   ],
   "source": [
    "df['labels'] = labels\n",
    "df.labels.value_counts()"
   ]
  },
  {
   "cell_type": "code",
   "execution_count": null,
   "metadata": {},
   "outputs": [],
   "source": [
    "df"
   ]
  },
  {
   "cell_type": "code",
   "execution_count": null,
   "metadata": {},
   "outputs": [],
   "source": [
    "df[df.labels == 2].subject_content.to_csv(\"/Volumes/olaaaa/Thesis_backup/count_languages_devnagri/scripts/\"+str(2)+\".csv\")"
   ]
  },
  {
   "cell_type": "code",
   "execution_count": null,
   "metadata": {},
   "outputs": [],
   "source": [
    "for i in range(clusters):\n",
    "    print(df[df.labels == i])\n",
    "    df[df.labels == i].subject_content.to_csv(\"/Volumes/olaaaa/Thesis_backup/count_languages_devnagri/scripts/\"+str(i)+\".csv\")"
   ]
  },
  {
   "cell_type": "code",
   "execution_count": null,
   "metadata": {},
   "outputs": [],
   "source": []
  },
  {
   "cell_type": "code",
   "execution_count": null,
   "metadata": {},
   "outputs": [],
   "source": [
    "with open(\"km_non_roman_non_devnagri.pkl\", \"rb\") as f:\n",
    "        model = pickle.load(f)"
   ]
  },
  {
   "cell_type": "code",
   "execution_count": null,
   "metadata": {},
   "outputs": [],
   "source": [
    "model.predict([freq(\"તમે મહાભારત કે રામાયણ માં શહીદ શબ્દ સાંભળ્યો આ શહીદ શબ્દ ઇસ્લામિક છે શહીદ એનેજ કહેવાય જે ઇસ્લામ માટે જેહાદ કરતા મર્યો હોય પણ અજ્ઞાન વશ આજે આપણે વીર જવાનો ને શહીદ શહીદ કહીએ છીએ જે યોગ્ય નથી આ ઉલટી પ્રથા બદલવી પડશે આ ગ્રુપ થી શરૂઆત કરીએ હવે કોઈ વીર જવાન ને શહિદ થયો એમ નહિ કહે વીરગતિ ને પ્રાપ્ત થયો તેમ જ કહેવાનું જ્યારથી શહીદ શબ્દ નો અર્થ સમજ્યો છું ત્યારથી હું શહીદ શબ્દ નો ઉપયોગ કરવાનું ટાલુ છું\"),\\\n",
    "    freq(\"ಆತ್ಮೀಯ ಪ್ರಧಾನ ಮಂತ್ರಿಯವರಿಗೆ ನಾನೂ ಹೇಳುಹುದೇನೆಂದರೆ ತುಂಬಾ ಜನರಿಗೆ ಗೊತ್ತಿಲ್ಲ ಯಾವುವು ಭಾರತ ದೇಶದ ಉತ್ಪನ್ನಗಳು\"),\n",
    "    freq(\"உலகின் மிகப்பெரிய அணையின் பெயர் என்ன\")])"
   ]
  },
  {
   "cell_type": "code",
   "execution_count": null,
   "metadata": {},
   "outputs": [],
   "source": [
    "model.predict([freq(\"તમે મહાભારત કે રામાયણ માં શહીદ શબ્દ સાંભળ્યો આ શહીદ શબ્દ ઇસ્લામિક છે શહીદ એનેજ કહેવાય જે ઇસ્લામ માટે જેહાદ કરતા મર્યો હોય પણ અજ્ઞાન વશ આજે આપણે વીર જવાનો ને શહીદ શહીદ કહીએ છીએ જે યોગ્ય નથી આ ઉલટી પ્રથા બદલવી પડશે આ ગ્રુપ થી શરૂઆત કરીએ હવે કોઈ વીર જવાન ને શહિદ થયો એમ નહિ કહે વીરગતિ ને પ્રાપ્ત થયો તેમ જ કહેવાનું જ્યારથી શહીદ શબ્દ નો અર્થ સમજ્યો છું ત્યારથી હું શહીદ શબ્દ નો ઉપયોગ કરવાનું ટાલુ છું\"),\\\n",
    "    freq(\"ಆತ್ಮೀಯ ಪ್ರಧಾನ ಮಂತ್ರಿಯವರಿಗೆ ನಾನೂ ಹೇಳುಹುದೇನೆಂದರೆ ತುಂಬಾ ಜನರಿಗೆ ಗೊತ್ತಿಲ್ಲ ಯಾವುವು ಭಾರತ ದೇಶದ ಉತ್ಪನ್ನಗಳು\"),\n",
    "    freq(\"உலகின் மிகப்பெரிய அணையின் பெயர் என்ன\")])"
   ]
  },
  {
   "attachments": {},
   "cell_type": "markdown",
   "metadata": {},
   "source": [
    "## to update with new data"
   ]
  },
  {
   "cell_type": "code",
   "execution_count": null,
   "metadata": {},
   "outputs": [],
   "source": [
    "model = model.partial_fit([freq(\"તમે મહાભારત કે રામાયણ માં શહીદ શબ્દ સાંભળ્યો આ શહીદ શબ્દ ઇસ્લામિક છે શહીદ એનેજ કહેવાય જે ઇસ્લામ માટે જેહાદ કરતા મર્યો હોય પણ અજ્ઞાન વશ આજે આપણે વીર જવાનો ને શહીદ શહીદ કહીએ છીએ જે યોગ્ય નથી આ ઉલટી પ્રથા બદલવી પડશે આ ગ્રુપ થી શરૂઆત કરીએ હવે કોઈ વીર જવાન ને શહિદ થયો એમ નહિ કહે વીરગતિ ને પ્રાપ્ત થયો તેમ જ કહેવાનું જ્યારથી શહીદ શબ્દ નો અર્થ સમજ્યો છું ત્યારથી હું શહીદ શબ્દ નો ઉપયોગ કરવાનું ટાલુ છું\"),\\\n",
    "    freq(\"ಆತ್ಮೀಯ ಪ್ರಧಾನ ಮಂತ್ರಿಯವರಿಗೆ ನಾನೂ ಹೇಳುಹುದೇನೆಂದರೆ ತುಂಬಾ ಜನರಿಗೆ ಗೊತ್ತಿಲ್ಲ ಯಾವುವು ಭಾರತ ದೇಶದ ಉತ್ಪನ್ನಗಳು\"),\n",
    "    freq(\"உலகின் மிகப்பெரிய அணையின் பெயர் என்ன\")])"
   ]
  },
  {
   "attachments": {},
   "cell_type": "markdown",
   "metadata": {},
   "source": [
    "### iske baad save again with same name"
   ]
  },
  {
   "cell_type": "code",
   "execution_count": null,
   "metadata": {},
   "outputs": [],
   "source": []
  }
 ],
 "metadata": {
  "kernelspec": {
   "display_name": "Python 3.9.5 64-bit",
   "language": "python",
   "name": "python3"
  },
  "language_info": {
   "codemirror_mode": {
    "name": "ipython",
    "version": 3
   },
   "file_extension": ".py",
   "mimetype": "text/x-python",
   "name": "python",
   "nbconvert_exporter": "python",
   "pygments_lexer": "ipython3",
   "version": "3.9.5"
  },
  "orig_nbformat": 4,
  "vscode": {
   "interpreter": {
    "hash": "f9f85f796d01129d0dd105a088854619f454435301f6ffec2fea96ecbd9be4ac"
   }
  }
 },
 "nbformat": 4,
 "nbformat_minor": 2
}
