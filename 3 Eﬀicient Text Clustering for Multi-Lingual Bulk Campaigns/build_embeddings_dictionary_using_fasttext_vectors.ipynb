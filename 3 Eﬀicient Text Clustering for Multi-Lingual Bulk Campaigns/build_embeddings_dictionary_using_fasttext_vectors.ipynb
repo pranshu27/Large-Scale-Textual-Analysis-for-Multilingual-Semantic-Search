{
 "cells": [
  {
   "cell_type": "code",
   "execution_count": 5,
   "metadata": {},
   "outputs": [],
   "source": [
    "import os\n",
    "import gensim\n",
    "import pickle\n",
    "import _pickle as cPickle\n",
    "\n",
    "import numpy as np\n",
    "import re\n",
    "import string\n",
    "import gensim\n",
    "import tensorflow as tf\n",
    "from tensorflow.keras.preprocessing.text import Tokenizer\n",
    "from tensorflow.keras.preprocessing.sequence import pad_sequences\n"
   ]
  },
  {
   "cell_type": "code",
   "execution_count": 9,
   "metadata": {},
   "outputs": [],
   "source": [
    "\n",
    "\n",
    "# specify the path to the folder containing the .vec files\n",
    "folder_path = '/Volumes/olaaaa/Thesis_backup/bulk/tmp_downloads/word_vectors'\n",
    "\n",
    "# create an empty dictionary to store the embeddings\n",
    "embeddings_dict = {}\n",
    "\n",
    "# loop through all the files in the folder\n",
    "for file_name in os.listdir(folder_path):\n",
    "    # check if the file is a .vec file\n",
    "    if file_name.endswith('.vec'):\n",
    "        # construct the full path to the file\n",
    "        file_path = os.path.join(folder_path, file_name)\n",
    "        \n",
    "        # use gensim to load the embeddings from the file\n",
    "        model = gensim.models.KeyedVectors.load_word2vec_format(file_path, binary=False)\n",
    "        \n",
    "        # add the embeddings to the dictionary, using the file name as the key\n",
    "        embeddings_dict[file_name] = model\n"
   ]
  },
  {
   "cell_type": "code",
   "execution_count": 15,
   "metadata": {},
   "outputs": [],
   "source": [
    "\n",
    "# with open('embeddings_dict.pkl', 'wb') as f:\n",
    "#     cPickle.dump(embeddings_dict, f, protocol=pickle.HIGHEST_PROTOCOL)\n"
   ]
  },
  {
   "cell_type": "code",
   "execution_count": 2,
   "metadata": {},
   "outputs": [
    {
     "name": "stdout",
     "output_type": "stream",
     "text": [
      "{'wiki.or.vec': <gensim.models.keyedvectors.KeyedVectors object at 0x1187506a0>, 'wiki.kn.vec': <gensim.models.keyedvectors.KeyedVectors object at 0x118794280>, 'wiki.pa.vec': <gensim.models.keyedvectors.KeyedVectors object at 0x1187947c0>, 'wiki.hi.vec': <gensim.models.keyedvectors.KeyedVectors object at 0x1187948e0>, 'wiki.en.vec': <gensim.models.keyedvectors.KeyedVectors object at 0x1187942b0>, 'wiki.gu.vec': <gensim.models.keyedvectors.KeyedVectors object at 0x118794820>, 'wiki.te.vec': <gensim.models.keyedvectors.KeyedVectors object at 0x1187945b0>, 'wiki.ta.vec': <gensim.models.keyedvectors.KeyedVectors object at 0x1187943d0>, 'wiki.bn.vec': <gensim.models.keyedvectors.KeyedVectors object at 0x118794970>}\n"
     ]
    }
   ],
   "source": [
    "with open(\"embeddings_dict.pkl\", \"rb\") as f:\n",
    "    embeddings_dict = cPickle.load(f)\n",
    "\n",
    "print(embeddings_dict)"
   ]
  },
  {
   "cell_type": "code",
   "execution_count": 16,
   "metadata": {},
   "outputs": [],
   "source": [
    "# create a tokenizer to split the code-mixed sentences into tokens\n",
    "tokenizer = Tokenizer(filters='', lower=False)\n",
    "                \n",
    "def generate_embedding(sentence):\n",
    "    # split the sentence into tokens\n",
    "    tokens = re.findall(r\"[\\w']+|[^\\w\\s]\", sentence, re.UNICODE)\n",
    "    \n",
    "    # create a list to store the embeddings for each token\n",
    "    embeddings = []\n",
    "    \n",
    "    # loop through each token in the sentence\n",
    "    for token in tokens:\n",
    "        # check if the token is a punctuation mark\n",
    "        if token in string.punctuation:\n",
    "            # skip punctuation marks\n",
    "            continue\n",
    "        \n",
    "        # check if the token is in any of the language models\n",
    "        found = False\n",
    "        for lang_code in embeddings_dict.keys():\n",
    "            if token in embeddings_dict[lang_code]:\n",
    "                # get the embedding for the token in the appropriate language model\n",
    "                embedding = embeddings_dict[lang_code][token]\n",
    "                \n",
    "                # add the embedding to the list\n",
    "                embeddings.append(embedding)\n",
    "                \n",
    "                # mark the token as found in a language model\n",
    "                found = True\n",
    "        \n",
    "        # if the token was not found in any language model, skip it\n",
    "        if not found:\n",
    "            continue\n",
    "    \n",
    "    # create a 300d vector by taking the average of the embeddings\n",
    "    if len(embeddings) > 0:\n",
    "        embeddings = np.array(embeddings)\n",
    "        vector = np.mean(embeddings, axis=0)\n",
    "    else:\n",
    "        vector = np.zeros(300)\n",
    "    \n",
    "    return vector\n",
    "\n"
   ]
  },
  {
   "cell_type": "code",
   "execution_count": 17,
   "metadata": {},
   "outputs": [
    {
     "name": "stdout",
     "output_type": "stream",
     "text": [
      "Time taken to generate embeddings for 9 sentences: 0.02 seconds\n"
     ]
    }
   ],
   "source": [
    "import time\n",
    "\n",
    "# generate 1000 random code-mixed sentences\n",
    "sentences = [\n",
    "    'I am ગુજરાતી and தமிழ் பேசுவேன்',\n",
    "    'मेरा नाम रवि है and I love ಕನ್ನಡ',\n",
    "    'আমি একটি বাংলা ভাষা and నాకు తెలుగు మాట్లాడాలి',\n",
    "    'My name is John and मैं हिंदी बोलता हूँ',\n",
    "    'தமிழ் எனக்கு பிடித்தது and ಕನ್ನಡ ಸುಂದರ ಭಾಷೆ',\n",
    "    'నేను తెలుగువాడు and আমি বাংলা বলতে পারি',\n",
    "    'मी मराठी बोलतो आणि ನನಗೆ ಕನ್ನಡ ಗೊತ್ತಿದೆ',\n",
    "    'আমি বাঙালি এবং నేను తెలుగు మాట్లాడుతున్నాను and தமிழ் அறிவேன்',\n",
    "    'ನಾನು ಕನ್ನಡವನ್ನು ಮಾತನಾಡುತ್ತೇನೆ and मैं हिंदी बोलता हूँ'\n",
    "]\n",
    "\n",
    "# create a list to store the embeddings for each sentence\n",
    "embeddings = []\n",
    "\n",
    "# record the start time\n",
    "start_time = time.time()\n",
    "\n",
    "# loop through each sentence and generate the embedding\n",
    "for sentence in sentences:\n",
    "    embedding = generate_embedding(sentence)\n",
    "    embeddings.append(embedding)\n",
    "\n",
    "# record the end time\n",
    "end_time = time.time()\n",
    "\n",
    "# calculate the time taken to generate embeddings for all the sentences\n",
    "time_taken = end_time - start_time\n",
    "\n",
    "print(f'Time taken to generate embeddings for {len(sentences)} sentences: {time_taken:.2f} seconds')\n"
   ]
  },
  {
   "cell_type": "code",
   "execution_count": 20,
   "metadata": {},
   "outputs": [
    {
     "data": {
      "text/plain": [
       "(300,)"
      ]
     },
     "execution_count": 20,
     "metadata": {},
     "output_type": "execute_result"
    }
   ],
   "source": []
  },
  {
   "cell_type": "code",
   "execution_count": null,
   "metadata": {},
   "outputs": [],
   "source": []
  },
  {
   "cell_type": "code",
   "execution_count": 5,
   "metadata": {},
   "outputs": [
    {
     "name": "stdout",
     "output_type": "stream",
     "text": [
      "(300,)\n"
     ]
    }
   ],
   "source": [
    "embedding = model['સંસ્કૃત']\n",
    "print(embedding.shape)"
   ]
  }
 ],
 "metadata": {
  "kernelspec": {
   "display_name": "Python 3",
   "language": "python",
   "name": "python3"
  },
  "language_info": {
   "codemirror_mode": {
    "name": "ipython",
    "version": 3
   },
   "file_extension": ".py",
   "mimetype": "text/x-python",
   "name": "python",
   "nbconvert_exporter": "python",
   "pygments_lexer": "ipython3",
   "version": "3.8.10 (default, Mar 13 2023, 10:26:41) \n[GCC 9.4.0]"
  },
  "orig_nbformat": 4,
  "vscode": {
   "interpreter": {
    "hash": "31f2aee4e71d21fbe5cf8b01ff0e069b9275f58929596ceb00d14d90e3e16cd6"
   }
  }
 },
 "nbformat": 4,
 "nbformat_minor": 2
}
