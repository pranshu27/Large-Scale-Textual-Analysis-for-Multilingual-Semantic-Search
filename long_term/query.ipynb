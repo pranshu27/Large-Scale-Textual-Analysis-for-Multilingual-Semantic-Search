{
 "cells": [
  {
   "cell_type": "code",
   "execution_count": 1,
   "metadata": {},
   "outputs": [],
   "source": [
    "import pyw_hnswlib as hnswlib\n",
    "import numpy as np\n",
    "from sentence_transformers import SentenceTransformer\n",
    "import torch\n",
    "import pandas as pd\n",
    "import pickle\n",
    "import matplotlib.pyplot as plt\n",
    "from matplotlib.backends.backend_pdf import PdfPages\n",
    "import re\n",
    "import string\n",
    "\n",
    "import os"
   ]
  },
  {
   "cell_type": "code",
   "execution_count": null,
   "metadata": {},
   "outputs": [],
   "source": []
  },
  {
   "cell_type": "code",
   "execution_count": 3,
   "metadata": {},
   "outputs": [],
   "source": [
    "index_file_path = \"/home/installer/ps/hnsw_backup/my_index\"\n",
    "\n",
    "\n",
    "# Load index from binary file\n",
    "index = hnswlib.Index(space='l2', dim=768)\n",
    "index.load_index(index_file_path)"
   ]
  },
  {
   "cell_type": "code",
   "execution_count": 4,
   "metadata": {},
   "outputs": [],
   "source": [
    "\n",
    "# device = \"cpu\"\n",
    "# # from sentence_transformers import SentenceTransformer\n",
    "\n",
    "# model_salesken = SentenceTransformer(\"salesken/similarity-eng-hin_latin\")\n"
   ]
  },
  {
   "cell_type": "code",
   "execution_count": 2,
   "metadata": {},
   "outputs": [],
   "source": [
    "# Load the model from a pickle file\n",
    "with open('model_salesken.pkl', 'rb') as f:\n",
    "    model_salesken = pickle.load(f)"
   ]
  },
  {
   "cell_type": "code",
   "execution_count": 5,
   "metadata": {},
   "outputs": [],
   "source": [
    "\n",
    "# Save the model to a pickle file\n",
    "with open('model_salesken.pkl', 'wb') as f:\n",
    "    pickle.dump(model_salesken, f)"
   ]
  },
  {
   "cell_type": "code",
   "execution_count": null,
   "metadata": {},
   "outputs": [],
   "source": []
  },
  {
   "cell_type": "code",
   "execution_count": null,
   "metadata": {},
   "outputs": [],
   "source": []
  },
  {
   "cell_type": "code",
   "execution_count": 3,
   "metadata": {},
   "outputs": [],
   "source": [
    "r = pd.read_csv('data/chunk0.csv',  header = None, nrows = 1, low_memory=False)"
   ]
  },
  {
   "cell_type": "code",
   "execution_count": null,
   "metadata": {},
   "outputs": [],
   "source": []
  },
  {
   "cell_type": "code",
   "execution_count": 7,
   "metadata": {},
   "outputs": [],
   "source": [
    "# Load the pandas dataframe\n",
    "df1 = pd.read_csv('data/chunk0.csv',  header = None, low_memory=False)\n",
    "df2 = pd.read_csv('data/chunk1.csv', header = None, low_memory=False)\n",
    "df = pd.concat([df1, df2])\n",
    "\n",
    "\n"
   ]
  },
  {
   "cell_type": "code",
   "execution_count": 8,
   "metadata": {},
   "outputs": [],
   "source": [
    "\n",
    "df = df[[0,21]]\n",
    "df.columns = ['reg_no', 'subject_content']"
   ]
  },
  {
   "cell_type": "code",
   "execution_count": 9,
   "metadata": {},
   "outputs": [],
   "source": [
    "# df.subject_content.to_csv(\"tmp.csv\")"
   ]
  },
  {
   "cell_type": "code",
   "execution_count": 10,
   "metadata": {},
   "outputs": [],
   "source": [
    "\n",
    "# Function to split text into lines with maximum words_per_line words per line\n",
    "def split_text_to_lines(text, words_per_line=20):\n",
    "    words = text.split()\n",
    "    lines = []\n",
    "    line = []\n",
    "    for word in words:\n",
    "        line.append(word)\n",
    "        if len(line) == words_per_line:\n",
    "            lines.append(' '.join(line))\n",
    "            line = []\n",
    "    if line:\n",
    "        lines.append(' '.join(line))\n",
    "    return '\\n'.join(lines)\n",
    "\n"
   ]
  },
  {
   "cell_type": "code",
   "execution_count": 11,
   "metadata": {},
   "outputs": [],
   "source": [
    "with open('final_wording.pkl', 'rb') as f:\n",
    "    final_wording = pickle.load(f)"
   ]
  },
  {
   "cell_type": "code",
   "execution_count": 12,
   "metadata": {},
   "outputs": [],
   "source": [
    "\n",
    "def clean_text(text):\n",
    "    \"\"\"\n",
    "    Preprocess textual data by performing the following steps:\n",
    "    1. Remove punctuation\n",
    "    2. Convert text to lowercase\n",
    "    3. Remove digits and special characters\n",
    "    4. Remove extra whitespaces\n",
    "    \"\"\"\n",
    "    if not isinstance(text, (str, bytes)):\n",
    "        return text\n",
    "    \n",
    "    # remove links\n",
    "    text = re.sub(r'http\\S+', '', text)\n",
    "    # Remove punctuation\n",
    "    text = text.translate(str.maketrans('', '', string.punctuation))\n",
    "    \n",
    "    # Convert to lowercase\n",
    "    text = text.lower()\n",
    "    \n",
    "    # Remove digits and special characters\n",
    "    text = re.sub(r'\\d+', '', text)\n",
    "    \n",
    "    text = re.sub(r'[^\\w\\s]', '', text)\n",
    "    \n",
    "    # Remove extra whitespaces\n",
    "    text = re.sub(r'\\s+', ' ', text).strip()\n",
    "    \n",
    "    # Correct Roman words using the predefined dictionary\n",
    "    words = text.split()\n",
    "    for i in range(len(words)):\n",
    "        if words[i] in final_wording:\n",
    "            words[i] = final_wording[words[i]]\n",
    "    text = ' '.join(words)\n",
    "    \n",
    "    return text"
   ]
  },
  {
   "cell_type": "code",
   "execution_count": 16,
   "metadata": {},
   "outputs": [
    {
     "name": "stderr",
     "output_type": "stream",
     "text": [
      "/tmp/ipykernel_1255574/824235642.py:12: SettingWithCopyWarning: \n",
      "A value is trying to be set on a copy of a slice from a DataFrame.\n",
      "Try using .loc[row_indexer,col_indexer] = value instead\n",
      "\n",
      "See the caveats in the documentation: https://pandas.pydata.org/pandas-docs/stable/user_guide/indexing.html#returning-a-view-versus-a-copy\n",
      "  out[col] = out[col].apply(split_text_to_lines)\n",
      "/tmp/ipykernel_1255574/824235642.py:12: SettingWithCopyWarning: \n",
      "A value is trying to be set on a copy of a slice from a DataFrame.\n",
      "Try using .loc[row_indexer,col_indexer] = value instead\n",
      "\n",
      "See the caveats in the documentation: https://pandas.pydata.org/pandas-docs/stable/user_guide/indexing.html#returning-a-view-versus-a-copy\n",
      "  out[col] = out[col].apply(split_text_to_lines)\n"
     ]
    }
   ],
   "source": [
    "\n",
    "# Query the index\n",
    "query = 'tax frauds in many states'\n",
    "query_embedding = model_salesken.encode(clean_text(query))\n",
    "labels, distances = index.knn_query(query_embedding, k=25)\n",
    "\n",
    "out  = df[df.reg_no.isin(labels[0])]\n",
    "# print(\"here\")\n",
    "# print(out.head(20))\n",
    "\n",
    "# Apply the split_text_to_lines function to all columns in the DataFrame\n",
    "for col in out.columns:\n",
    "    out[col] = out[col].apply(split_text_to_lines)\n",
    "\n",
    "# # Call the function to create the PDF report\n",
    "# create_pdf_report(out, 'report.pdf')\n",
    "    \n",
    "out.to_csv(query+\".csv\", index=False, lineterminator='\\r\\n\\n')\n",
    "    \n",
    "    "
   ]
  },
  {
   "cell_type": "code",
   "execution_count": null,
   "metadata": {},
   "outputs": [],
   "source": []
  },
  {
   "cell_type": "code",
   "execution_count": null,
   "metadata": {},
   "outputs": [],
   "source": []
  }
 ],
 "metadata": {
  "kernelspec": {
   "display_name": "Python 3.8.16 ('ps')",
   "language": "python",
   "name": "python3"
  },
  "language_info": {
   "codemirror_mode": {
    "name": "ipython",
    "version": 3
   },
   "file_extension": ".py",
   "mimetype": "text/x-python",
   "name": "python",
   "nbconvert_exporter": "python",
   "pygments_lexer": "ipython3",
   "version": "3.9.16"
  },
  "orig_nbformat": 4,
  "vscode": {
   "interpreter": {
    "hash": "db07cf3586e4a3d517105e23490166b0186d57892d50b74d9e1d6eda510229fd"
   }
  }
 },
 "nbformat": 4,
 "nbformat_minor": 2
}
